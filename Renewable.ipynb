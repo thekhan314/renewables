{
 "metadata": {
  "language_info": {
   "codemirror_mode": {
    "name": "ipython",
    "version": 3
   },
   "file_extension": ".py",
   "mimetype": "text/x-python",
   "name": "python",
   "nbconvert_exporter": "python",
   "pygments_lexer": "ipython3",
   "version": "3.8.5"
  },
  "orig_nbformat": 2,
  "kernelspec": {
   "name": "python385jvsc74a57bd04a89d834f181da135a83e9734ffdcaaf33420f492c3282f1c3fbdbf98351b290",
   "display_name": "Python 3.8.5 64-bit ('base': conda)"
  },
  "metadata": {
   "interpreter": {
    "hash": "4a89d834f181da135a83e9734ffdcaaf33420f492c3282f1c3fbdbf98351b290"
   }
  }
 },
 "nbformat": 4,
 "nbformat_minor": 2,
 "cells": [
  {
   "source": [
    "# SDG 7\n"
   ],
   "cell_type": "markdown",
   "metadata": {}
  },
  {
   "source": [
    "1. Ensure access to affordable reliable modern energy\n",
    "2. Increaase substantially the share of renewable energy \n",
    "3. Double rate of improvement in final energy consumption\n",
    "4. "
   ],
   "cell_type": "markdown",
   "metadata": {}
  },
  {
   "source": [
    "https://www.forbes.com/sites/joshuarhodes/2020/09/25/even-renewables-are-bigger-in-texas/?sh=43b2253c6a9a\n",
    "https://www.eia.gov/todayinenergy/detail.php?id=40252\n",
    "https://www.eia.gov/state/rankings/#/series/51\n",
    "\n",
    "decline of coal?"
   ],
   "cell_type": "markdown",
   "metadata": {}
  },
  {
   "cell_type": "code",
   "execution_count": 2,
   "metadata": {},
   "outputs": [
    {
     "output_type": "stream",
     "name": "stdout",
     "text": [
      "Requirement already satisfied: plotly in /home/umar/anaconda3/lib/python3.8/site-packages (4.14.3)\nRequirement already satisfied: six in /home/umar/anaconda3/lib/python3.8/site-packages (from plotly) (1.15.0)\nRequirement already satisfied: retrying>=1.3.3 in /home/umar/anaconda3/lib/python3.8/site-packages (from plotly) (1.3.3)\n"
     ]
    }
   ],
   "source": [
    "from data_functions import EIA_Series\n",
    "import seaborn as sns\n",
    "!pip install plotly\n",
    "import plotly as plt\n",
    "import plotly_express as px\n"
   ]
  },
  {
   "source": [
    "#  Texas - All renewables\n"
   ],
   "cell_type": "markdown",
   "metadata": {}
  },
  {
   "cell_type": "code",
   "execution_count": 35,
   "metadata": {},
   "outputs": [],
   "source": [
    "all_series = {\n",
    "    'us':{\n",
    "        'all':'ELEC.GEN.ALL-US-99.A ',\n",
    "        'wind':'ELEC.GEN.WND-US-99.A',\n",
    "        'solar':'ELEC.GEN.TSN-US-99.A',\n",
    "        'natgas':'ELEC.GEN.NG-US-99.A',\n",
    "        'nuclear':'ELEC.GEN.NUC-US-99.A ',\n",
    "        'coal':'ELEC.GEN.COW-US-99.A'\n",
    "    },\n",
    "    'tx':{\n",
    "        'all':'ELEC.GEN.ALL-TX-99.A ',\n",
    "        'wind':'ELEC.GEN.WND-TX-99.A',\n",
    "        'solar':'ELEC.GEN.TSN-TX-99.A',\n",
    "        'natgas':'ELEC.GEN.NG-TX-99.A',\n",
    "        'nuclear':'ELEC.GEN.NUC-TX-99.A',\n",
    "        'coal':'ELEC.GEN.COW-TX-99.A'\n",
    "    },\n",
    "    'ca':{\n",
    "        'all':'ELEC.GEN.ALL-CA-99.A',\n",
    "        'wind':'ELEC.GEN.WND-CA-99.A',\n",
    "        'solar':'ELEC.GEN.TSN-CA-99.A',\n",
    "        'natgas':'ELEC.GEN.NG-CA-99.A',\n",
    "        'nuclear':'ELEC.GEN.NUC-CA-99.A',\n",
    "        'coal':'ELEC.GEN.COW-CA-99.A'\n",
    "\n",
    "    },\n",
    "    'ny':{\n",
    "        'all':'ELEC.GEN.ALL-NY-99.A',\n",
    "        'wind':'ELEC.GEN.WND-NY-99.A',\n",
    "        'solar':'ELEC.GEN.TSN-NY-99.A',\n",
    "        'natgas':'ELEC.GEN.NG-NY-99.A ',\n",
    "        'nuclear':'ELEC.GEN.NUC-NY-99.A',\n",
    "        'coal':'ELEC.GEN.COW-NY-99.A'\n",
    "    },\n",
    "    'fl':{\n",
    "        'all':'ELEC.GEN.ALL-FL-99.A',\n",
    "        'wind':'ELEC.GEN.WND-FL-99.A',\n",
    "        'solar':'ELEC.GEN.TSN-FL-99.A',\n",
    "        'natgas':'ELEC.GEN.NG-FL-99.A',\n",
    "        'nuclear':'ELEC.GEN.NUC-FL-99.A',\n",
    "        'coal':'ELEC.GEN.COW-FL-99.A'\n",
    "\n",
    "    },\n",
    "    'iw':{\n",
    "        'all':'ELEC.GEN.ALL-IA-99.A',\n",
    "        'wind':'ELEC.GEN.WND-IA-99.A',\n",
    "        'solar':'ELEC.GEN.TSN-IA-99.A',\n",
    "        'natgas':'ELEC.GEN.NG-IA-99.A',\n",
    "        'nuclear':'ELEC.GEN.NUC-IA-99.A',\n",
    "        'coal':'ELEC.GEN.COW-IA-99.A'\n",
    "\n",
    "    }\n",
    "\n",
    "}"
   ]
  },
  {
   "cell_type": "code",
   "execution_count": null,
   "metadata": {},
   "outputs": [],
   "source": [
    "master = {}\n",
    "states = ['US','TX','CA','NY','FL','IA','PA']\n",
    "sources = ['ALL','WND','TSN','NG','NUC','COW','HYC']"
   ]
  },
  {
   "cell_type": "code",
   "execution_count": 36,
   "metadata": {},
   "outputs": [],
   "source": [
    "import pandas as pd\n",
    "regions = pd.DataFrame()\n",
    "wind_abs = pd.DataFrame()\n",
    "wind_perc = pd.DataFrame()\n",
    "solar_abs = pd.DataFrame()\n",
    "solar_perc = pd.DataFrame()\n",
    "natgas_perc = pd.DataFrame()\n",
    "\n",
    "sources = ['all','wind','solar','natgas','nuclear','coal']\n",
    "\n",
    "for key,item in all_series.items():\n",
    "\n",
    "    eia_classes = {}\n",
    "\n",
    "    for source in sources:\n",
    "        eia_classes[source] = EIA_Series(item[source],name = key,date_format='%Y')\n",
    "\n",
    "        try:\n",
    "            regions.loc[key,source] = eia_classes[source].frame.loc['2020-01-01',key]\n",
    "        except:\n",
    "            regions.loc[key,source] = 0\n",
    "\n",
    "    wind_abs[key] = eia_classes['wind'].frame[key]\n",
    "    wind_perc[key] = (eia_classes['wind'].frame[key]/eia_classes['all'].frame[key])*100\n",
    "    solar_abs[key] = eia_classes['solar'].frame[key]\n",
    "    solar_perc[key] = (eia_classes['solar'].frame[key]/eia_classes['all'].frame[key])*100\n",
    "\n",
    "regions_perc = regions.copy()\n",
    "\n",
    "def get_perc(row):\n",
    "    sources = ['wind','solar','natgas','nuclear','coal']\n",
    "\n",
    "    known_sources = 0\n",
    "    for source in sources:\n",
    "        row[source] = round((row[source]/row['all'])*100,2)\n",
    "        known_sources += row[source]\n",
    "\n",
    "    row['known_sources'] = known_sources\n",
    "    row['other'] = 100 - known_sources\n",
    "\n",
    "    return row\n",
    "\n",
    "regions_perc = regions_perc.apply(lambda row:get_perc(row),axis=1)\n"
   ]
  },
  {
   "cell_type": "code",
   "execution_count": 37,
   "metadata": {},
   "outputs": [],
   "source": [
    "regions_perc = regions.copy()\n",
    "\n",
    "def get_perc(row):\n",
    "    sources = ['wind','solar','natgas','nuclear','coal']\n",
    "\n",
    "    known_sources = 0\n",
    "    for source in sources:\n",
    "        row[source] = round((row[source]/row['all'])*100,2)\n",
    "        known_sources += row[source]\n",
    "\n",
    "    row['known_sources'] = known_sources\n",
    "    row['other'] = 100 - known_sources\n",
    "\n",
    "    return row\n",
    "\n",
    "regions_perc = regions_perc.apply(lambda row:get_perc(row),axis=1)\n",
    "\n"
   ]
  },
  {
   "cell_type": "code",
   "execution_count": 38,
   "metadata": {},
   "outputs": [
    {
     "output_type": "execute_result",
     "data": {
      "text/plain": [
       "             all   wind  solar  natgas  nuclear   coal  known_sources  other\n",
       "us  4.009085e+06   8.42   3.31   40.33    19.70  19.30          91.06   8.94\n",
       "tx  4.754914e+05  19.56   2.00   52.14     8.71  16.58          98.99   1.01\n",
       "ca  1.941103e+05   7.03  24.73   47.32     8.38   0.15          87.61  12.39\n",
       "ny  1.319818e+05   3.75   2.59   40.15    29.15   0.11          75.75  24.25\n",
       "fl  2.496577e+05   0.00   3.08   75.31    11.78   6.68          96.85   3.15\n",
       "iw  5.937613e+04  57.51   0.40   11.72     4.89  23.84          98.36   1.64"
      ],
      "text/html": "<div>\n<style scoped>\n    .dataframe tbody tr th:only-of-type {\n        vertical-align: middle;\n    }\n\n    .dataframe tbody tr th {\n        vertical-align: top;\n    }\n\n    .dataframe thead th {\n        text-align: right;\n    }\n</style>\n<table border=\"1\" class=\"dataframe\">\n  <thead>\n    <tr style=\"text-align: right;\">\n      <th></th>\n      <th>all</th>\n      <th>wind</th>\n      <th>solar</th>\n      <th>natgas</th>\n      <th>nuclear</th>\n      <th>coal</th>\n      <th>known_sources</th>\n      <th>other</th>\n    </tr>\n  </thead>\n  <tbody>\n    <tr>\n      <th>us</th>\n      <td>4.009085e+06</td>\n      <td>8.42</td>\n      <td>3.31</td>\n      <td>40.33</td>\n      <td>19.70</td>\n      <td>19.30</td>\n      <td>91.06</td>\n      <td>8.94</td>\n    </tr>\n    <tr>\n      <th>tx</th>\n      <td>4.754914e+05</td>\n      <td>19.56</td>\n      <td>2.00</td>\n      <td>52.14</td>\n      <td>8.71</td>\n      <td>16.58</td>\n      <td>98.99</td>\n      <td>1.01</td>\n    </tr>\n    <tr>\n      <th>ca</th>\n      <td>1.941103e+05</td>\n      <td>7.03</td>\n      <td>24.73</td>\n      <td>47.32</td>\n      <td>8.38</td>\n      <td>0.15</td>\n      <td>87.61</td>\n      <td>12.39</td>\n    </tr>\n    <tr>\n      <th>ny</th>\n      <td>1.319818e+05</td>\n      <td>3.75</td>\n      <td>2.59</td>\n      <td>40.15</td>\n      <td>29.15</td>\n      <td>0.11</td>\n      <td>75.75</td>\n      <td>24.25</td>\n    </tr>\n    <tr>\n      <th>fl</th>\n      <td>2.496577e+05</td>\n      <td>0.00</td>\n      <td>3.08</td>\n      <td>75.31</td>\n      <td>11.78</td>\n      <td>6.68</td>\n      <td>96.85</td>\n      <td>3.15</td>\n    </tr>\n    <tr>\n      <th>iw</th>\n      <td>5.937613e+04</td>\n      <td>57.51</td>\n      <td>0.40</td>\n      <td>11.72</td>\n      <td>4.89</td>\n      <td>23.84</td>\n      <td>98.36</td>\n      <td>1.64</td>\n    </tr>\n  </tbody>\n</table>\n</div>"
     },
     "metadata": {},
     "execution_count": 38
    }
   ],
   "source": [
    "regions_perc\n"
   ]
  },
  {
   "cell_type": "code",
   "execution_count": 36,
   "metadata": {},
   "outputs": [
    {
     "output_type": "execute_result",
     "data": {
      "text/plain": [
       "     Wind  Solar    Gas  Nuclear   Coal  Hydro  other\n",
       "US   8.42   3.31  40.33    19.70  19.30   7.26   1.68\n",
       "TX  19.56   2.00  52.14     8.71  16.58   0.38   0.63\n",
       "CA   7.03  24.73  47.32     8.38   0.15  11.05   1.34\n",
       "NY   3.75   2.59  40.15    29.15   0.11  23.82   0.43\n",
       "FL   0.00   3.08  75.31    11.78   6.68   0.08   3.07\n",
       "IA  57.51   0.40  11.72     4.89  23.84   1.45   0.19\n",
       "PA   1.68   0.34  52.09    33.13  10.31   1.54   0.91\n",
       "IL   9.86   0.31  13.79    57.76  17.87   0.08   0.33"
      ],
      "text/html": "<div>\n<style scoped>\n    .dataframe tbody tr th:only-of-type {\n        vertical-align: middle;\n    }\n\n    .dataframe tbody tr th {\n        vertical-align: top;\n    }\n\n    .dataframe thead th {\n        text-align: right;\n    }\n</style>\n<table border=\"1\" class=\"dataframe\">\n  <thead>\n    <tr style=\"text-align: right;\">\n      <th></th>\n      <th>Wind</th>\n      <th>Solar</th>\n      <th>Gas</th>\n      <th>Nuclear</th>\n      <th>Coal</th>\n      <th>Hydro</th>\n      <th>other</th>\n    </tr>\n  </thead>\n  <tbody>\n    <tr>\n      <th>US</th>\n      <td>8.42</td>\n      <td>3.31</td>\n      <td>40.33</td>\n      <td>19.70</td>\n      <td>19.30</td>\n      <td>7.26</td>\n      <td>1.68</td>\n    </tr>\n    <tr>\n      <th>TX</th>\n      <td>19.56</td>\n      <td>2.00</td>\n      <td>52.14</td>\n      <td>8.71</td>\n      <td>16.58</td>\n      <td>0.38</td>\n      <td>0.63</td>\n    </tr>\n    <tr>\n      <th>CA</th>\n      <td>7.03</td>\n      <td>24.73</td>\n      <td>47.32</td>\n      <td>8.38</td>\n      <td>0.15</td>\n      <td>11.05</td>\n      <td>1.34</td>\n    </tr>\n    <tr>\n      <th>NY</th>\n      <td>3.75</td>\n      <td>2.59</td>\n      <td>40.15</td>\n      <td>29.15</td>\n      <td>0.11</td>\n      <td>23.82</td>\n      <td>0.43</td>\n    </tr>\n    <tr>\n      <th>FL</th>\n      <td>0.00</td>\n      <td>3.08</td>\n      <td>75.31</td>\n      <td>11.78</td>\n      <td>6.68</td>\n      <td>0.08</td>\n      <td>3.07</td>\n    </tr>\n    <tr>\n      <th>IA</th>\n      <td>57.51</td>\n      <td>0.40</td>\n      <td>11.72</td>\n      <td>4.89</td>\n      <td>23.84</td>\n      <td>1.45</td>\n      <td>0.19</td>\n    </tr>\n    <tr>\n      <th>PA</th>\n      <td>1.68</td>\n      <td>0.34</td>\n      <td>52.09</td>\n      <td>33.13</td>\n      <td>10.31</td>\n      <td>1.54</td>\n      <td>0.91</td>\n    </tr>\n    <tr>\n      <th>IL</th>\n      <td>9.86</td>\n      <td>0.31</td>\n      <td>13.79</td>\n      <td>57.76</td>\n      <td>17.87</td>\n      <td>0.08</td>\n      <td>0.33</td>\n    </tr>\n  </tbody>\n</table>\n</div>"
     },
     "metadata": {},
     "execution_count": 36
    }
   ],
   "source": [
    "master = {}\n",
    "regions = ['US','TX','CA','NY','FL','IA','PA','IL']\n",
    "sources = ['ALL','WND','TSN','NG','NUC','COW','HYC']\n",
    "\n",
    "import pandas as pd\n",
    "region_frame = pd.DataFrame()\n",
    "wind_abs = pd.DataFrame()\n",
    "wind_perc = pd.DataFrame()\n",
    "solar_abs = pd.DataFrame()\n",
    "solar_perc = pd.DataFrame()\n",
    "natgas_perc = pd.DataFrame()\n",
    "\n",
    "\n",
    "for region in regions:\n",
    "\n",
    "    eia_classes = {}\n",
    "\n",
    "    for source in sources:\n",
    "        endpoint = 'ELEC.GEN.{}-{}-99.A'.format(source,region)\n",
    "        eia_classes[source] = EIA_Series(endpoint,name = region,date_format='%Y')\n",
    "\n",
    "        try:\n",
    "            region_frame.loc[region,source] = eia_classes[source].frame.loc['2020-01-01',region]\n",
    "        except:\n",
    "            region_frame.loc[region,source] = 0\n",
    "\n",
    "    wind_abs[region] = eia_classes['WND'].frame[region]\n",
    "    wind_perc[region] = (eia_classes['WND'].frame[region]/eia_classes['ALL'].frame[region])*100\n",
    "    solar_abs[region] = eia_classes['TSN'].frame[region]\n",
    "    solar_perc[region] = (eia_classes['TSN'].frame[region]/eia_classes['ALL'].frame[region])*100\n",
    "\n",
    "regions_perc = region_frame.copy()\n",
    "\n",
    "def get_perc(row):\n",
    "    sources = ['WND','TSN','NG','NUC','COW','HYC']\n",
    "\n",
    "    known_sources = 0\n",
    "    for source in sources:\n",
    "        row[source] = round((row[source]/row['ALL'])*100,2)\n",
    "        known_sources += row[source]\n",
    "\n",
    "    row['known_sources'] = known_sources\n",
    "    row['other'] = 100 - known_sources\n",
    "\n",
    "    return row\n",
    "\n",
    "col_dict = {'WND':'Wind','TSN':'Solar','NG':'Gas','NUC':'Nuclear','COW':'Coal','HYC':'Hydro'}\n",
    "\n",
    "regions_perc = regions_perc.apply(lambda row:get_perc(row),axis=1).drop(['ALL','known_sources'],axis=1)\n",
    "regions_perc.rename(columns = col_dict,inplace=True)\n",
    "regions_perc"
   ]
  },
  {
   "cell_type": "code",
   "execution_count": 37,
   "metadata": {},
   "outputs": [],
   "source": [
    "colormap = {\n",
    "    'Wind':'#00ccff',\n",
    "    'Solar':'#ffff00',\n",
    "    'Gas':'#cc9900',\n",
    "    'Nuclear':'#ff3300',\n",
    "    'Coal':'#000000',\n",
    "    'Hydro':'#0000ff',\n",
    "    'other':'#d9d9d9'\n",
    "}"
   ]
  },
  {
   "cell_type": "code",
   "execution_count": 51,
   "metadata": {},
   "outputs": [],
   "source": [
    "colors = [\n",
    "    '#f542f2',\n",
    "    '#00ccff',\n",
    "    '#ffff00',\n",
    "    '#cc9900',\n",
    "    '#ff3300',\n",
    "    '#000000',\n",
    "    '#0000ff',\n",
    "    '#d9d9d9'\n",
    "]"
   ]
  },
  {
   "cell_type": "code",
   "execution_count": 43,
   "metadata": {},
   "outputs": [
    {
     "output_type": "display_data",
     "data": {
      "application/vnd.plotly.v1+json": {
       "config": {
        "plotlyServerURL": "https://plot.ly"
       },
       "data": [
        {
         "hole": 0.5,
         "labels": [
          "Wind",
          "Solar",
          "Gas",
          "Nuclear",
          "Coal",
          "Hydro",
          "other"
         ],
         "marker": {
          "colors": [
           "#00ccff",
           "#ffff00",
           "#cc9900",
           "#ff3300",
           "#000000",
           "#0000ff",
           "#d9d9d9"
          ]
         },
         "textinfo": "label+percent",
         "title": {
          "text": "USA"
         },
         "type": "pie",
         "values": [
          8.42,
          3.31,
          40.33,
          19.7,
          19.3,
          7.26,
          1.6799999999999926
         ]
        }
       ],
       "layout": {
        "template": {
         "data": {
          "bar": [
           {
            "error_x": {
             "color": "#2a3f5f"
            },
            "error_y": {
             "color": "#2a3f5f"
            },
            "marker": {
             "line": {
              "color": "#E5ECF6",
              "width": 0.5
             }
            },
            "type": "bar"
           }
          ],
          "barpolar": [
           {
            "marker": {
             "line": {
              "color": "#E5ECF6",
              "width": 0.5
             }
            },
            "type": "barpolar"
           }
          ],
          "carpet": [
           {
            "aaxis": {
             "endlinecolor": "#2a3f5f",
             "gridcolor": "white",
             "linecolor": "white",
             "minorgridcolor": "white",
             "startlinecolor": "#2a3f5f"
            },
            "baxis": {
             "endlinecolor": "#2a3f5f",
             "gridcolor": "white",
             "linecolor": "white",
             "minorgridcolor": "white",
             "startlinecolor": "#2a3f5f"
            },
            "type": "carpet"
           }
          ],
          "choropleth": [
           {
            "colorbar": {
             "outlinewidth": 0,
             "ticks": ""
            },
            "type": "choropleth"
           }
          ],
          "contour": [
           {
            "colorbar": {
             "outlinewidth": 0,
             "ticks": ""
            },
            "colorscale": [
             [
              0,
              "#0d0887"
             ],
             [
              0.1111111111111111,
              "#46039f"
             ],
             [
              0.2222222222222222,
              "#7201a8"
             ],
             [
              0.3333333333333333,
              "#9c179e"
             ],
             [
              0.4444444444444444,
              "#bd3786"
             ],
             [
              0.5555555555555556,
              "#d8576b"
             ],
             [
              0.6666666666666666,
              "#ed7953"
             ],
             [
              0.7777777777777778,
              "#fb9f3a"
             ],
             [
              0.8888888888888888,
              "#fdca26"
             ],
             [
              1,
              "#f0f921"
             ]
            ],
            "type": "contour"
           }
          ],
          "contourcarpet": [
           {
            "colorbar": {
             "outlinewidth": 0,
             "ticks": ""
            },
            "type": "contourcarpet"
           }
          ],
          "heatmap": [
           {
            "colorbar": {
             "outlinewidth": 0,
             "ticks": ""
            },
            "colorscale": [
             [
              0,
              "#0d0887"
             ],
             [
              0.1111111111111111,
              "#46039f"
             ],
             [
              0.2222222222222222,
              "#7201a8"
             ],
             [
              0.3333333333333333,
              "#9c179e"
             ],
             [
              0.4444444444444444,
              "#bd3786"
             ],
             [
              0.5555555555555556,
              "#d8576b"
             ],
             [
              0.6666666666666666,
              "#ed7953"
             ],
             [
              0.7777777777777778,
              "#fb9f3a"
             ],
             [
              0.8888888888888888,
              "#fdca26"
             ],
             [
              1,
              "#f0f921"
             ]
            ],
            "type": "heatmap"
           }
          ],
          "heatmapgl": [
           {
            "colorbar": {
             "outlinewidth": 0,
             "ticks": ""
            },
            "colorscale": [
             [
              0,
              "#0d0887"
             ],
             [
              0.1111111111111111,
              "#46039f"
             ],
             [
              0.2222222222222222,
              "#7201a8"
             ],
             [
              0.3333333333333333,
              "#9c179e"
             ],
             [
              0.4444444444444444,
              "#bd3786"
             ],
             [
              0.5555555555555556,
              "#d8576b"
             ],
             [
              0.6666666666666666,
              "#ed7953"
             ],
             [
              0.7777777777777778,
              "#fb9f3a"
             ],
             [
              0.8888888888888888,
              "#fdca26"
             ],
             [
              1,
              "#f0f921"
             ]
            ],
            "type": "heatmapgl"
           }
          ],
          "histogram": [
           {
            "marker": {
             "colorbar": {
              "outlinewidth": 0,
              "ticks": ""
             }
            },
            "type": "histogram"
           }
          ],
          "histogram2d": [
           {
            "colorbar": {
             "outlinewidth": 0,
             "ticks": ""
            },
            "colorscale": [
             [
              0,
              "#0d0887"
             ],
             [
              0.1111111111111111,
              "#46039f"
             ],
             [
              0.2222222222222222,
              "#7201a8"
             ],
             [
              0.3333333333333333,
              "#9c179e"
             ],
             [
              0.4444444444444444,
              "#bd3786"
             ],
             [
              0.5555555555555556,
              "#d8576b"
             ],
             [
              0.6666666666666666,
              "#ed7953"
             ],
             [
              0.7777777777777778,
              "#fb9f3a"
             ],
             [
              0.8888888888888888,
              "#fdca26"
             ],
             [
              1,
              "#f0f921"
             ]
            ],
            "type": "histogram2d"
           }
          ],
          "histogram2dcontour": [
           {
            "colorbar": {
             "outlinewidth": 0,
             "ticks": ""
            },
            "colorscale": [
             [
              0,
              "#0d0887"
             ],
             [
              0.1111111111111111,
              "#46039f"
             ],
             [
              0.2222222222222222,
              "#7201a8"
             ],
             [
              0.3333333333333333,
              "#9c179e"
             ],
             [
              0.4444444444444444,
              "#bd3786"
             ],
             [
              0.5555555555555556,
              "#d8576b"
             ],
             [
              0.6666666666666666,
              "#ed7953"
             ],
             [
              0.7777777777777778,
              "#fb9f3a"
             ],
             [
              0.8888888888888888,
              "#fdca26"
             ],
             [
              1,
              "#f0f921"
             ]
            ],
            "type": "histogram2dcontour"
           }
          ],
          "mesh3d": [
           {
            "colorbar": {
             "outlinewidth": 0,
             "ticks": ""
            },
            "type": "mesh3d"
           }
          ],
          "parcoords": [
           {
            "line": {
             "colorbar": {
              "outlinewidth": 0,
              "ticks": ""
             }
            },
            "type": "parcoords"
           }
          ],
          "pie": [
           {
            "automargin": true,
            "type": "pie"
           }
          ],
          "scatter": [
           {
            "marker": {
             "colorbar": {
              "outlinewidth": 0,
              "ticks": ""
             }
            },
            "type": "scatter"
           }
          ],
          "scatter3d": [
           {
            "line": {
             "colorbar": {
              "outlinewidth": 0,
              "ticks": ""
             }
            },
            "marker": {
             "colorbar": {
              "outlinewidth": 0,
              "ticks": ""
             }
            },
            "type": "scatter3d"
           }
          ],
          "scattercarpet": [
           {
            "marker": {
             "colorbar": {
              "outlinewidth": 0,
              "ticks": ""
             }
            },
            "type": "scattercarpet"
           }
          ],
          "scattergeo": [
           {
            "marker": {
             "colorbar": {
              "outlinewidth": 0,
              "ticks": ""
             }
            },
            "type": "scattergeo"
           }
          ],
          "scattergl": [
           {
            "marker": {
             "colorbar": {
              "outlinewidth": 0,
              "ticks": ""
             }
            },
            "type": "scattergl"
           }
          ],
          "scattermapbox": [
           {
            "marker": {
             "colorbar": {
              "outlinewidth": 0,
              "ticks": ""
             }
            },
            "type": "scattermapbox"
           }
          ],
          "scatterpolar": [
           {
            "marker": {
             "colorbar": {
              "outlinewidth": 0,
              "ticks": ""
             }
            },
            "type": "scatterpolar"
           }
          ],
          "scatterpolargl": [
           {
            "marker": {
             "colorbar": {
              "outlinewidth": 0,
              "ticks": ""
             }
            },
            "type": "scatterpolargl"
           }
          ],
          "scatterternary": [
           {
            "marker": {
             "colorbar": {
              "outlinewidth": 0,
              "ticks": ""
             }
            },
            "type": "scatterternary"
           }
          ],
          "surface": [
           {
            "colorbar": {
             "outlinewidth": 0,
             "ticks": ""
            },
            "colorscale": [
             [
              0,
              "#0d0887"
             ],
             [
              0.1111111111111111,
              "#46039f"
             ],
             [
              0.2222222222222222,
              "#7201a8"
             ],
             [
              0.3333333333333333,
              "#9c179e"
             ],
             [
              0.4444444444444444,
              "#bd3786"
             ],
             [
              0.5555555555555556,
              "#d8576b"
             ],
             [
              0.6666666666666666,
              "#ed7953"
             ],
             [
              0.7777777777777778,
              "#fb9f3a"
             ],
             [
              0.8888888888888888,
              "#fdca26"
             ],
             [
              1,
              "#f0f921"
             ]
            ],
            "type": "surface"
           }
          ],
          "table": [
           {
            "cells": {
             "fill": {
              "color": "#EBF0F8"
             },
             "line": {
              "color": "white"
             }
            },
            "header": {
             "fill": {
              "color": "#C8D4E3"
             },
             "line": {
              "color": "white"
             }
            },
            "type": "table"
           }
          ]
         },
         "layout": {
          "annotationdefaults": {
           "arrowcolor": "#2a3f5f",
           "arrowhead": 0,
           "arrowwidth": 1
          },
          "autotypenumbers": "strict",
          "coloraxis": {
           "colorbar": {
            "outlinewidth": 0,
            "ticks": ""
           }
          },
          "colorscale": {
           "diverging": [
            [
             0,
             "#8e0152"
            ],
            [
             0.1,
             "#c51b7d"
            ],
            [
             0.2,
             "#de77ae"
            ],
            [
             0.3,
             "#f1b6da"
            ],
            [
             0.4,
             "#fde0ef"
            ],
            [
             0.5,
             "#f7f7f7"
            ],
            [
             0.6,
             "#e6f5d0"
            ],
            [
             0.7,
             "#b8e186"
            ],
            [
             0.8,
             "#7fbc41"
            ],
            [
             0.9,
             "#4d9221"
            ],
            [
             1,
             "#276419"
            ]
           ],
           "sequential": [
            [
             0,
             "#0d0887"
            ],
            [
             0.1111111111111111,
             "#46039f"
            ],
            [
             0.2222222222222222,
             "#7201a8"
            ],
            [
             0.3333333333333333,
             "#9c179e"
            ],
            [
             0.4444444444444444,
             "#bd3786"
            ],
            [
             0.5555555555555556,
             "#d8576b"
            ],
            [
             0.6666666666666666,
             "#ed7953"
            ],
            [
             0.7777777777777778,
             "#fb9f3a"
            ],
            [
             0.8888888888888888,
             "#fdca26"
            ],
            [
             1,
             "#f0f921"
            ]
           ],
           "sequentialminus": [
            [
             0,
             "#0d0887"
            ],
            [
             0.1111111111111111,
             "#46039f"
            ],
            [
             0.2222222222222222,
             "#7201a8"
            ],
            [
             0.3333333333333333,
             "#9c179e"
            ],
            [
             0.4444444444444444,
             "#bd3786"
            ],
            [
             0.5555555555555556,
             "#d8576b"
            ],
            [
             0.6666666666666666,
             "#ed7953"
            ],
            [
             0.7777777777777778,
             "#fb9f3a"
            ],
            [
             0.8888888888888888,
             "#fdca26"
            ],
            [
             1,
             "#f0f921"
            ]
           ]
          },
          "colorway": [
           "#636efa",
           "#EF553B",
           "#00cc96",
           "#ab63fa",
           "#FFA15A",
           "#19d3f3",
           "#FF6692",
           "#B6E880",
           "#FF97FF",
           "#FECB52"
          ],
          "font": {
           "color": "#2a3f5f"
          },
          "geo": {
           "bgcolor": "white",
           "lakecolor": "white",
           "landcolor": "#E5ECF6",
           "showlakes": true,
           "showland": true,
           "subunitcolor": "white"
          },
          "hoverlabel": {
           "align": "left"
          },
          "hovermode": "closest",
          "mapbox": {
           "style": "light"
          },
          "paper_bgcolor": "white",
          "plot_bgcolor": "#E5ECF6",
          "polar": {
           "angularaxis": {
            "gridcolor": "white",
            "linecolor": "white",
            "ticks": ""
           },
           "bgcolor": "#E5ECF6",
           "radialaxis": {
            "gridcolor": "white",
            "linecolor": "white",
            "ticks": ""
           }
          },
          "scene": {
           "xaxis": {
            "backgroundcolor": "#E5ECF6",
            "gridcolor": "white",
            "gridwidth": 2,
            "linecolor": "white",
            "showbackground": true,
            "ticks": "",
            "zerolinecolor": "white"
           },
           "yaxis": {
            "backgroundcolor": "#E5ECF6",
            "gridcolor": "white",
            "gridwidth": 2,
            "linecolor": "white",
            "showbackground": true,
            "ticks": "",
            "zerolinecolor": "white"
           },
           "zaxis": {
            "backgroundcolor": "#E5ECF6",
            "gridcolor": "white",
            "gridwidth": 2,
            "linecolor": "white",
            "showbackground": true,
            "ticks": "",
            "zerolinecolor": "white"
           }
          },
          "shapedefaults": {
           "line": {
            "color": "#2a3f5f"
           }
          },
          "ternary": {
           "aaxis": {
            "gridcolor": "white",
            "linecolor": "white",
            "ticks": ""
           },
           "baxis": {
            "gridcolor": "white",
            "linecolor": "white",
            "ticks": ""
           },
           "bgcolor": "#E5ECF6",
           "caxis": {
            "gridcolor": "white",
            "linecolor": "white",
            "ticks": ""
           }
          },
          "title": {
           "x": 0.05
          },
          "xaxis": {
           "automargin": true,
           "gridcolor": "white",
           "linecolor": "white",
           "ticks": "",
           "title": {
            "standoff": 15
           },
           "zerolinecolor": "white",
           "zerolinewidth": 2
          },
          "yaxis": {
           "automargin": true,
           "gridcolor": "white",
           "linecolor": "white",
           "ticks": "",
           "title": {
            "standoff": 15
           },
           "zerolinecolor": "white",
           "zerolinewidth": 2
          }
         }
        }
       }
      }
     },
     "metadata": {}
    }
   ],
   "source": [
    "import plotly.graph_objects as go\n",
    "\n",
    "us_ser = regions_perc.loc['US']\n",
    "\n",
    "fig = go.Figure(\n",
    "    data=[\n",
    "        go.Pie(\n",
    "            labels=us_ser.index, \n",
    "            values=us_ser.values,\n",
    "            hole=.5,\n",
    "            textinfo='label+percent',\n",
    "            title='USA',\n",
    "            marker=dict(colors = colors)\n",
    "            )\n",
    "    ]\n",
    ")\n",
    "fig.show()"
   ]
  },
  {
   "cell_type": "code",
   "execution_count": 44,
   "metadata": {},
   "outputs": [
    {
     "output_type": "display_data",
     "data": {
      "application/vnd.plotly.v1+json": {
       "config": {
        "plotlyServerURL": "https://plot.ly"
       },
       "data": [
        {
         "hole": 0.5,
         "labels": [
          "Wind",
          "Solar",
          "Gas",
          "Nuclear",
          "Coal",
          "Hydro",
          "other"
         ],
         "marker": {
          "colors": [
           "#00ccff",
           "#ffff00",
           "#cc9900",
           "#ff3300",
           "#000000",
           "#0000ff",
           "#d9d9d9"
          ]
         },
         "textinfo": "label+percent",
         "title": {
          "text": "Texas"
         },
         "type": "pie",
         "values": [
          19.56,
          2,
          52.14,
          8.71,
          16.58,
          0.38,
          0.6300000000000097
         ]
        }
       ],
       "layout": {
        "template": {
         "data": {
          "bar": [
           {
            "error_x": {
             "color": "#2a3f5f"
            },
            "error_y": {
             "color": "#2a3f5f"
            },
            "marker": {
             "line": {
              "color": "#E5ECF6",
              "width": 0.5
             }
            },
            "type": "bar"
           }
          ],
          "barpolar": [
           {
            "marker": {
             "line": {
              "color": "#E5ECF6",
              "width": 0.5
             }
            },
            "type": "barpolar"
           }
          ],
          "carpet": [
           {
            "aaxis": {
             "endlinecolor": "#2a3f5f",
             "gridcolor": "white",
             "linecolor": "white",
             "minorgridcolor": "white",
             "startlinecolor": "#2a3f5f"
            },
            "baxis": {
             "endlinecolor": "#2a3f5f",
             "gridcolor": "white",
             "linecolor": "white",
             "minorgridcolor": "white",
             "startlinecolor": "#2a3f5f"
            },
            "type": "carpet"
           }
          ],
          "choropleth": [
           {
            "colorbar": {
             "outlinewidth": 0,
             "ticks": ""
            },
            "type": "choropleth"
           }
          ],
          "contour": [
           {
            "colorbar": {
             "outlinewidth": 0,
             "ticks": ""
            },
            "colorscale": [
             [
              0,
              "#0d0887"
             ],
             [
              0.1111111111111111,
              "#46039f"
             ],
             [
              0.2222222222222222,
              "#7201a8"
             ],
             [
              0.3333333333333333,
              "#9c179e"
             ],
             [
              0.4444444444444444,
              "#bd3786"
             ],
             [
              0.5555555555555556,
              "#d8576b"
             ],
             [
              0.6666666666666666,
              "#ed7953"
             ],
             [
              0.7777777777777778,
              "#fb9f3a"
             ],
             [
              0.8888888888888888,
              "#fdca26"
             ],
             [
              1,
              "#f0f921"
             ]
            ],
            "type": "contour"
           }
          ],
          "contourcarpet": [
           {
            "colorbar": {
             "outlinewidth": 0,
             "ticks": ""
            },
            "type": "contourcarpet"
           }
          ],
          "heatmap": [
           {
            "colorbar": {
             "outlinewidth": 0,
             "ticks": ""
            },
            "colorscale": [
             [
              0,
              "#0d0887"
             ],
             [
              0.1111111111111111,
              "#46039f"
             ],
             [
              0.2222222222222222,
              "#7201a8"
             ],
             [
              0.3333333333333333,
              "#9c179e"
             ],
             [
              0.4444444444444444,
              "#bd3786"
             ],
             [
              0.5555555555555556,
              "#d8576b"
             ],
             [
              0.6666666666666666,
              "#ed7953"
             ],
             [
              0.7777777777777778,
              "#fb9f3a"
             ],
             [
              0.8888888888888888,
              "#fdca26"
             ],
             [
              1,
              "#f0f921"
             ]
            ],
            "type": "heatmap"
           }
          ],
          "heatmapgl": [
           {
            "colorbar": {
             "outlinewidth": 0,
             "ticks": ""
            },
            "colorscale": [
             [
              0,
              "#0d0887"
             ],
             [
              0.1111111111111111,
              "#46039f"
             ],
             [
              0.2222222222222222,
              "#7201a8"
             ],
             [
              0.3333333333333333,
              "#9c179e"
             ],
             [
              0.4444444444444444,
              "#bd3786"
             ],
             [
              0.5555555555555556,
              "#d8576b"
             ],
             [
              0.6666666666666666,
              "#ed7953"
             ],
             [
              0.7777777777777778,
              "#fb9f3a"
             ],
             [
              0.8888888888888888,
              "#fdca26"
             ],
             [
              1,
              "#f0f921"
             ]
            ],
            "type": "heatmapgl"
           }
          ],
          "histogram": [
           {
            "marker": {
             "colorbar": {
              "outlinewidth": 0,
              "ticks": ""
             }
            },
            "type": "histogram"
           }
          ],
          "histogram2d": [
           {
            "colorbar": {
             "outlinewidth": 0,
             "ticks": ""
            },
            "colorscale": [
             [
              0,
              "#0d0887"
             ],
             [
              0.1111111111111111,
              "#46039f"
             ],
             [
              0.2222222222222222,
              "#7201a8"
             ],
             [
              0.3333333333333333,
              "#9c179e"
             ],
             [
              0.4444444444444444,
              "#bd3786"
             ],
             [
              0.5555555555555556,
              "#d8576b"
             ],
             [
              0.6666666666666666,
              "#ed7953"
             ],
             [
              0.7777777777777778,
              "#fb9f3a"
             ],
             [
              0.8888888888888888,
              "#fdca26"
             ],
             [
              1,
              "#f0f921"
             ]
            ],
            "type": "histogram2d"
           }
          ],
          "histogram2dcontour": [
           {
            "colorbar": {
             "outlinewidth": 0,
             "ticks": ""
            },
            "colorscale": [
             [
              0,
              "#0d0887"
             ],
             [
              0.1111111111111111,
              "#46039f"
             ],
             [
              0.2222222222222222,
              "#7201a8"
             ],
             [
              0.3333333333333333,
              "#9c179e"
             ],
             [
              0.4444444444444444,
              "#bd3786"
             ],
             [
              0.5555555555555556,
              "#d8576b"
             ],
             [
              0.6666666666666666,
              "#ed7953"
             ],
             [
              0.7777777777777778,
              "#fb9f3a"
             ],
             [
              0.8888888888888888,
              "#fdca26"
             ],
             [
              1,
              "#f0f921"
             ]
            ],
            "type": "histogram2dcontour"
           }
          ],
          "mesh3d": [
           {
            "colorbar": {
             "outlinewidth": 0,
             "ticks": ""
            },
            "type": "mesh3d"
           }
          ],
          "parcoords": [
           {
            "line": {
             "colorbar": {
              "outlinewidth": 0,
              "ticks": ""
             }
            },
            "type": "parcoords"
           }
          ],
          "pie": [
           {
            "automargin": true,
            "type": "pie"
           }
          ],
          "scatter": [
           {
            "marker": {
             "colorbar": {
              "outlinewidth": 0,
              "ticks": ""
             }
            },
            "type": "scatter"
           }
          ],
          "scatter3d": [
           {
            "line": {
             "colorbar": {
              "outlinewidth": 0,
              "ticks": ""
             }
            },
            "marker": {
             "colorbar": {
              "outlinewidth": 0,
              "ticks": ""
             }
            },
            "type": "scatter3d"
           }
          ],
          "scattercarpet": [
           {
            "marker": {
             "colorbar": {
              "outlinewidth": 0,
              "ticks": ""
             }
            },
            "type": "scattercarpet"
           }
          ],
          "scattergeo": [
           {
            "marker": {
             "colorbar": {
              "outlinewidth": 0,
              "ticks": ""
             }
            },
            "type": "scattergeo"
           }
          ],
          "scattergl": [
           {
            "marker": {
             "colorbar": {
              "outlinewidth": 0,
              "ticks": ""
             }
            },
            "type": "scattergl"
           }
          ],
          "scattermapbox": [
           {
            "marker": {
             "colorbar": {
              "outlinewidth": 0,
              "ticks": ""
             }
            },
            "type": "scattermapbox"
           }
          ],
          "scatterpolar": [
           {
            "marker": {
             "colorbar": {
              "outlinewidth": 0,
              "ticks": ""
             }
            },
            "type": "scatterpolar"
           }
          ],
          "scatterpolargl": [
           {
            "marker": {
             "colorbar": {
              "outlinewidth": 0,
              "ticks": ""
             }
            },
            "type": "scatterpolargl"
           }
          ],
          "scatterternary": [
           {
            "marker": {
             "colorbar": {
              "outlinewidth": 0,
              "ticks": ""
             }
            },
            "type": "scatterternary"
           }
          ],
          "surface": [
           {
            "colorbar": {
             "outlinewidth": 0,
             "ticks": ""
            },
            "colorscale": [
             [
              0,
              "#0d0887"
             ],
             [
              0.1111111111111111,
              "#46039f"
             ],
             [
              0.2222222222222222,
              "#7201a8"
             ],
             [
              0.3333333333333333,
              "#9c179e"
             ],
             [
              0.4444444444444444,
              "#bd3786"
             ],
             [
              0.5555555555555556,
              "#d8576b"
             ],
             [
              0.6666666666666666,
              "#ed7953"
             ],
             [
              0.7777777777777778,
              "#fb9f3a"
             ],
             [
              0.8888888888888888,
              "#fdca26"
             ],
             [
              1,
              "#f0f921"
             ]
            ],
            "type": "surface"
           }
          ],
          "table": [
           {
            "cells": {
             "fill": {
              "color": "#EBF0F8"
             },
             "line": {
              "color": "white"
             }
            },
            "header": {
             "fill": {
              "color": "#C8D4E3"
             },
             "line": {
              "color": "white"
             }
            },
            "type": "table"
           }
          ]
         },
         "layout": {
          "annotationdefaults": {
           "arrowcolor": "#2a3f5f",
           "arrowhead": 0,
           "arrowwidth": 1
          },
          "autotypenumbers": "strict",
          "coloraxis": {
           "colorbar": {
            "outlinewidth": 0,
            "ticks": ""
           }
          },
          "colorscale": {
           "diverging": [
            [
             0,
             "#8e0152"
            ],
            [
             0.1,
             "#c51b7d"
            ],
            [
             0.2,
             "#de77ae"
            ],
            [
             0.3,
             "#f1b6da"
            ],
            [
             0.4,
             "#fde0ef"
            ],
            [
             0.5,
             "#f7f7f7"
            ],
            [
             0.6,
             "#e6f5d0"
            ],
            [
             0.7,
             "#b8e186"
            ],
            [
             0.8,
             "#7fbc41"
            ],
            [
             0.9,
             "#4d9221"
            ],
            [
             1,
             "#276419"
            ]
           ],
           "sequential": [
            [
             0,
             "#0d0887"
            ],
            [
             0.1111111111111111,
             "#46039f"
            ],
            [
             0.2222222222222222,
             "#7201a8"
            ],
            [
             0.3333333333333333,
             "#9c179e"
            ],
            [
             0.4444444444444444,
             "#bd3786"
            ],
            [
             0.5555555555555556,
             "#d8576b"
            ],
            [
             0.6666666666666666,
             "#ed7953"
            ],
            [
             0.7777777777777778,
             "#fb9f3a"
            ],
            [
             0.8888888888888888,
             "#fdca26"
            ],
            [
             1,
             "#f0f921"
            ]
           ],
           "sequentialminus": [
            [
             0,
             "#0d0887"
            ],
            [
             0.1111111111111111,
             "#46039f"
            ],
            [
             0.2222222222222222,
             "#7201a8"
            ],
            [
             0.3333333333333333,
             "#9c179e"
            ],
            [
             0.4444444444444444,
             "#bd3786"
            ],
            [
             0.5555555555555556,
             "#d8576b"
            ],
            [
             0.6666666666666666,
             "#ed7953"
            ],
            [
             0.7777777777777778,
             "#fb9f3a"
            ],
            [
             0.8888888888888888,
             "#fdca26"
            ],
            [
             1,
             "#f0f921"
            ]
           ]
          },
          "colorway": [
           "#636efa",
           "#EF553B",
           "#00cc96",
           "#ab63fa",
           "#FFA15A",
           "#19d3f3",
           "#FF6692",
           "#B6E880",
           "#FF97FF",
           "#FECB52"
          ],
          "font": {
           "color": "#2a3f5f"
          },
          "geo": {
           "bgcolor": "white",
           "lakecolor": "white",
           "landcolor": "#E5ECF6",
           "showlakes": true,
           "showland": true,
           "subunitcolor": "white"
          },
          "hoverlabel": {
           "align": "left"
          },
          "hovermode": "closest",
          "mapbox": {
           "style": "light"
          },
          "paper_bgcolor": "white",
          "plot_bgcolor": "#E5ECF6",
          "polar": {
           "angularaxis": {
            "gridcolor": "white",
            "linecolor": "white",
            "ticks": ""
           },
           "bgcolor": "#E5ECF6",
           "radialaxis": {
            "gridcolor": "white",
            "linecolor": "white",
            "ticks": ""
           }
          },
          "scene": {
           "xaxis": {
            "backgroundcolor": "#E5ECF6",
            "gridcolor": "white",
            "gridwidth": 2,
            "linecolor": "white",
            "showbackground": true,
            "ticks": "",
            "zerolinecolor": "white"
           },
           "yaxis": {
            "backgroundcolor": "#E5ECF6",
            "gridcolor": "white",
            "gridwidth": 2,
            "linecolor": "white",
            "showbackground": true,
            "ticks": "",
            "zerolinecolor": "white"
           },
           "zaxis": {
            "backgroundcolor": "#E5ECF6",
            "gridcolor": "white",
            "gridwidth": 2,
            "linecolor": "white",
            "showbackground": true,
            "ticks": "",
            "zerolinecolor": "white"
           }
          },
          "shapedefaults": {
           "line": {
            "color": "#2a3f5f"
           }
          },
          "ternary": {
           "aaxis": {
            "gridcolor": "white",
            "linecolor": "white",
            "ticks": ""
           },
           "baxis": {
            "gridcolor": "white",
            "linecolor": "white",
            "ticks": ""
           },
           "bgcolor": "#E5ECF6",
           "caxis": {
            "gridcolor": "white",
            "linecolor": "white",
            "ticks": ""
           }
          },
          "title": {
           "x": 0.05
          },
          "xaxis": {
           "automargin": true,
           "gridcolor": "white",
           "linecolor": "white",
           "ticks": "",
           "title": {
            "standoff": 15
           },
           "zerolinecolor": "white",
           "zerolinewidth": 2
          },
          "yaxis": {
           "automargin": true,
           "gridcolor": "white",
           "linecolor": "white",
           "ticks": "",
           "title": {
            "standoff": 15
           },
           "zerolinecolor": "white",
           "zerolinewidth": 2
          }
         }
        }
       }
      }
     },
     "metadata": {}
    }
   ],
   "source": [
    "import plotly.graph_objects as go\n",
    "\n",
    "ser = regions_perc.loc['TX']\n",
    "\n",
    "fig = go.Figure(\n",
    "    data=[\n",
    "        go.Pie(\n",
    "            labels=ser.index, \n",
    "            values=ser.values,\n",
    "            hole=.5,\n",
    "            textinfo='label+percent',\n",
    "            title= \"Texas\",\n",
    "            marker=dict(colors = colors)\n",
    "\n",
    "            )\n",
    "    ]\n",
    ")\n",
    "fig.show()"
   ]
  },
  {
   "cell_type": "code",
   "execution_count": 24,
   "metadata": {
    "tags": []
   },
   "outputs": [
    {
     "output_type": "stream",
     "name": "stdout",
     "text": [
      "Help on class Pie in module plotly.graph_objs._pie:\n\nclass Pie(plotly.basedatatypes.BaseTraceType)\n |  Pie(arg=None, automargin=None, customdata=None, customdatasrc=None, direction=None, dlabel=None, domain=None, hole=None, hoverinfo=None, hoverinfosrc=None, hoverlabel=None, hovertemplate=None, hovertemplatesrc=None, hovertext=None, hovertextsrc=None, ids=None, idssrc=None, insidetextfont=None, insidetextorientation=None, label0=None, labels=None, labelssrc=None, legendgroup=None, marker=None, meta=None, metasrc=None, name=None, opacity=None, outsidetextfont=None, pull=None, pullsrc=None, rotation=None, scalegroup=None, showlegend=None, sort=None, stream=None, text=None, textfont=None, textinfo=None, textposition=None, textpositionsrc=None, textsrc=None, texttemplate=None, texttemplatesrc=None, title=None, titlefont=None, titleposition=None, uid=None, uirevision=None, values=None, valuessrc=None, visible=None, **kwargs)\n |  \n |  Base class for the all trace types.\n |  \n |  Specific trace type classes (Scatter, Bar, etc.) are code generated as\n |  subclasses of this class.\n |  \n |  Method resolution order:\n |      Pie\n |      plotly.basedatatypes.BaseTraceType\n |      plotly.basedatatypes.BaseTraceHierarchyType\n |      plotly.basedatatypes.BasePlotlyType\n |      builtins.object\n |  \n |  Methods defined here:\n |  \n |  __init__(self, arg=None, automargin=None, customdata=None, customdatasrc=None, direction=None, dlabel=None, domain=None, hole=None, hoverinfo=None, hoverinfosrc=None, hoverlabel=None, hovertemplate=None, hovertemplatesrc=None, hovertext=None, hovertextsrc=None, ids=None, idssrc=None, insidetextfont=None, insidetextorientation=None, label0=None, labels=None, labelssrc=None, legendgroup=None, marker=None, meta=None, metasrc=None, name=None, opacity=None, outsidetextfont=None, pull=None, pullsrc=None, rotation=None, scalegroup=None, showlegend=None, sort=None, stream=None, text=None, textfont=None, textinfo=None, textposition=None, textpositionsrc=None, textsrc=None, texttemplate=None, texttemplatesrc=None, title=None, titlefont=None, titleposition=None, uid=None, uirevision=None, values=None, valuessrc=None, visible=None, **kwargs)\n |      Construct a new Pie object\n |      \n |      A data visualized by the sectors of the pie is set in `values`.\n |      The sector labels are set in `labels`. The sector colors are\n |      set in `marker.colors`\n |      \n |      Parameters\n |      ----------\n |      arg\n |          dict of properties compatible with this constructor or\n |          an instance of :class:`plotly.graph_objs.Pie`\n |      automargin\n |          Determines whether outside text labels can push the\n |          margins.\n |      customdata\n |          Assigns extra data each datum. This may be useful when\n |          listening to hover, click and selection events. Note\n |          that, \"scatter\" traces also appends customdata items in\n |          the markers DOM elements\n |      customdatasrc\n |          Sets the source reference on Chart Studio Cloud for\n |          customdata .\n |      direction\n |          Specifies the direction at which succeeding sectors\n |          follow one another.\n |      dlabel\n |          Sets the label step. See `label0` for more info.\n |      domain\n |          :class:`plotly.graph_objects.pie.Domain` instance or\n |          dict with compatible properties\n |      hole\n |          Sets the fraction of the radius to cut out of the pie.\n |          Use this to make a donut chart.\n |      hoverinfo\n |          Determines which trace information appear on hover. If\n |          `none` or `skip` are set, no information is displayed\n |          upon hovering. But, if `none` is set, click and hover\n |          events are still fired.\n |      hoverinfosrc\n |          Sets the source reference on Chart Studio Cloud for\n |          hoverinfo .\n |      hoverlabel\n |          :class:`plotly.graph_objects.pie.Hoverlabel` instance\n |          or dict with compatible properties\n |      hovertemplate\n |          Template string used for rendering the information that\n |          appear on hover box. Note that this will override\n |          `hoverinfo`. Variables are inserted using %{variable},\n |          for example \"y: %{y}\". Numbers are formatted using\n |          d3-format's syntax %{variable:d3-format}, for example\n |          \"Price: %{y:$.2f}\". https://github.com/d3/d3-3.x-api-\n |          reference/blob/master/Formatting.md#d3_format for\n |          details on the formatting syntax. Dates are formatted\n |          using d3-time-format's syntax %{variable|d3-time-\n |          format}, for example \"Day: %{2019-01-01|%A}\".\n |          https://github.com/d3/d3-time-format#locale_format for\n |          details on the date formatting syntax. The variables\n |          available in `hovertemplate` are the ones emitted as\n |          event data described at this link\n |          https://plotly.com/javascript/plotlyjs-events/#event-\n |          data. Additionally, every attributes that can be\n |          specified per-point (the ones that are `arrayOk: true`)\n |          are available. variables `label`, `color`, `value`,\n |          `percent` and `text`. Anything contained in tag\n |          `<extra>` is displayed in the secondary box, for\n |          example \"<extra>{fullData.name}</extra>\". To hide the\n |          secondary box completely, use an empty tag\n |          `<extra></extra>`.\n |      hovertemplatesrc\n |          Sets the source reference on Chart Studio Cloud for\n |          hovertemplate .\n |      hovertext\n |          Sets hover text elements associated with each sector.\n |          If a single string, the same string appears for all\n |          data points. If an array of string, the items are\n |          mapped in order of this trace's sectors. To be seen,\n |          trace `hoverinfo` must contain a \"text\" flag.\n |      hovertextsrc\n |          Sets the source reference on Chart Studio Cloud for\n |          hovertext .\n |      ids\n |          Assigns id labels to each datum. These ids for object\n |          constancy of data points during animation. Should be an\n |          array of strings, not numbers or any other type.\n |      idssrc\n |          Sets the source reference on Chart Studio Cloud for\n |          ids .\n |      insidetextfont\n |          Sets the font used for `textinfo` lying inside the\n |          sector.\n |      insidetextorientation\n |          Controls the orientation of the text inside chart\n |          sectors. When set to \"auto\", text may be oriented in\n |          any direction in order to be as big as possible in the\n |          middle of a sector. The \"horizontal\" option orients\n |          text to be parallel with the bottom of the chart, and\n |          may make text smaller in order to achieve that goal.\n |          The \"radial\" option orients text along the radius of\n |          the sector. The \"tangential\" option orients text\n |          perpendicular to the radius of the sector.\n |      label0\n |          Alternate to `labels`. Builds a numeric set of labels.\n |          Use with `dlabel` where `label0` is the starting label\n |          and `dlabel` the step.\n |      labels\n |          Sets the sector labels. If `labels` entries are\n |          duplicated, we sum associated `values` or simply count\n |          occurrences if `values` is not provided. For other\n |          array attributes (including color) we use the first\n |          non-empty entry among all occurrences of the label.\n |      labelssrc\n |          Sets the source reference on Chart Studio Cloud for\n |          labels .\n |      legendgroup\n |          Sets the legend group for this trace. Traces part of\n |          the same legend group hide/show at the same time when\n |          toggling legend items.\n |      marker\n |          :class:`plotly.graph_objects.pie.Marker` instance or\n |          dict with compatible properties\n |      meta\n |          Assigns extra meta information associated with this\n |          trace that can be used in various text attributes.\n |          Attributes such as trace `name`, graph, axis and\n |          colorbar `title.text`, annotation `text`\n |          `rangeselector`, `updatemenues` and `sliders` `label`\n |          text all support `meta`. To access the trace `meta`\n |          values in an attribute in the same trace, simply use\n |          `%{meta[i]}` where `i` is the index or key of the\n |          `meta` item in question. To access trace `meta` in\n |          layout attributes, use `%{data[n[.meta[i]}` where `i`\n |          is the index or key of the `meta` and `n` is the trace\n |          index.\n |      metasrc\n |          Sets the source reference on Chart Studio Cloud for\n |          meta .\n |      name\n |          Sets the trace name. The trace name appear as the\n |          legend item and on hover.\n |      opacity\n |          Sets the opacity of the trace.\n |      outsidetextfont\n |          Sets the font used for `textinfo` lying outside the\n |          sector.\n |      pull\n |          Sets the fraction of larger radius to pull the sectors\n |          out from the center. This can be a constant to pull all\n |          slices apart from each other equally or an array to\n |          highlight one or more slices.\n |      pullsrc\n |          Sets the source reference on Chart Studio Cloud for\n |          pull .\n |      rotation\n |          Instead of the first slice starting at 12 o'clock,\n |          rotate to some other angle.\n |      scalegroup\n |          If there are multiple pie charts that should be sized\n |          according to their totals, link them by providing a\n |          non-empty group id here shared by every trace in the\n |          same group.\n |      showlegend\n |          Determines whether or not an item corresponding to this\n |          trace is shown in the legend.\n |      sort\n |          Determines whether or not the sectors are reordered\n |          from largest to smallest.\n |      stream\n |          :class:`plotly.graph_objects.pie.Stream` instance or\n |          dict with compatible properties\n |      text\n |          Sets text elements associated with each sector. If\n |          trace `textinfo` contains a \"text\" flag, these elements\n |          will be seen on the chart. If trace `hoverinfo`\n |          contains a \"text\" flag and \"hovertext\" is not set,\n |          these elements will be seen in the hover labels.\n |      textfont\n |          Sets the font used for `textinfo`.\n |      textinfo\n |          Determines which trace information appear on the graph.\n |      textposition\n |          Specifies the location of the `textinfo`.\n |      textpositionsrc\n |          Sets the source reference on Chart Studio Cloud for\n |          textposition .\n |      textsrc\n |          Sets the source reference on Chart Studio Cloud for\n |          text .\n |      texttemplate\n |          Template string used for rendering the information text\n |          that appear on points. Note that this will override\n |          `textinfo`. Variables are inserted using %{variable},\n |          for example \"y: %{y}\". Numbers are formatted using\n |          d3-format's syntax %{variable:d3-format}, for example\n |          \"Price: %{y:$.2f}\". https://github.com/d3/d3-3.x-api-\n |          reference/blob/master/Formatting.md#d3_format for\n |          details on the formatting syntax. Dates are formatted\n |          using d3-time-format's syntax %{variable|d3-time-\n |          format}, for example \"Day: %{2019-01-01|%A}\".\n |          https://github.com/d3/d3-time-format#locale_format for\n |          details on the date formatting syntax. Every attributes\n |          that can be specified per-point (the ones that are\n |          `arrayOk: true`) are available. variables `label`,\n |          `color`, `value`, `percent` and `text`.\n |      texttemplatesrc\n |          Sets the source reference on Chart Studio Cloud for\n |          texttemplate .\n |      title\n |          :class:`plotly.graph_objects.pie.Title` instance or\n |          dict with compatible properties\n |      titlefont\n |          Deprecated: Please use pie.title.font instead. Sets the\n |          font used for `title`. Note that the title's font used\n |          to be set by the now deprecated `titlefont` attribute.\n |      titleposition\n |          Deprecated: Please use pie.title.position instead.\n |          Specifies the location of the `title`. Note that the\n |          title's position used to be set by the now deprecated\n |          `titleposition` attribute.\n |      uid\n |          Assign an id to this trace, Use this to provide object\n |          constancy between traces during animations and\n |          transitions.\n |      uirevision\n |          Controls persistence of some user-driven changes to the\n |          trace: `constraintrange` in `parcoords` traces, as well\n |          as some `editable: true` modifications such as `name`\n |          and `colorbar.title`. Defaults to `layout.uirevision`.\n |          Note that other user-driven trace attribute changes are\n |          controlled by `layout` attributes: `trace.visible` is\n |          controlled by `layout.legend.uirevision`,\n |          `selectedpoints` is controlled by\n |          `layout.selectionrevision`, and `colorbar.(x|y)`\n |          (accessible with `config: {editable: true}`) is\n |          controlled by `layout.editrevision`. Trace changes are\n |          tracked by `uid`, which only falls back on trace index\n |          if no `uid` is provided. So if your app can add/remove\n |          traces before the end of the `data` array, such that\n |          the same trace has a different index, you can still\n |          preserve user-driven changes if you give each trace a\n |          `uid` that stays with it as it moves.\n |      values\n |          Sets the values of the sectors. If omitted, we count\n |          occurrences of each label.\n |      valuessrc\n |          Sets the source reference on Chart Studio Cloud for\n |          values .\n |      visible\n |          Determines whether or not this trace is visible. If\n |          \"legendonly\", the trace is not drawn, but can appear as\n |          a legend item (provided that the legend itself is\n |          visible).\n |      \n |      Returns\n |      -------\n |      Pie\n |  \n |  ----------------------------------------------------------------------\n |  Readonly properties defined here:\n |  \n |  type\n |  \n |  ----------------------------------------------------------------------\n |  Data descriptors defined here:\n |  \n |  automargin\n |      Determines whether outside text labels can push the margins.\n |      \n |      The 'automargin' property must be specified as a bool\n |      (either True, or False)\n |      \n |      Returns\n |      -------\n |      bool\n |  \n |  customdata\n |      Assigns extra data each datum. This may be useful when\n |      listening to hover, click and selection events. Note that,\n |      \"scatter\" traces also appends customdata items in the markers\n |      DOM elements\n |      \n |      The 'customdata' property is an array that may be specified as a tuple,\n |      list, numpy array, or pandas Series\n |      \n |      Returns\n |      -------\n |      numpy.ndarray\n |  \n |  customdatasrc\n |      Sets the source reference on Chart Studio Cloud for  customdata\n |      .\n |      \n |      The 'customdatasrc' property must be specified as a string or\n |      as a plotly.grid_objs.Column object\n |      \n |      Returns\n |      -------\n |      str\n |  \n |  direction\n |      Specifies the direction at which succeeding sectors follow one\n |      another.\n |      \n |      The 'direction' property is an enumeration that may be specified as:\n |        - One of the following enumeration values:\n |              ['clockwise', 'counterclockwise']\n |      \n |      Returns\n |      -------\n |      Any\n |  \n |  dlabel\n |      Sets the label step. See `label0` for more info.\n |      \n |      The 'dlabel' property is a number and may be specified as:\n |        - An int or float\n |      \n |      Returns\n |      -------\n |      int|float\n |  \n |  domain\n |      The 'domain' property is an instance of Domain\n |      that may be specified as:\n |        - An instance of :class:`plotly.graph_objs.pie.Domain`\n |        - A dict of string/value properties that will be passed\n |          to the Domain constructor\n |      \n |          Supported dict properties:\n |              \n |              column\n |                  If there is a layout grid, use the domain for\n |                  this column in the grid for this pie trace .\n |              row\n |                  If there is a layout grid, use the domain for\n |                  this row in the grid for this pie trace .\n |              x\n |                  Sets the horizontal domain of this pie trace\n |                  (in plot fraction).\n |              y\n |                  Sets the vertical domain of this pie trace (in\n |                  plot fraction).\n |      \n |      Returns\n |      -------\n |      plotly.graph_objs.pie.Domain\n |  \n |  hole\n |      Sets the fraction of the radius to cut out of the pie. Use this\n |      to make a donut chart.\n |      \n |      The 'hole' property is a number and may be specified as:\n |        - An int or float in the interval [0, 1]\n |      \n |      Returns\n |      -------\n |      int|float\n |  \n |  hoverinfo\n |      Determines which trace information appear on hover. If `none`\n |      or `skip` are set, no information is displayed upon hovering.\n |      But, if `none` is set, click and hover events are still fired.\n |      \n |      The 'hoverinfo' property is a flaglist and may be specified\n |      as a string containing:\n |        - Any combination of ['label', 'text', 'value', 'percent', 'name'] joined with '+' characters\n |          (e.g. 'label+text')\n |          OR exactly one of ['all', 'none', 'skip'] (e.g. 'skip')\n |        - A list or array of the above\n |      \n |      Returns\n |      -------\n |      Any|numpy.ndarray\n |  \n |  hoverinfosrc\n |      Sets the source reference on Chart Studio Cloud for  hoverinfo\n |      .\n |      \n |      The 'hoverinfosrc' property must be specified as a string or\n |      as a plotly.grid_objs.Column object\n |      \n |      Returns\n |      -------\n |      str\n |  \n |  hoverlabel\n |      The 'hoverlabel' property is an instance of Hoverlabel\n |      that may be specified as:\n |        - An instance of :class:`plotly.graph_objs.pie.Hoverlabel`\n |        - A dict of string/value properties that will be passed\n |          to the Hoverlabel constructor\n |      \n |          Supported dict properties:\n |              \n |              align\n |                  Sets the horizontal alignment of the text\n |                  content within hover label box. Has an effect\n |                  only if the hover label text spans more two or\n |                  more lines\n |              alignsrc\n |                  Sets the source reference on Chart Studio Cloud\n |                  for  align .\n |              bgcolor\n |                  Sets the background color of the hover labels\n |                  for this trace\n |              bgcolorsrc\n |                  Sets the source reference on Chart Studio Cloud\n |                  for  bgcolor .\n |              bordercolor\n |                  Sets the border color of the hover labels for\n |                  this trace.\n |              bordercolorsrc\n |                  Sets the source reference on Chart Studio Cloud\n |                  for  bordercolor .\n |              font\n |                  Sets the font used in hover labels.\n |              namelength\n |                  Sets the default length (in number of\n |                  characters) of the trace name in the hover\n |                  labels for all traces. -1 shows the whole name\n |                  regardless of length. 0-3 shows the first 0-3\n |                  characters, and an integer >3 will show the\n |                  whole name if it is less than that many\n |                  characters, but if it is longer, will truncate\n |                  to `namelength - 3` characters and add an\n |                  ellipsis.\n |              namelengthsrc\n |                  Sets the source reference on Chart Studio Cloud\n |                  for  namelength .\n |      \n |      Returns\n |      -------\n |      plotly.graph_objs.pie.Hoverlabel\n |  \n |  hovertemplate\n |      Template string used for rendering the information that appear\n |      on hover box. Note that this will override `hoverinfo`.\n |      Variables are inserted using %{variable}, for example \"y:\n |      %{y}\". Numbers are formatted using d3-format's syntax\n |      %{variable:d3-format}, for example \"Price: %{y:$.2f}\".\n |      https://github.com/d3/d3-3.x-api-\n |      reference/blob/master/Formatting.md#d3_format for details on\n |      the formatting syntax. Dates are formatted using d3-time-\n |      format's syntax %{variable|d3-time-format}, for example \"Day:\n |      %{2019-01-01|%A}\". https://github.com/d3/d3-time-\n |      format#locale_format for details on the date formatting syntax.\n |      The variables available in `hovertemplate` are the ones emitted\n |      as event data described at this link\n |      https://plotly.com/javascript/plotlyjs-events/#event-data.\n |      Additionally, every attributes that can be specified per-point\n |      (the ones that are `arrayOk: true`) are available. variables\n |      `label`, `color`, `value`, `percent` and `text`. Anything\n |      contained in tag `<extra>` is displayed in the secondary box,\n |      for example \"<extra>{fullData.name}</extra>\". To hide the\n |      secondary box completely, use an empty tag `<extra></extra>`.\n |      \n |      The 'hovertemplate' property is a string and must be specified as:\n |        - A string\n |        - A number that will be converted to a string\n |        - A tuple, list, or one-dimensional numpy array of the above\n |      \n |      Returns\n |      -------\n |      str|numpy.ndarray\n |  \n |  hovertemplatesrc\n |      Sets the source reference on Chart Studio Cloud for\n |      hovertemplate .\n |      \n |      The 'hovertemplatesrc' property must be specified as a string or\n |      as a plotly.grid_objs.Column object\n |      \n |      Returns\n |      -------\n |      str\n |  \n |  hovertext\n |      Sets hover text elements associated with each sector. If a\n |      single string, the same string appears for all data points. If\n |      an array of string, the items are mapped in order of this\n |      trace's sectors. To be seen, trace `hoverinfo` must contain a\n |      \"text\" flag.\n |      \n |      The 'hovertext' property is a string and must be specified as:\n |        - A string\n |        - A number that will be converted to a string\n |        - A tuple, list, or one-dimensional numpy array of the above\n |      \n |      Returns\n |      -------\n |      str|numpy.ndarray\n |  \n |  hovertextsrc\n |      Sets the source reference on Chart Studio Cloud for  hovertext\n |      .\n |      \n |      The 'hovertextsrc' property must be specified as a string or\n |      as a plotly.grid_objs.Column object\n |      \n |      Returns\n |      -------\n |      str\n |  \n |  ids\n |      Assigns id labels to each datum. These ids for object constancy\n |      of data points during animation. Should be an array of strings,\n |      not numbers or any other type.\n |      \n |      The 'ids' property is an array that may be specified as a tuple,\n |      list, numpy array, or pandas Series\n |      \n |      Returns\n |      -------\n |      numpy.ndarray\n |  \n |  idssrc\n |      Sets the source reference on Chart Studio Cloud for  ids .\n |      \n |      The 'idssrc' property must be specified as a string or\n |      as a plotly.grid_objs.Column object\n |      \n |      Returns\n |      -------\n |      str\n |  \n |  insidetextfont\n |      Sets the font used for `textinfo` lying inside the sector.\n |      \n |      The 'insidetextfont' property is an instance of Insidetextfont\n |      that may be specified as:\n |        - An instance of :class:`plotly.graph_objs.pie.Insidetextfont`\n |        - A dict of string/value properties that will be passed\n |          to the Insidetextfont constructor\n |      \n |          Supported dict properties:\n |              \n |              color\n |      \n |              colorsrc\n |                  Sets the source reference on Chart Studio Cloud\n |                  for  color .\n |              family\n |                  HTML font family - the typeface that will be\n |                  applied by the web browser. The web browser\n |                  will only be able to apply a font if it is\n |                  available on the system which it operates.\n |                  Provide multiple font families, separated by\n |                  commas, to indicate the preference in which to\n |                  apply fonts if they aren't available on the\n |                  system. The Chart Studio Cloud (at\n |                  https://chart-studio.plotly.com or on-premise)\n |                  generates images on a server, where only a\n |                  select number of fonts are installed and\n |                  supported. These include \"Arial\", \"Balto\",\n |                  \"Courier New\", \"Droid Sans\",, \"Droid Serif\",\n |                  \"Droid Sans Mono\", \"Gravitas One\", \"Old\n |                  Standard TT\", \"Open Sans\", \"Overpass\", \"PT Sans\n |                  Narrow\", \"Raleway\", \"Times New Roman\".\n |              familysrc\n |                  Sets the source reference on Chart Studio Cloud\n |                  for  family .\n |              size\n |      \n |              sizesrc\n |                  Sets the source reference on Chart Studio Cloud\n |                  for  size .\n |      \n |      Returns\n |      -------\n |      plotly.graph_objs.pie.Insidetextfont\n |  \n |  insidetextorientation\n |      Controls the orientation of the text inside chart sectors. When\n |      set to \"auto\", text may be oriented in any direction in order\n |      to be as big as possible in the middle of a sector. The\n |      \"horizontal\" option orients text to be parallel with the bottom\n |      of the chart, and may make text smaller in order to achieve\n |      that goal. The \"radial\" option orients text along the radius of\n |      the sector. The \"tangential\" option orients text perpendicular\n |      to the radius of the sector.\n |      \n |      The 'insidetextorientation' property is an enumeration that may be specified as:\n |        - One of the following enumeration values:\n |              ['horizontal', 'radial', 'tangential', 'auto']\n |      \n |      Returns\n |      -------\n |      Any\n |  \n |  label0\n |      Alternate to `labels`. Builds a numeric set of labels. Use with\n |      `dlabel` where `label0` is the starting label and `dlabel` the\n |      step.\n |      \n |      The 'label0' property is a number and may be specified as:\n |        - An int or float\n |      \n |      Returns\n |      -------\n |      int|float\n |  \n |  labels\n |      Sets the sector labels. If `labels` entries are duplicated, we\n |      sum associated `values` or simply count occurrences if `values`\n |      is not provided. For other array attributes (including color)\n |      we use the first non-empty entry among all occurrences of the\n |      label.\n |      \n |      The 'labels' property is an array that may be specified as a tuple,\n |      list, numpy array, or pandas Series\n |      \n |      Returns\n |      -------\n |      numpy.ndarray\n |  \n |  labelssrc\n |      Sets the source reference on Chart Studio Cloud for  labels .\n |      \n |      The 'labelssrc' property must be specified as a string or\n |      as a plotly.grid_objs.Column object\n |      \n |      Returns\n |      -------\n |      str\n |  \n |  legendgroup\n |      Sets the legend group for this trace. Traces part of the same\n |      legend group hide/show at the same time when toggling legend\n |      items.\n |      \n |      The 'legendgroup' property is a string and must be specified as:\n |        - A string\n |        - A number that will be converted to a string\n |      \n |      Returns\n |      -------\n |      str\n |  \n |  marker\n |      The 'marker' property is an instance of Marker\n |      that may be specified as:\n |        - An instance of :class:`plotly.graph_objs.pie.Marker`\n |        - A dict of string/value properties that will be passed\n |          to the Marker constructor\n |      \n |          Supported dict properties:\n |              \n |              colors\n |                  Sets the color of each sector. If not\n |                  specified, the default trace color set is used\n |                  to pick the sector colors.\n |              colorssrc\n |                  Sets the source reference on Chart Studio Cloud\n |                  for  colors .\n |              line\n |                  :class:`plotly.graph_objects.pie.marker.Line`\n |                  instance or dict with compatible properties\n |      \n |      Returns\n |      -------\n |      plotly.graph_objs.pie.Marker\n |  \n |  meta\n |      Assigns extra meta information associated with this trace that\n |      can be used in various text attributes. Attributes such as\n |      trace `name`, graph, axis and colorbar `title.text`, annotation\n |      `text` `rangeselector`, `updatemenues` and `sliders` `label`\n |      text all support `meta`. To access the trace `meta` values in\n |      an attribute in the same trace, simply use `%{meta[i]}` where\n |      `i` is the index or key of the `meta` item in question. To\n |      access trace `meta` in layout attributes, use\n |      `%{data[n[.meta[i]}` where `i` is the index or key of the\n |      `meta` and `n` is the trace index.\n |      \n |      The 'meta' property accepts values of any type\n |      \n |      Returns\n |      -------\n |      Any|numpy.ndarray\n |  \n |  metasrc\n |      Sets the source reference on Chart Studio Cloud for  meta .\n |      \n |      The 'metasrc' property must be specified as a string or\n |      as a plotly.grid_objs.Column object\n |      \n |      Returns\n |      -------\n |      str\n |  \n |  name\n |      Sets the trace name. The trace name appear as the legend item\n |      and on hover.\n |      \n |      The 'name' property is a string and must be specified as:\n |        - A string\n |        - A number that will be converted to a string\n |      \n |      Returns\n |      -------\n |      str\n |  \n |  opacity\n |      Sets the opacity of the trace.\n |      \n |      The 'opacity' property is a number and may be specified as:\n |        - An int or float in the interval [0, 1]\n |      \n |      Returns\n |      -------\n |      int|float\n |  \n |  outsidetextfont\n |      Sets the font used for `textinfo` lying outside the sector.\n |      \n |      The 'outsidetextfont' property is an instance of Outsidetextfont\n |      that may be specified as:\n |        - An instance of :class:`plotly.graph_objs.pie.Outsidetextfont`\n |        - A dict of string/value properties that will be passed\n |          to the Outsidetextfont constructor\n |      \n |          Supported dict properties:\n |              \n |              color\n |      \n |              colorsrc\n |                  Sets the source reference on Chart Studio Cloud\n |                  for  color .\n |              family\n |                  HTML font family - the typeface that will be\n |                  applied by the web browser. The web browser\n |                  will only be able to apply a font if it is\n |                  available on the system which it operates.\n |                  Provide multiple font families, separated by\n |                  commas, to indicate the preference in which to\n |                  apply fonts if they aren't available on the\n |                  system. The Chart Studio Cloud (at\n |                  https://chart-studio.plotly.com or on-premise)\n |                  generates images on a server, where only a\n |                  select number of fonts are installed and\n |                  supported. These include \"Arial\", \"Balto\",\n |                  \"Courier New\", \"Droid Sans\",, \"Droid Serif\",\n |                  \"Droid Sans Mono\", \"Gravitas One\", \"Old\n |                  Standard TT\", \"Open Sans\", \"Overpass\", \"PT Sans\n |                  Narrow\", \"Raleway\", \"Times New Roman\".\n |              familysrc\n |                  Sets the source reference on Chart Studio Cloud\n |                  for  family .\n |              size\n |      \n |              sizesrc\n |                  Sets the source reference on Chart Studio Cloud\n |                  for  size .\n |      \n |      Returns\n |      -------\n |      plotly.graph_objs.pie.Outsidetextfont\n |  \n |  pull\n |      Sets the fraction of larger radius to pull the sectors out from\n |      the center. This can be a constant to pull all slices apart\n |      from each other equally or an array to highlight one or more\n |      slices.\n |      \n |      The 'pull' property is a number and may be specified as:\n |        - An int or float in the interval [0, 1]\n |        - A tuple, list, or one-dimensional numpy array of the above\n |      \n |      Returns\n |      -------\n |      int|float|numpy.ndarray\n |  \n |  pullsrc\n |      Sets the source reference on Chart Studio Cloud for  pull .\n |      \n |      The 'pullsrc' property must be specified as a string or\n |      as a plotly.grid_objs.Column object\n |      \n |      Returns\n |      -------\n |      str\n |  \n |  rotation\n |      Instead of the first slice starting at 12 o'clock, rotate to\n |      some other angle.\n |      \n |      The 'rotation' property is a number and may be specified as:\n |        - An int or float in the interval [-360, 360]\n |      \n |      Returns\n |      -------\n |      int|float\n |  \n |  scalegroup\n |      If there are multiple pie charts that should be sized according\n |      to their totals, link them by providing a non-empty group id\n |      here shared by every trace in the same group.\n |      \n |      The 'scalegroup' property is a string and must be specified as:\n |        - A string\n |        - A number that will be converted to a string\n |      \n |      Returns\n |      -------\n |      str\n |  \n |  showlegend\n |      Determines whether or not an item corresponding to this trace\n |      is shown in the legend.\n |      \n |      The 'showlegend' property must be specified as a bool\n |      (either True, or False)\n |      \n |      Returns\n |      -------\n |      bool\n |  \n |  sort\n |      Determines whether or not the sectors are reordered from\n |      largest to smallest.\n |      \n |      The 'sort' property must be specified as a bool\n |      (either True, or False)\n |      \n |      Returns\n |      -------\n |      bool\n |  \n |  stream\n |      The 'stream' property is an instance of Stream\n |      that may be specified as:\n |        - An instance of :class:`plotly.graph_objs.pie.Stream`\n |        - A dict of string/value properties that will be passed\n |          to the Stream constructor\n |      \n |          Supported dict properties:\n |              \n |              maxpoints\n |                  Sets the maximum number of points to keep on\n |                  the plots from an incoming stream. If\n |                  `maxpoints` is set to 50, only the newest 50\n |                  points will be displayed on the plot.\n |              token\n |                  The stream id number links a data trace on a\n |                  plot with a stream. See https://chart-\n |                  studio.plotly.com/settings for more details.\n |      \n |      Returns\n |      -------\n |      plotly.graph_objs.pie.Stream\n |  \n |  text\n |      Sets text elements associated with each sector. If trace\n |      `textinfo` contains a \"text\" flag, these elements will be seen\n |      on the chart. If trace `hoverinfo` contains a \"text\" flag and\n |      \"hovertext\" is not set, these elements will be seen in the\n |      hover labels.\n |      \n |      The 'text' property is an array that may be specified as a tuple,\n |      list, numpy array, or pandas Series\n |      \n |      Returns\n |      -------\n |      numpy.ndarray\n |  \n |  textfont\n |      Sets the font used for `textinfo`.\n |      \n |      The 'textfont' property is an instance of Textfont\n |      that may be specified as:\n |        - An instance of :class:`plotly.graph_objs.pie.Textfont`\n |        - A dict of string/value properties that will be passed\n |          to the Textfont constructor\n |      \n |          Supported dict properties:\n |              \n |              color\n |      \n |              colorsrc\n |                  Sets the source reference on Chart Studio Cloud\n |                  for  color .\n |              family\n |                  HTML font family - the typeface that will be\n |                  applied by the web browser. The web browser\n |                  will only be able to apply a font if it is\n |                  available on the system which it operates.\n |                  Provide multiple font families, separated by\n |                  commas, to indicate the preference in which to\n |                  apply fonts if they aren't available on the\n |                  system. The Chart Studio Cloud (at\n |                  https://chart-studio.plotly.com or on-premise)\n |                  generates images on a server, where only a\n |                  select number of fonts are installed and\n |                  supported. These include \"Arial\", \"Balto\",\n |                  \"Courier New\", \"Droid Sans\",, \"Droid Serif\",\n |                  \"Droid Sans Mono\", \"Gravitas One\", \"Old\n |                  Standard TT\", \"Open Sans\", \"Overpass\", \"PT Sans\n |                  Narrow\", \"Raleway\", \"Times New Roman\".\n |              familysrc\n |                  Sets the source reference on Chart Studio Cloud\n |                  for  family .\n |              size\n |      \n |              sizesrc\n |                  Sets the source reference on Chart Studio Cloud\n |                  for  size .\n |      \n |      Returns\n |      -------\n |      plotly.graph_objs.pie.Textfont\n |  \n |  textinfo\n |      Determines which trace information appear on the graph.\n |      \n |      The 'textinfo' property is a flaglist and may be specified\n |      as a string containing:\n |        - Any combination of ['label', 'text', 'value', 'percent'] joined with '+' characters\n |          (e.g. 'label+text')\n |          OR exactly one of ['none'] (e.g. 'none')\n |      \n |      Returns\n |      -------\n |      Any\n |  \n |  textposition\n |      Specifies the location of the `textinfo`.\n |      \n |      The 'textposition' property is an enumeration that may be specified as:\n |        - One of the following enumeration values:\n |              ['inside', 'outside', 'auto', 'none']\n |        - A tuple, list, or one-dimensional numpy array of the above\n |      \n |      Returns\n |      -------\n |      Any|numpy.ndarray\n |  \n |  textpositionsrc\n |      Sets the source reference on Chart Studio Cloud for\n |      textposition .\n |      \n |      The 'textpositionsrc' property must be specified as a string or\n |      as a plotly.grid_objs.Column object\n |      \n |      Returns\n |      -------\n |      str\n |  \n |  textsrc\n |      Sets the source reference on Chart Studio Cloud for  text .\n |      \n |      The 'textsrc' property must be specified as a string or\n |      as a plotly.grid_objs.Column object\n |      \n |      Returns\n |      -------\n |      str\n |  \n |  texttemplate\n |      Template string used for rendering the information text that\n |      appear on points. Note that this will override `textinfo`.\n |      Variables are inserted using %{variable}, for example \"y:\n |      %{y}\". Numbers are formatted using d3-format's syntax\n |      %{variable:d3-format}, for example \"Price: %{y:$.2f}\".\n |      https://github.com/d3/d3-3.x-api-\n |      reference/blob/master/Formatting.md#d3_format for details on\n |      the formatting syntax. Dates are formatted using d3-time-\n |      format's syntax %{variable|d3-time-format}, for example \"Day:\n |      %{2019-01-01|%A}\". https://github.com/d3/d3-time-\n |      format#locale_format for details on the date formatting syntax.\n |      Every attributes that can be specified per-point (the ones that\n |      are `arrayOk: true`) are available. variables `label`, `color`,\n |      `value`, `percent` and `text`.\n |      \n |      The 'texttemplate' property is a string and must be specified as:\n |        - A string\n |        - A number that will be converted to a string\n |        - A tuple, list, or one-dimensional numpy array of the above\n |      \n |      Returns\n |      -------\n |      str|numpy.ndarray\n |  \n |  texttemplatesrc\n |      Sets the source reference on Chart Studio Cloud for\n |      texttemplate .\n |      \n |      The 'texttemplatesrc' property must be specified as a string or\n |      as a plotly.grid_objs.Column object\n |      \n |      Returns\n |      -------\n |      str\n |  \n |  title\n |      The 'title' property is an instance of Title\n |      that may be specified as:\n |        - An instance of :class:`plotly.graph_objs.pie.Title`\n |        - A dict of string/value properties that will be passed\n |          to the Title constructor\n |      \n |          Supported dict properties:\n |              \n |              font\n |                  Sets the font used for `title`. Note that the\n |                  title's font used to be set by the now\n |                  deprecated `titlefont` attribute.\n |              position\n |                  Specifies the location of the `title`. Note\n |                  that the title's position used to be set by the\n |                  now deprecated `titleposition` attribute.\n |              text\n |                  Sets the title of the chart. If it is empty, no\n |                  title is displayed. Note that before the\n |                  existence of `title.text`, the title's contents\n |                  used to be defined as the `title` attribute\n |                  itself. This behavior has been deprecated.\n |      \n |      Returns\n |      -------\n |      plotly.graph_objs.pie.Title\n |  \n |  titlefont\n |      Deprecated: Please use pie.title.font instead. Sets the font\n |      used for `title`. Note that the title's font used to be set by\n |      the now deprecated `titlefont` attribute.\n |      \n |      The 'font' property is an instance of Font\n |      that may be specified as:\n |        - An instance of :class:`plotly.graph_objs.pie.title.Font`\n |        - A dict of string/value properties that will be passed\n |          to the Font constructor\n |      \n |          Supported dict properties:\n |              \n |              color\n |      \n |              colorsrc\n |                  Sets the source reference on Chart Studio Cloud\n |                  for  color .\n |              family\n |                  HTML font family - the typeface that will be\n |                  applied by the web browser. The web browser\n |                  will only be able to apply a font if it is\n |                  available on the system which it operates.\n |                  Provide multiple font families, separated by\n |                  commas, to indicate the preference in which to\n |                  apply fonts if they aren't available on the\n |                  system. The Chart Studio Cloud (at\n |                  https://chart-studio.plotly.com or on-premise)\n |                  generates images on a server, where only a\n |                  select number of fonts are installed and\n |                  supported. These include \"Arial\", \"Balto\",\n |                  \"Courier New\", \"Droid Sans\",, \"Droid Serif\",\n |                  \"Droid Sans Mono\", \"Gravitas One\", \"Old\n |                  Standard TT\", \"Open Sans\", \"Overpass\", \"PT Sans\n |                  Narrow\", \"Raleway\", \"Times New Roman\".\n |              familysrc\n |                  Sets the source reference on Chart Studio Cloud\n |                  for  family .\n |              size\n |      \n |              sizesrc\n |                  Sets the source reference on Chart Studio Cloud\n |                  for  size .\n |      \n |      Returns\n |      -------\n |  \n |  titleposition\n |      Deprecated: Please use pie.title.position instead. Specifies\n |      the location of the `title`. Note that the title's position\n |      used to be set by the now deprecated `titleposition` attribute.\n |      \n |      The 'position' property is an enumeration that may be specified as:\n |        - One of the following enumeration values:\n |              ['top left', 'top center', 'top right', 'middle center',\n |              'bottom left', 'bottom center', 'bottom right']\n |      \n |      Returns\n |      -------\n |  \n |  uid\n |      Assign an id to this trace, Use this to provide object\n |      constancy between traces during animations and transitions.\n |      \n |      The 'uid' property is a string and must be specified as:\n |        - A string\n |        - A number that will be converted to a string\n |      \n |      Returns\n |      -------\n |      str\n |  \n |  uirevision\n |      Controls persistence of some user-driven changes to the trace:\n |      `constraintrange` in `parcoords` traces, as well as some\n |      `editable: true` modifications such as `name` and\n |      `colorbar.title`. Defaults to `layout.uirevision`. Note that\n |      other user-driven trace attribute changes are controlled by\n |      `layout` attributes: `trace.visible` is controlled by\n |      `layout.legend.uirevision`, `selectedpoints` is controlled by\n |      `layout.selectionrevision`, and `colorbar.(x|y)` (accessible\n |      with `config: {editable: true}`) is controlled by\n |      `layout.editrevision`. Trace changes are tracked by `uid`,\n |      which only falls back on trace index if no `uid` is provided.\n |      So if your app can add/remove traces before the end of the\n |      `data` array, such that the same trace has a different index,\n |      you can still preserve user-driven changes if you give each\n |      trace a `uid` that stays with it as it moves.\n |      \n |      The 'uirevision' property accepts values of any type\n |      \n |      Returns\n |      -------\n |      Any\n |  \n |  values\n |      Sets the values of the sectors. If omitted, we count\n |      occurrences of each label.\n |      \n |      The 'values' property is an array that may be specified as a tuple,\n |      list, numpy array, or pandas Series\n |      \n |      Returns\n |      -------\n |      numpy.ndarray\n |  \n |  valuessrc\n |      Sets the source reference on Chart Studio Cloud for  values .\n |      \n |      The 'valuessrc' property must be specified as a string or\n |      as a plotly.grid_objs.Column object\n |      \n |      Returns\n |      -------\n |      str\n |  \n |  visible\n |      Determines whether or not this trace is visible. If\n |      \"legendonly\", the trace is not drawn, but can appear as a\n |      legend item (provided that the legend itself is visible).\n |      \n |      The 'visible' property is an enumeration that may be specified as:\n |        - One of the following enumeration values:\n |              [True, False, 'legendonly']\n |      \n |      Returns\n |      -------\n |      Any\n |  \n |  ----------------------------------------------------------------------\n |  Methods inherited from plotly.basedatatypes.BaseTraceType:\n |  \n |  on_click(self, callback, append=False)\n |      Register function to be called when the user clicks on one or more\n |      points in this trace.\n |      \n |      Note: Callbacks will only be triggered when the trace belongs to a\n |      instance of plotly.graph_objs.FigureWidget and it is displayed in an\n |      ipywidget context. Callbacks will not be triggered on figures\n |      that are displayed using plot/iplot.\n |      \n |      Parameters\n |      ----------\n |      callback\n |          Callable function that accepts 3 arguments\n |      \n |          - this trace\n |          - plotly.callbacks.Points object\n |          - plotly.callbacks.InputDeviceState object\n |      \n |      append : bool\n |          If False (the default), this callback replaces any previously\n |          defined on_click callbacks for this trace. If True,\n |          this callback is appended to the list of any previously defined\n |          callbacks.\n |      \n |      Returns\n |      -------\n |      None\n |      \n |      Examples\n |      --------\n |      \n |      >>> import plotly.graph_objects as go\n |      >>> from plotly.callbacks import Points, InputDeviceState\n |      >>> points, state = Points(), InputDeviceState()\n |      \n |      >>> def click_fn(trace, points, state):\n |      ...     inds = points.point_inds\n |      ...     # Do something\n |      \n |      >>> trace = go.Scatter(x=[1, 2], y=[3, 0])\n |      >>> trace.on_click(click_fn)\n |      \n |      Note: The creation of the `points` and `state` objects is optional,\n |      it's simply a convenience to help the text editor perform completion\n |      on the arguments inside `click_fn`\n |  \n |  on_deselect(self, callback, append=False)\n |      Register function to be called when the user deselects points\n |      in this trace using doubleclick.\n |      \n |      Note: Callbacks will only be triggered when the trace belongs to a\n |      instance of plotly.graph_objs.FigureWidget and it is displayed in an\n |      ipywidget context. Callbacks will not be triggered on figures\n |      that are displayed using plot/iplot.\n |      \n |      Parameters\n |      ----------\n |      callback\n |          Callable function that accepts 3 arguments\n |      \n |          - this trace\n |          - plotly.callbacks.Points object\n |      \n |      append : bool\n |          If False (the default), this callback replaces any previously\n |          defined on_deselect callbacks for this trace. If True,\n |          this callback is appended to the list of any previously defined\n |          callbacks.\n |      \n |      Returns\n |      -------\n |      None\n |      \n |      Examples\n |      --------\n |      \n |      >>> import plotly.graph_objects as go\n |      >>> from plotly.callbacks import Points\n |      >>> points = Points()\n |      \n |      >>> def deselect_fn(trace, points):\n |      ...     inds = points.point_inds\n |      ...     # Do something\n |      \n |      >>> trace = go.Scatter(x=[1, 2], y=[3, 0])\n |      >>> trace.on_deselect(deselect_fn)\n |      \n |      Note: The creation of the `points` object is optional,\n |      it's simply a convenience to help the text editor perform completion\n |      on the `points` arguments inside `selection_fn`\n |  \n |  on_hover(self, callback, append=False)\n |      Register function to be called when the user hovers over one or more\n |      points in this trace\n |      \n |      Note: Callbacks will only be triggered when the trace belongs to a\n |      instance of plotly.graph_objs.FigureWidget and it is displayed in an\n |      ipywidget context. Callbacks will not be triggered on figures\n |      that are displayed using plot/iplot.\n |      \n |      Parameters\n |      ----------\n |      callback\n |          Callable function that accepts 3 arguments\n |      \n |          - this trace\n |          - plotly.callbacks.Points object\n |          - plotly.callbacks.InputDeviceState object\n |      \n |      append : bool\n |          If False (the default), this callback replaces any previously\n |          defined on_hover callbacks for this trace. If True,\n |          this callback is appended to the list of any previously defined\n |          callbacks.\n |      \n |      Returns\n |      -------\n |      None\n |      \n |      Examples\n |      --------\n |      \n |      >>> import plotly.graph_objects as go\n |      >>> from plotly.callbacks import Points, InputDeviceState\n |      >>> points, state = Points(), InputDeviceState()\n |      \n |      >>> def hover_fn(trace, points, state):\n |      ...     inds = points.point_inds\n |      ...     # Do something\n |      \n |      >>> trace = go.Scatter(x=[1, 2], y=[3, 0])\n |      >>> trace.on_hover(hover_fn)\n |      \n |      Note: The creation of the `points` and `state` objects is optional,\n |      it's simply a convenience to help the text editor perform completion\n |      on the arguments inside `hover_fn`\n |  \n |  on_selection(self, callback, append=False)\n |      Register function to be called when the user selects one or more\n |      points in this trace.\n |      \n |      Note: Callbacks will only be triggered when the trace belongs to a\n |      instance of plotly.graph_objs.FigureWidget and it is displayed in an\n |      ipywidget context. Callbacks will not be triggered on figures\n |      that are displayed using plot/iplot.\n |      \n |      Parameters\n |      ----------\n |      callback\n |          Callable function that accepts 4 arguments\n |      \n |          - this trace\n |          - plotly.callbacks.Points object\n |          - plotly.callbacks.BoxSelector or plotly.callbacks.LassoSelector\n |      \n |      append : bool\n |          If False (the default), this callback replaces any previously\n |          defined on_selection callbacks for this trace. If True,\n |          this callback is appended to the list of any previously defined\n |          callbacks.\n |      \n |      Returns\n |      -------\n |      None\n |      \n |      Examples\n |      --------\n |      \n |      >>> import plotly.graph_objects as go\n |      >>> from plotly.callbacks import Points\n |      >>> points = Points()\n |      \n |      >>> def selection_fn(trace, points, selector):\n |      ...     inds = points.point_inds\n |      ...     # Do something\n |      \n |      >>> trace = go.Scatter(x=[1, 2], y=[3, 0])\n |      >>> trace.on_selection(selection_fn)\n |      \n |      Note: The creation of the `points` object is optional,\n |      it's simply a convenience to help the text editor perform completion\n |      on the `points` arguments inside `selection_fn`\n |  \n |  on_unhover(self, callback, append=False)\n |      Register function to be called when the user unhovers away from one\n |      or more points in this trace.\n |      \n |      Note: Callbacks will only be triggered when the trace belongs to a\n |      instance of plotly.graph_objs.FigureWidget and it is displayed in an\n |      ipywidget context. Callbacks will not be triggered on figures\n |      that are displayed using plot/iplot.\n |      \n |      Parameters\n |      ----------\n |      callback\n |          Callable function that accepts 3 arguments\n |      \n |          - this trace\n |          - plotly.callbacks.Points object\n |          - plotly.callbacks.InputDeviceState object\n |      \n |      append : bool\n |          If False (the default), this callback replaces any previously\n |          defined on_unhover callbacks for this trace. If True,\n |          this callback is appended to the list of any previously defined\n |          callbacks.\n |      \n |      Returns\n |      -------\n |      None\n |      \n |      Examples\n |      --------\n |      \n |      >>> import plotly.graph_objects as go\n |      >>> from plotly.callbacks import Points, InputDeviceState\n |      >>> points, state = Points(), InputDeviceState()\n |      \n |      >>> def unhover_fn(trace, points, state):\n |      ...     inds = points.point_inds\n |      ...     # Do something\n |      \n |      >>> trace = go.Scatter(x=[1, 2], y=[3, 0])\n |      >>> trace.on_unhover(unhover_fn)\n |      \n |      Note: The creation of the `points` and `state` objects is optional,\n |      it's simply a convenience to help the text editor perform completion\n |      on the arguments inside `unhover_fn`\n |  \n |  ----------------------------------------------------------------------\n |  Methods inherited from plotly.basedatatypes.BasePlotlyType:\n |  \n |  __contains__(self, prop)\n |      Determine whether object contains a property or nested property\n |      \n |      Parameters\n |      ----------\n |      prop : str|tuple\n |          If prop is a simple string (e.g. 'foo'), then return true of the\n |          object contains an element named 'foo'\n |      \n |          If prop is a property path string (e.g. 'foo[0].bar'),\n |          then return true if the obejct contains the nested elements for\n |          each entry in the path string (e.g. 'bar' in obj['foo'][0])\n |      \n |          If prop is a property path tuple (e.g. ('foo', 0, 'bar')),\n |          then return true if the object contains the nested elements for\n |          each entry in the path string (e.g. 'bar' in obj['foo'][0])\n |      \n |      Returns\n |      -------\n |      bool\n |  \n |  __eq__(self, other)\n |      Test for equality\n |      \n |      To be considered equal, `other` must have the same type as this object\n |      and their `to_plotly_json` representaitons must be identical.\n |      \n |      Parameters\n |      ----------\n |      other\n |          The object to compare against\n |      \n |      Returns\n |      -------\n |      bool\n |  \n |  __getitem__(self, prop)\n |      Get item or nested item from object\n |      \n |      Parameters\n |      ----------\n |      prop : str|tuple\n |      \n |          If prop is the name of a property of this object, then the\n |          property is returned.\n |      \n |          If prop is a nested property path string (e.g. 'foo[1].bar'),\n |          then a nested property is returned (e.g. obj['foo'][1]['bar'])\n |      \n |          If prop is a path tuple (e.g. ('foo', 1, 'bar')), then a nested\n |          property is returned (e.g. obj['foo'][1]['bar']).\n |      \n |      Returns\n |      -------\n |      Any\n |  \n |  __iter__(self)\n |      Return an iterator over the object's properties\n |  \n |  __reduce__(self)\n |      Custom implementation of reduce is used to support deep copying\n |      and pickling\n |  \n |  __repr__(self)\n |      Customize object representation when displayed in the\n |      terminal/notebook\n |  \n |  __setattr__(self, prop, value)\n |      Parameters\n |      ----------\n |      prop : str\n |          The name of a direct child of this object\n |      value\n |          New property value\n |      Returns\n |      -------\n |      None\n |  \n |  __setitem__(self, prop, value)\n |      Parameters\n |      ----------\n |      prop : str\n |          The name of a direct child of this object\n |      \n |          Note: Setting nested properties using property path string or\n |          property path tuples is not supported.\n |      value\n |          New property value\n |      \n |      Returns\n |      -------\n |      None\n |  \n |  on_change(self, callback, *args, **kwargs)\n |      Register callback function to be called when certain properties or\n |      subproperties of this object are modified.\n |      \n |      Callback will be invoked whenever ANY of these properties is\n |      modified. Furthermore, the callback will only be invoked once even\n |      if multiple properties are modified during the same restyle /\n |      relayout / update operation.\n |      \n |      Parameters\n |      ----------\n |      callback : function\n |          Function that accepts 1 + len(`args`) parameters. First parameter\n |          is this object. Second through last parameters are the\n |          property / subpropery values referenced by args.\n |      args : list[str|tuple[int|str]]\n |          List of property references where each reference may be one of:\n |      \n |            1) A property name string (e.g. 'foo') for direct properties\n |            2) A property path string (e.g. 'foo[0].bar') for\n |               subproperties\n |            3) A property path tuple (e.g. ('foo', 0, 'bar')) for\n |               subproperties\n |      \n |      append : bool\n |          True if callback should be appended to previously registered\n |          callback on the same properties, False if callback should replace\n |          previously registered callbacks on the same properties. Defaults\n |          to False.\n |      \n |      Examples\n |      --------\n |      \n |      Register callback that prints out the range extents of the xaxis and\n |      yaxis whenever either either of them changes.\n |      \n |      >>> import plotly.graph_objects as go\n |      >>> fig = go.Figure(go.Scatter(x=[1, 2], y=[1, 0]))\n |      >>> fig.layout.on_change(\n |      ...   lambda obj, xrange, yrange: print(\"%s-%s\" % (xrange, yrange)),\n |      ...   ('xaxis', 'range'), ('yaxis', 'range'))\n |      \n |      \n |      Returns\n |      -------\n |      None\n |  \n |  pop(self, key, *args)\n |      Remove the value associated with the specified key and return it\n |      \n |      Parameters\n |      ----------\n |      key: str\n |          Property name\n |      dflt\n |          The default value to return if key was not found in object\n |      \n |      Returns\n |      -------\n |      value\n |          The removed value that was previously associated with key\n |      \n |      Raises\n |      ------\n |      KeyError\n |          If key is not in object and no dflt argument specified\n |  \n |  to_plotly_json(self)\n |      Return plotly JSON representation of object as a Python dict\n |      \n |      Returns\n |      -------\n |      dict\n |  \n |  update(self, dict1=None, overwrite=False, **kwargs)\n |      Update the properties of an object with a dict and/or with\n |      keyword arguments.\n |      \n |      This recursively updates the structure of the original\n |      object with the values in the input dict / keyword arguments.\n |      \n |      Parameters\n |      ----------\n |      dict1 : dict\n |          Dictionary of properties to be updated\n |      overwrite: bool\n |          If True, overwrite existing properties. If False, apply updates\n |          to existing properties recursively, preserving existing\n |          properties that are not specified in the update operation.\n |      kwargs :\n |          Keyword/value pair of properties to be updated\n |      \n |      Returns\n |      -------\n |      BasePlotlyType\n |          Updated plotly object\n |  \n |  ----------------------------------------------------------------------\n |  Readonly properties inherited from plotly.basedatatypes.BasePlotlyType:\n |  \n |  figure\n |      Reference to the top-level Figure or FigureWidget that this object\n |      belongs to. None if the object does not belong to a Figure\n |      \n |      Returns\n |      -------\n |      Union[BaseFigure, None]\n |  \n |  parent\n |      Return the object's parent, or None if the object has no parent\n |      Returns\n |      -------\n |      BasePlotlyType|BaseFigure\n |  \n |  plotly_name\n |      The plotly name of the object\n |      \n |      Returns\n |      -------\n |      str\n |  \n |  ----------------------------------------------------------------------\n |  Data descriptors inherited from plotly.basedatatypes.BasePlotlyType:\n |  \n |  __dict__\n |      dictionary for instance variables (if defined)\n |  \n |  __weakref__\n |      list of weak references to the object (if defined)\n |  \n |  ----------------------------------------------------------------------\n |  Data and other attributes inherited from plotly.basedatatypes.BasePlotlyType:\n |  \n |  __hash__ = None\n\n"
     ]
    }
   ],
   "source": [
    "fig = go.Figure(\n",
    "    data=[\n",
    "        go.Pie(\n",
    "            labels=ser.index, \n",
    "            values=ser.values,\n",
    "            hole=.5,\n",
    "            textinfo='label+percent',\n",
    "            title= \"Texas\",\n",
    "            marker=dict(colors = colors)\n",
    "\n",
    "            )\n",
    "    ]\n",
    ")\n",
    "fig.show()"
   ]
  },
  {
   "cell_type": "code",
   "execution_count": 54,
   "metadata": {},
   "outputs": [
    {
     "output_type": "display_data",
     "data": {
      "application/vnd.plotly.v1+json": {
       "config": {
        "plotlyServerURL": "https://plot.ly"
       },
       "data": [
        {
         "alignmentgroup": "True",
         "hovertemplate": "variable=Wind<br>index=%{x}<br>value=%{y}<extra></extra>",
         "legendgroup": "Wind",
         "marker": {
          "color": "#636efa"
         },
         "name": "Wind",
         "offsetgroup": "Wind",
         "orientation": "v",
         "showlegend": true,
         "textposition": "auto",
         "type": "bar",
         "x": [
          "US",
          "TX",
          "CA",
          "NY",
          "FL",
          "IA",
          "PA",
          "IL"
         ],
         "xaxis": "x",
         "y": [
          8.42,
          19.56,
          7.03,
          3.75,
          0,
          57.51,
          1.68,
          9.86
         ],
         "yaxis": "y"
        },
        {
         "alignmentgroup": "True",
         "hovertemplate": "variable=Solar<br>index=%{x}<br>value=%{y}<extra></extra>",
         "legendgroup": "Solar",
         "marker": {
          "color": "#EF553B"
         },
         "name": "Solar",
         "offsetgroup": "Solar",
         "orientation": "v",
         "showlegend": true,
         "textposition": "auto",
         "type": "bar",
         "x": [
          "US",
          "TX",
          "CA",
          "NY",
          "FL",
          "IA",
          "PA",
          "IL"
         ],
         "xaxis": "x",
         "y": [
          3.31,
          2,
          24.73,
          2.59,
          3.08,
          0.4,
          0.34,
          0.31
         ],
         "yaxis": "y"
        },
        {
         "alignmentgroup": "True",
         "hovertemplate": "variable=Gas<br>index=%{x}<br>value=%{y}<extra></extra>",
         "legendgroup": "Gas",
         "marker": {
          "color": "#00cc96"
         },
         "name": "Gas",
         "offsetgroup": "Gas",
         "orientation": "v",
         "showlegend": true,
         "textposition": "auto",
         "type": "bar",
         "x": [
          "US",
          "TX",
          "CA",
          "NY",
          "FL",
          "IA",
          "PA",
          "IL"
         ],
         "xaxis": "x",
         "y": [
          40.33,
          52.14,
          47.32,
          40.15,
          75.31,
          11.72,
          52.09,
          13.79
         ],
         "yaxis": "y"
        },
        {
         "alignmentgroup": "True",
         "hovertemplate": "variable=Nuclear<br>index=%{x}<br>value=%{y}<extra></extra>",
         "legendgroup": "Nuclear",
         "marker": {
          "color": "#ab63fa"
         },
         "name": "Nuclear",
         "offsetgroup": "Nuclear",
         "orientation": "v",
         "showlegend": true,
         "textposition": "auto",
         "type": "bar",
         "x": [
          "US",
          "TX",
          "CA",
          "NY",
          "FL",
          "IA",
          "PA",
          "IL"
         ],
         "xaxis": "x",
         "y": [
          19.7,
          8.71,
          8.38,
          29.15,
          11.78,
          4.89,
          33.13,
          57.76
         ],
         "yaxis": "y"
        },
        {
         "alignmentgroup": "True",
         "hovertemplate": "variable=Coal<br>index=%{x}<br>value=%{y}<extra></extra>",
         "legendgroup": "Coal",
         "marker": {
          "color": "#FFA15A"
         },
         "name": "Coal",
         "offsetgroup": "Coal",
         "orientation": "v",
         "showlegend": true,
         "textposition": "auto",
         "type": "bar",
         "x": [
          "US",
          "TX",
          "CA",
          "NY",
          "FL",
          "IA",
          "PA",
          "IL"
         ],
         "xaxis": "x",
         "y": [
          19.3,
          16.58,
          0.15,
          0.11,
          6.68,
          23.84,
          10.31,
          17.87
         ],
         "yaxis": "y"
        },
        {
         "alignmentgroup": "True",
         "hovertemplate": "variable=Hydro<br>index=%{x}<br>value=%{y}<extra></extra>",
         "legendgroup": "Hydro",
         "marker": {
          "color": "#19d3f3"
         },
         "name": "Hydro",
         "offsetgroup": "Hydro",
         "orientation": "v",
         "showlegend": true,
         "textposition": "auto",
         "type": "bar",
         "x": [
          "US",
          "TX",
          "CA",
          "NY",
          "FL",
          "IA",
          "PA",
          "IL"
         ],
         "xaxis": "x",
         "y": [
          7.26,
          0.38,
          11.05,
          23.82,
          0.08,
          1.45,
          1.54,
          0.08
         ],
         "yaxis": "y"
        },
        {
         "alignmentgroup": "True",
         "hovertemplate": "variable=other<br>index=%{x}<br>value=%{y}<extra></extra>",
         "legendgroup": "other",
         "marker": {
          "color": "#FF6692"
         },
         "name": "other",
         "offsetgroup": "other",
         "orientation": "v",
         "showlegend": true,
         "textposition": "auto",
         "type": "bar",
         "x": [
          "US",
          "TX",
          "CA",
          "NY",
          "FL",
          "IA",
          "PA",
          "IL"
         ],
         "xaxis": "x",
         "y": [
          1.6799999999999926,
          0.6300000000000097,
          1.3400000000000034,
          0.4300000000000068,
          3.0700000000000074,
          0.18999999999999773,
          0.9099999999999824,
          0.3299999999999983
         ],
         "yaxis": "y"
        }
       ],
       "layout": {
        "barmode": "relative",
        "legend": {
         "title": {
          "text": "variable"
         },
         "tracegroupgap": 0
        },
        "margin": {
         "t": 60
        },
        "template": {
         "data": {
          "bar": [
           {
            "error_x": {
             "color": "#2a3f5f"
            },
            "error_y": {
             "color": "#2a3f5f"
            },
            "marker": {
             "line": {
              "color": "#E5ECF6",
              "width": 0.5
             }
            },
            "type": "bar"
           }
          ],
          "barpolar": [
           {
            "marker": {
             "line": {
              "color": "#E5ECF6",
              "width": 0.5
             }
            },
            "type": "barpolar"
           }
          ],
          "carpet": [
           {
            "aaxis": {
             "endlinecolor": "#2a3f5f",
             "gridcolor": "white",
             "linecolor": "white",
             "minorgridcolor": "white",
             "startlinecolor": "#2a3f5f"
            },
            "baxis": {
             "endlinecolor": "#2a3f5f",
             "gridcolor": "white",
             "linecolor": "white",
             "minorgridcolor": "white",
             "startlinecolor": "#2a3f5f"
            },
            "type": "carpet"
           }
          ],
          "choropleth": [
           {
            "colorbar": {
             "outlinewidth": 0,
             "ticks": ""
            },
            "type": "choropleth"
           }
          ],
          "contour": [
           {
            "colorbar": {
             "outlinewidth": 0,
             "ticks": ""
            },
            "colorscale": [
             [
              0,
              "#0d0887"
             ],
             [
              0.1111111111111111,
              "#46039f"
             ],
             [
              0.2222222222222222,
              "#7201a8"
             ],
             [
              0.3333333333333333,
              "#9c179e"
             ],
             [
              0.4444444444444444,
              "#bd3786"
             ],
             [
              0.5555555555555556,
              "#d8576b"
             ],
             [
              0.6666666666666666,
              "#ed7953"
             ],
             [
              0.7777777777777778,
              "#fb9f3a"
             ],
             [
              0.8888888888888888,
              "#fdca26"
             ],
             [
              1,
              "#f0f921"
             ]
            ],
            "type": "contour"
           }
          ],
          "contourcarpet": [
           {
            "colorbar": {
             "outlinewidth": 0,
             "ticks": ""
            },
            "type": "contourcarpet"
           }
          ],
          "heatmap": [
           {
            "colorbar": {
             "outlinewidth": 0,
             "ticks": ""
            },
            "colorscale": [
             [
              0,
              "#0d0887"
             ],
             [
              0.1111111111111111,
              "#46039f"
             ],
             [
              0.2222222222222222,
              "#7201a8"
             ],
             [
              0.3333333333333333,
              "#9c179e"
             ],
             [
              0.4444444444444444,
              "#bd3786"
             ],
             [
              0.5555555555555556,
              "#d8576b"
             ],
             [
              0.6666666666666666,
              "#ed7953"
             ],
             [
              0.7777777777777778,
              "#fb9f3a"
             ],
             [
              0.8888888888888888,
              "#fdca26"
             ],
             [
              1,
              "#f0f921"
             ]
            ],
            "type": "heatmap"
           }
          ],
          "heatmapgl": [
           {
            "colorbar": {
             "outlinewidth": 0,
             "ticks": ""
            },
            "colorscale": [
             [
              0,
              "#0d0887"
             ],
             [
              0.1111111111111111,
              "#46039f"
             ],
             [
              0.2222222222222222,
              "#7201a8"
             ],
             [
              0.3333333333333333,
              "#9c179e"
             ],
             [
              0.4444444444444444,
              "#bd3786"
             ],
             [
              0.5555555555555556,
              "#d8576b"
             ],
             [
              0.6666666666666666,
              "#ed7953"
             ],
             [
              0.7777777777777778,
              "#fb9f3a"
             ],
             [
              0.8888888888888888,
              "#fdca26"
             ],
             [
              1,
              "#f0f921"
             ]
            ],
            "type": "heatmapgl"
           }
          ],
          "histogram": [
           {
            "marker": {
             "colorbar": {
              "outlinewidth": 0,
              "ticks": ""
             }
            },
            "type": "histogram"
           }
          ],
          "histogram2d": [
           {
            "colorbar": {
             "outlinewidth": 0,
             "ticks": ""
            },
            "colorscale": [
             [
              0,
              "#0d0887"
             ],
             [
              0.1111111111111111,
              "#46039f"
             ],
             [
              0.2222222222222222,
              "#7201a8"
             ],
             [
              0.3333333333333333,
              "#9c179e"
             ],
             [
              0.4444444444444444,
              "#bd3786"
             ],
             [
              0.5555555555555556,
              "#d8576b"
             ],
             [
              0.6666666666666666,
              "#ed7953"
             ],
             [
              0.7777777777777778,
              "#fb9f3a"
             ],
             [
              0.8888888888888888,
              "#fdca26"
             ],
             [
              1,
              "#f0f921"
             ]
            ],
            "type": "histogram2d"
           }
          ],
          "histogram2dcontour": [
           {
            "colorbar": {
             "outlinewidth": 0,
             "ticks": ""
            },
            "colorscale": [
             [
              0,
              "#0d0887"
             ],
             [
              0.1111111111111111,
              "#46039f"
             ],
             [
              0.2222222222222222,
              "#7201a8"
             ],
             [
              0.3333333333333333,
              "#9c179e"
             ],
             [
              0.4444444444444444,
              "#bd3786"
             ],
             [
              0.5555555555555556,
              "#d8576b"
             ],
             [
              0.6666666666666666,
              "#ed7953"
             ],
             [
              0.7777777777777778,
              "#fb9f3a"
             ],
             [
              0.8888888888888888,
              "#fdca26"
             ],
             [
              1,
              "#f0f921"
             ]
            ],
            "type": "histogram2dcontour"
           }
          ],
          "mesh3d": [
           {
            "colorbar": {
             "outlinewidth": 0,
             "ticks": ""
            },
            "type": "mesh3d"
           }
          ],
          "parcoords": [
           {
            "line": {
             "colorbar": {
              "outlinewidth": 0,
              "ticks": ""
             }
            },
            "type": "parcoords"
           }
          ],
          "pie": [
           {
            "automargin": true,
            "type": "pie"
           }
          ],
          "scatter": [
           {
            "marker": {
             "colorbar": {
              "outlinewidth": 0,
              "ticks": ""
             }
            },
            "type": "scatter"
           }
          ],
          "scatter3d": [
           {
            "line": {
             "colorbar": {
              "outlinewidth": 0,
              "ticks": ""
             }
            },
            "marker": {
             "colorbar": {
              "outlinewidth": 0,
              "ticks": ""
             }
            },
            "type": "scatter3d"
           }
          ],
          "scattercarpet": [
           {
            "marker": {
             "colorbar": {
              "outlinewidth": 0,
              "ticks": ""
             }
            },
            "type": "scattercarpet"
           }
          ],
          "scattergeo": [
           {
            "marker": {
             "colorbar": {
              "outlinewidth": 0,
              "ticks": ""
             }
            },
            "type": "scattergeo"
           }
          ],
          "scattergl": [
           {
            "marker": {
             "colorbar": {
              "outlinewidth": 0,
              "ticks": ""
             }
            },
            "type": "scattergl"
           }
          ],
          "scattermapbox": [
           {
            "marker": {
             "colorbar": {
              "outlinewidth": 0,
              "ticks": ""
             }
            },
            "type": "scattermapbox"
           }
          ],
          "scatterpolar": [
           {
            "marker": {
             "colorbar": {
              "outlinewidth": 0,
              "ticks": ""
             }
            },
            "type": "scatterpolar"
           }
          ],
          "scatterpolargl": [
           {
            "marker": {
             "colorbar": {
              "outlinewidth": 0,
              "ticks": ""
             }
            },
            "type": "scatterpolargl"
           }
          ],
          "scatterternary": [
           {
            "marker": {
             "colorbar": {
              "outlinewidth": 0,
              "ticks": ""
             }
            },
            "type": "scatterternary"
           }
          ],
          "surface": [
           {
            "colorbar": {
             "outlinewidth": 0,
             "ticks": ""
            },
            "colorscale": [
             [
              0,
              "#0d0887"
             ],
             [
              0.1111111111111111,
              "#46039f"
             ],
             [
              0.2222222222222222,
              "#7201a8"
             ],
             [
              0.3333333333333333,
              "#9c179e"
             ],
             [
              0.4444444444444444,
              "#bd3786"
             ],
             [
              0.5555555555555556,
              "#d8576b"
             ],
             [
              0.6666666666666666,
              "#ed7953"
             ],
             [
              0.7777777777777778,
              "#fb9f3a"
             ],
             [
              0.8888888888888888,
              "#fdca26"
             ],
             [
              1,
              "#f0f921"
             ]
            ],
            "type": "surface"
           }
          ],
          "table": [
           {
            "cells": {
             "fill": {
              "color": "#EBF0F8"
             },
             "line": {
              "color": "white"
             }
            },
            "header": {
             "fill": {
              "color": "#C8D4E3"
             },
             "line": {
              "color": "white"
             }
            },
            "type": "table"
           }
          ]
         },
         "layout": {
          "annotationdefaults": {
           "arrowcolor": "#2a3f5f",
           "arrowhead": 0,
           "arrowwidth": 1
          },
          "autotypenumbers": "strict",
          "coloraxis": {
           "colorbar": {
            "outlinewidth": 0,
            "ticks": ""
           }
          },
          "colorscale": {
           "diverging": [
            [
             0,
             "#8e0152"
            ],
            [
             0.1,
             "#c51b7d"
            ],
            [
             0.2,
             "#de77ae"
            ],
            [
             0.3,
             "#f1b6da"
            ],
            [
             0.4,
             "#fde0ef"
            ],
            [
             0.5,
             "#f7f7f7"
            ],
            [
             0.6,
             "#e6f5d0"
            ],
            [
             0.7,
             "#b8e186"
            ],
            [
             0.8,
             "#7fbc41"
            ],
            [
             0.9,
             "#4d9221"
            ],
            [
             1,
             "#276419"
            ]
           ],
           "sequential": [
            [
             0,
             "#0d0887"
            ],
            [
             0.1111111111111111,
             "#46039f"
            ],
            [
             0.2222222222222222,
             "#7201a8"
            ],
            [
             0.3333333333333333,
             "#9c179e"
            ],
            [
             0.4444444444444444,
             "#bd3786"
            ],
            [
             0.5555555555555556,
             "#d8576b"
            ],
            [
             0.6666666666666666,
             "#ed7953"
            ],
            [
             0.7777777777777778,
             "#fb9f3a"
            ],
            [
             0.8888888888888888,
             "#fdca26"
            ],
            [
             1,
             "#f0f921"
            ]
           ],
           "sequentialminus": [
            [
             0,
             "#0d0887"
            ],
            [
             0.1111111111111111,
             "#46039f"
            ],
            [
             0.2222222222222222,
             "#7201a8"
            ],
            [
             0.3333333333333333,
             "#9c179e"
            ],
            [
             0.4444444444444444,
             "#bd3786"
            ],
            [
             0.5555555555555556,
             "#d8576b"
            ],
            [
             0.6666666666666666,
             "#ed7953"
            ],
            [
             0.7777777777777778,
             "#fb9f3a"
            ],
            [
             0.8888888888888888,
             "#fdca26"
            ],
            [
             1,
             "#f0f921"
            ]
           ]
          },
          "colorway": [
           "#636efa",
           "#EF553B",
           "#00cc96",
           "#ab63fa",
           "#FFA15A",
           "#19d3f3",
           "#FF6692",
           "#B6E880",
           "#FF97FF",
           "#FECB52"
          ],
          "font": {
           "color": "#2a3f5f"
          },
          "geo": {
           "bgcolor": "white",
           "lakecolor": "white",
           "landcolor": "#E5ECF6",
           "showlakes": true,
           "showland": true,
           "subunitcolor": "white"
          },
          "hoverlabel": {
           "align": "left"
          },
          "hovermode": "closest",
          "mapbox": {
           "style": "light"
          },
          "paper_bgcolor": "white",
          "plot_bgcolor": "#E5ECF6",
          "polar": {
           "angularaxis": {
            "gridcolor": "white",
            "linecolor": "white",
            "ticks": ""
           },
           "bgcolor": "#E5ECF6",
           "radialaxis": {
            "gridcolor": "white",
            "linecolor": "white",
            "ticks": ""
           }
          },
          "scene": {
           "xaxis": {
            "backgroundcolor": "#E5ECF6",
            "gridcolor": "white",
            "gridwidth": 2,
            "linecolor": "white",
            "showbackground": true,
            "ticks": "",
            "zerolinecolor": "white"
           },
           "yaxis": {
            "backgroundcolor": "#E5ECF6",
            "gridcolor": "white",
            "gridwidth": 2,
            "linecolor": "white",
            "showbackground": true,
            "ticks": "",
            "zerolinecolor": "white"
           },
           "zaxis": {
            "backgroundcolor": "#E5ECF6",
            "gridcolor": "white",
            "gridwidth": 2,
            "linecolor": "white",
            "showbackground": true,
            "ticks": "",
            "zerolinecolor": "white"
           }
          },
          "shapedefaults": {
           "line": {
            "color": "#2a3f5f"
           }
          },
          "ternary": {
           "aaxis": {
            "gridcolor": "white",
            "linecolor": "white",
            "ticks": ""
           },
           "baxis": {
            "gridcolor": "white",
            "linecolor": "white",
            "ticks": ""
           },
           "bgcolor": "#E5ECF6",
           "caxis": {
            "gridcolor": "white",
            "linecolor": "white",
            "ticks": ""
           }
          },
          "title": {
           "x": 0.05
          },
          "xaxis": {
           "automargin": true,
           "gridcolor": "white",
           "linecolor": "white",
           "ticks": "",
           "title": {
            "standoff": 15
           },
           "zerolinecolor": "white",
           "zerolinewidth": 2
          },
          "yaxis": {
           "automargin": true,
           "gridcolor": "white",
           "linecolor": "white",
           "ticks": "",
           "title": {
            "standoff": 15
           },
           "zerolinecolor": "white",
           "zerolinewidth": 2
          }
         }
        },
        "xaxis": {
         "anchor": "y",
         "domain": [
          0,
          1
         ],
         "title": {
          "text": "index"
         }
        },
        "yaxis": {
         "anchor": "x",
         "domain": [
          0,
          1
         ],
         "title": {
          "text": "value"
         }
        }
       }
      }
     },
     "metadata": {}
    }
   ],
   "source": [
    "fig = px.bar(regions_perc)\n",
    "fig.show()"
   ]
  },
  {
   "cell_type": "code",
   "execution_count": 56,
   "metadata": {},
   "outputs": [
    {
     "output_type": "display_data",
     "data": {
      "application/vnd.plotly.v1+json": {
       "config": {
        "plotlyServerURL": "https://plot.ly"
       },
       "data": [
        {
         "hovertemplate": "variable=US<br>Date=%{x}<br>value=%{y}<extra></extra>",
         "legendgroup": "US",
         "line": {
          "color": "#636efa",
          "dash": "solid"
         },
         "mode": "lines",
         "name": "US",
         "orientation": "v",
         "showlegend": true,
         "type": "scatter",
         "x": [
          "2001-01-01T00:00:00",
          "2002-01-01T00:00:00",
          "2003-01-01T00:00:00",
          "2004-01-01T00:00:00",
          "2005-01-01T00:00:00",
          "2006-01-01T00:00:00",
          "2007-01-01T00:00:00",
          "2008-01-01T00:00:00",
          "2009-01-01T00:00:00",
          "2010-01-01T00:00:00",
          "2011-01-01T00:00:00",
          "2012-01-01T00:00:00",
          "2013-01-01T00:00:00",
          "2014-01-01T00:00:00",
          "2015-01-01T00:00:00",
          "2016-01-01T00:00:00",
          "2017-01-01T00:00:00",
          "2018-01-01T00:00:00",
          "2019-01-01T00:00:00",
          "2020-01-01T00:00:00"
         ],
         "xaxis": "x",
         "y": [
          6737.332,
          10354.279,
          11187.467,
          14143.74074,
          17810.54902,
          26589.13699,
          34449.9274,
          55363.10007,
          73886.13171,
          94652.24608,
          120176.59863,
          140821.71472,
          167839.74544,
          181655.2818,
          190718.54771,
          226992.56213,
          254302.69522,
          272667.45372,
          295882.48349,
          337509.81466
         ],
         "yaxis": "y"
        },
        {
         "hovertemplate": "variable=TX<br>Date=%{x}<br>value=%{y}<extra></extra>",
         "legendgroup": "TX",
         "line": {
          "color": "#EF553B",
          "dash": "solid"
         },
         "mode": "lines",
         "name": "TX",
         "orientation": "v",
         "showlegend": true,
         "type": "scatter",
         "x": [
          "2001-01-01T00:00:00",
          "2002-01-01T00:00:00",
          "2003-01-01T00:00:00",
          "2004-01-01T00:00:00",
          "2005-01-01T00:00:00",
          "2006-01-01T00:00:00",
          "2007-01-01T00:00:00",
          "2008-01-01T00:00:00",
          "2009-01-01T00:00:00",
          "2010-01-01T00:00:00",
          "2011-01-01T00:00:00",
          "2012-01-01T00:00:00",
          "2013-01-01T00:00:00",
          "2014-01-01T00:00:00",
          "2015-01-01T00:00:00",
          "2016-01-01T00:00:00",
          "2017-01-01T00:00:00",
          "2018-01-01T00:00:00",
          "2019-01-01T00:00:00",
          "2020-01-01T00:00:00"
         ],
         "xaxis": "x",
         "y": [
          1187.51,
          2656.104,
          2569.853,
          3137.69,
          4237.209,
          6670.515,
          9006.383,
          16225.0217,
          20026.103,
          26251.40954,
          30548.08723,
          32214.17265,
          35873.62094,
          40005.1235,
          44833.365,
          57530.784,
          67060.99652,
          75700.43368,
          83620.37059,
          92989.44624
         ],
         "yaxis": "y"
        },
        {
         "hovertemplate": "variable=CA<br>Date=%{x}<br>value=%{y}<extra></extra>",
         "legendgroup": "CA",
         "line": {
          "color": "#00cc96",
          "dash": "solid"
         },
         "mode": "lines",
         "name": "CA",
         "orientation": "v",
         "showlegend": true,
         "type": "scatter",
         "x": [
          "2001-01-01T00:00:00",
          "2002-01-01T00:00:00",
          "2003-01-01T00:00:00",
          "2004-01-01T00:00:00",
          "2005-01-01T00:00:00",
          "2006-01-01T00:00:00",
          "2007-01-01T00:00:00",
          "2008-01-01T00:00:00",
          "2009-01-01T00:00:00",
          "2010-01-01T00:00:00",
          "2011-01-01T00:00:00",
          "2012-01-01T00:00:00",
          "2013-01-01T00:00:00",
          "2014-01-01T00:00:00",
          "2015-01-01T00:00:00",
          "2016-01-01T00:00:00",
          "2017-01-01T00:00:00",
          "2018-01-01T00:00:00",
          "2019-01-01T00:00:00",
          "2020-01-01T00:00:00"
         ],
         "xaxis": "x",
         "y": [
          3499.738,
          3802.645,
          3895.431,
          4305.87526,
          4262.22901,
          4882.801,
          5584.93335,
          5384.95489,
          5839.81324,
          6078.632,
          7751.837,
          9754.22967,
          12822.06043,
          12992.49758,
          12229.55852,
          13509.03869,
          12822.94833,
          14023.9508,
          13735.06894,
          13645.32627
         ],
         "yaxis": "y"
        },
        {
         "hovertemplate": "variable=NY<br>Date=%{x}<br>value=%{y}<extra></extra>",
         "legendgroup": "NY",
         "line": {
          "color": "#ab63fa",
          "dash": "solid"
         },
         "mode": "lines",
         "name": "NY",
         "orientation": "v",
         "showlegend": true,
         "type": "scatter",
         "x": [
          "2001-01-01T00:00:00",
          "2002-01-01T00:00:00",
          "2003-01-01T00:00:00",
          "2004-01-01T00:00:00",
          "2005-01-01T00:00:00",
          "2006-01-01T00:00:00",
          "2007-01-01T00:00:00",
          "2008-01-01T00:00:00",
          "2009-01-01T00:00:00",
          "2010-01-01T00:00:00",
          "2011-01-01T00:00:00",
          "2012-01-01T00:00:00",
          "2013-01-01T00:00:00",
          "2014-01-01T00:00:00",
          "2015-01-01T00:00:00",
          "2016-01-01T00:00:00",
          "2017-01-01T00:00:00",
          "2018-01-01T00:00:00",
          "2019-01-01T00:00:00",
          "2020-01-01T00:00:00"
         ],
         "xaxis": "x",
         "y": [
          20.539,
          81.626,
          41.201,
          116.44971,
          102.99,
          655.371,
          833.476,
          1250.70031,
          2266.33862,
          2596.15399,
          2828.069,
          2991.57717,
          3539.498,
          3968.40715,
          3976.98,
          3940.18,
          4135.951,
          3998.33299,
          4455.881,
          4952.09305
         ],
         "yaxis": "y"
        },
        {
         "hovertemplate": "variable=FL<br>Date=%{x}<br>value=%{y}<extra></extra>",
         "legendgroup": "FL",
         "line": {
          "color": "#FFA15A",
          "dash": "solid"
         },
         "mode": "lines",
         "name": "FL",
         "orientation": "v",
         "showlegend": true,
         "type": "scatter",
         "x": [
          "2001-01-01T00:00:00",
          "2002-01-01T00:00:00",
          "2003-01-01T00:00:00",
          "2004-01-01T00:00:00",
          "2005-01-01T00:00:00",
          "2006-01-01T00:00:00",
          "2007-01-01T00:00:00",
          "2008-01-01T00:00:00",
          "2009-01-01T00:00:00",
          "2010-01-01T00:00:00",
          "2011-01-01T00:00:00",
          "2012-01-01T00:00:00",
          "2013-01-01T00:00:00",
          "2014-01-01T00:00:00",
          "2015-01-01T00:00:00",
          "2016-01-01T00:00:00",
          "2017-01-01T00:00:00",
          "2018-01-01T00:00:00",
          "2019-01-01T00:00:00",
          "2020-01-01T00:00:00"
         ],
         "xaxis": "x",
         "y": [
          null,
          null,
          null,
          null,
          null,
          null,
          null,
          null,
          null,
          null,
          null,
          null,
          null,
          null,
          null,
          null,
          null,
          null,
          1.422,
          null
         ],
         "yaxis": "y"
        },
        {
         "hovertemplate": "variable=IA<br>Date=%{x}<br>value=%{y}<extra></extra>",
         "legendgroup": "IA",
         "line": {
          "color": "#19d3f3",
          "dash": "solid"
         },
         "mode": "lines",
         "name": "IA",
         "orientation": "v",
         "showlegend": true,
         "type": "scatter",
         "x": [
          "2001-01-01T00:00:00",
          "2002-01-01T00:00:00",
          "2003-01-01T00:00:00",
          "2004-01-01T00:00:00",
          "2005-01-01T00:00:00",
          "2006-01-01T00:00:00",
          "2007-01-01T00:00:00",
          "2008-01-01T00:00:00",
          "2009-01-01T00:00:00",
          "2010-01-01T00:00:00",
          "2011-01-01T00:00:00",
          "2012-01-01T00:00:00",
          "2013-01-01T00:00:00",
          "2014-01-01T00:00:00",
          "2015-01-01T00:00:00",
          "2016-01-01T00:00:00",
          "2017-01-01T00:00:00",
          "2018-01-01T00:00:00",
          "2019-01-01T00:00:00",
          "2020-01-01T00:00:00"
         ],
         "xaxis": "x",
         "y": [
          487.864,
          918.835,
          981.97,
          1049.95153,
          1647.134,
          2317.821,
          2756.676,
          4083.787,
          7420.51961,
          9170.3372,
          10709.17691,
          14032.49227,
          15568.40641,
          16306.75453,
          17872.63168,
          20071.999,
          21372.75248,
          21334.05656,
          26304.99,
          34149.4239
         ],
         "yaxis": "y"
        },
        {
         "hovertemplate": "variable=PA<br>Date=%{x}<br>value=%{y}<extra></extra>",
         "legendgroup": "PA",
         "line": {
          "color": "#FF6692",
          "dash": "solid"
         },
         "mode": "lines",
         "name": "PA",
         "orientation": "v",
         "showlegend": true,
         "type": "scatter",
         "x": [
          "2001-01-01T00:00:00",
          "2002-01-01T00:00:00",
          "2003-01-01T00:00:00",
          "2004-01-01T00:00:00",
          "2005-01-01T00:00:00",
          "2006-01-01T00:00:00",
          "2007-01-01T00:00:00",
          "2008-01-01T00:00:00",
          "2009-01-01T00:00:00",
          "2010-01-01T00:00:00",
          "2011-01-01T00:00:00",
          "2012-01-01T00:00:00",
          "2013-01-01T00:00:00",
          "2014-01-01T00:00:00",
          "2015-01-01T00:00:00",
          "2016-01-01T00:00:00",
          "2017-01-01T00:00:00",
          "2018-01-01T00:00:00",
          "2019-01-01T00:00:00",
          "2020-01-01T00:00:00"
         ],
         "xaxis": "x",
         "y": [
          11.175,
          57.768,
          111.521,
          306.31185,
          284.241,
          361.108,
          470.01777,
          729.425,
          1074.78808,
          1854.03172,
          1794.465,
          2128.658,
          3352.043,
          3564.73,
          3352.672,
          3476.246,
          3590.565,
          3566.917,
          3250.499,
          3872.7852
         ],
         "yaxis": "y"
        },
        {
         "hovertemplate": "variable=IL<br>Date=%{x}<br>value=%{y}<extra></extra>",
         "legendgroup": "IL",
         "line": {
          "color": "#B6E880",
          "dash": "solid"
         },
         "mode": "lines",
         "name": "IL",
         "orientation": "v",
         "showlegend": true,
         "type": "scatter",
         "x": [
          "2001-01-01T00:00:00",
          "2002-01-01T00:00:00",
          "2003-01-01T00:00:00",
          "2004-01-01T00:00:00",
          "2005-01-01T00:00:00",
          "2006-01-01T00:00:00",
          "2007-01-01T00:00:00",
          "2008-01-01T00:00:00",
          "2009-01-01T00:00:00",
          "2010-01-01T00:00:00",
          "2011-01-01T00:00:00",
          "2012-01-01T00:00:00",
          "2013-01-01T00:00:00",
          "2014-01-01T00:00:00",
          "2015-01-01T00:00:00",
          "2016-01-01T00:00:00",
          "2017-01-01T00:00:00",
          "2018-01-01T00:00:00",
          "2019-01-01T00:00:00",
          "2020-01-01T00:00:00"
         ],
         "xaxis": "x",
         "y": [
          null,
          null,
          18.024,
          78.073,
          141.146,
          254.571,
          664.427,
          2336.99569,
          2819.53218,
          4453.63401,
          6213.132,
          7726.80864,
          9625.229,
          10082.894,
          10747.27,
          10663.434,
          12267.76615,
          11898.98376,
          14459.59701,
          17111.00286
         ],
         "yaxis": "y"
        }
       ],
       "layout": {
        "legend": {
         "title": {
          "text": "variable"
         },
         "tracegroupgap": 0
        },
        "template": {
         "data": {
          "bar": [
           {
            "error_x": {
             "color": "#2a3f5f"
            },
            "error_y": {
             "color": "#2a3f5f"
            },
            "marker": {
             "line": {
              "color": "#E5ECF6",
              "width": 0.5
             }
            },
            "type": "bar"
           }
          ],
          "barpolar": [
           {
            "marker": {
             "line": {
              "color": "#E5ECF6",
              "width": 0.5
             }
            },
            "type": "barpolar"
           }
          ],
          "carpet": [
           {
            "aaxis": {
             "endlinecolor": "#2a3f5f",
             "gridcolor": "white",
             "linecolor": "white",
             "minorgridcolor": "white",
             "startlinecolor": "#2a3f5f"
            },
            "baxis": {
             "endlinecolor": "#2a3f5f",
             "gridcolor": "white",
             "linecolor": "white",
             "minorgridcolor": "white",
             "startlinecolor": "#2a3f5f"
            },
            "type": "carpet"
           }
          ],
          "choropleth": [
           {
            "colorbar": {
             "outlinewidth": 0,
             "ticks": ""
            },
            "type": "choropleth"
           }
          ],
          "contour": [
           {
            "colorbar": {
             "outlinewidth": 0,
             "ticks": ""
            },
            "colorscale": [
             [
              0,
              "#0d0887"
             ],
             [
              0.1111111111111111,
              "#46039f"
             ],
             [
              0.2222222222222222,
              "#7201a8"
             ],
             [
              0.3333333333333333,
              "#9c179e"
             ],
             [
              0.4444444444444444,
              "#bd3786"
             ],
             [
              0.5555555555555556,
              "#d8576b"
             ],
             [
              0.6666666666666666,
              "#ed7953"
             ],
             [
              0.7777777777777778,
              "#fb9f3a"
             ],
             [
              0.8888888888888888,
              "#fdca26"
             ],
             [
              1,
              "#f0f921"
             ]
            ],
            "type": "contour"
           }
          ],
          "contourcarpet": [
           {
            "colorbar": {
             "outlinewidth": 0,
             "ticks": ""
            },
            "type": "contourcarpet"
           }
          ],
          "heatmap": [
           {
            "colorbar": {
             "outlinewidth": 0,
             "ticks": ""
            },
            "colorscale": [
             [
              0,
              "#0d0887"
             ],
             [
              0.1111111111111111,
              "#46039f"
             ],
             [
              0.2222222222222222,
              "#7201a8"
             ],
             [
              0.3333333333333333,
              "#9c179e"
             ],
             [
              0.4444444444444444,
              "#bd3786"
             ],
             [
              0.5555555555555556,
              "#d8576b"
             ],
             [
              0.6666666666666666,
              "#ed7953"
             ],
             [
              0.7777777777777778,
              "#fb9f3a"
             ],
             [
              0.8888888888888888,
              "#fdca26"
             ],
             [
              1,
              "#f0f921"
             ]
            ],
            "type": "heatmap"
           }
          ],
          "heatmapgl": [
           {
            "colorbar": {
             "outlinewidth": 0,
             "ticks": ""
            },
            "colorscale": [
             [
              0,
              "#0d0887"
             ],
             [
              0.1111111111111111,
              "#46039f"
             ],
             [
              0.2222222222222222,
              "#7201a8"
             ],
             [
              0.3333333333333333,
              "#9c179e"
             ],
             [
              0.4444444444444444,
              "#bd3786"
             ],
             [
              0.5555555555555556,
              "#d8576b"
             ],
             [
              0.6666666666666666,
              "#ed7953"
             ],
             [
              0.7777777777777778,
              "#fb9f3a"
             ],
             [
              0.8888888888888888,
              "#fdca26"
             ],
             [
              1,
              "#f0f921"
             ]
            ],
            "type": "heatmapgl"
           }
          ],
          "histogram": [
           {
            "marker": {
             "colorbar": {
              "outlinewidth": 0,
              "ticks": ""
             }
            },
            "type": "histogram"
           }
          ],
          "histogram2d": [
           {
            "colorbar": {
             "outlinewidth": 0,
             "ticks": ""
            },
            "colorscale": [
             [
              0,
              "#0d0887"
             ],
             [
              0.1111111111111111,
              "#46039f"
             ],
             [
              0.2222222222222222,
              "#7201a8"
             ],
             [
              0.3333333333333333,
              "#9c179e"
             ],
             [
              0.4444444444444444,
              "#bd3786"
             ],
             [
              0.5555555555555556,
              "#d8576b"
             ],
             [
              0.6666666666666666,
              "#ed7953"
             ],
             [
              0.7777777777777778,
              "#fb9f3a"
             ],
             [
              0.8888888888888888,
              "#fdca26"
             ],
             [
              1,
              "#f0f921"
             ]
            ],
            "type": "histogram2d"
           }
          ],
          "histogram2dcontour": [
           {
            "colorbar": {
             "outlinewidth": 0,
             "ticks": ""
            },
            "colorscale": [
             [
              0,
              "#0d0887"
             ],
             [
              0.1111111111111111,
              "#46039f"
             ],
             [
              0.2222222222222222,
              "#7201a8"
             ],
             [
              0.3333333333333333,
              "#9c179e"
             ],
             [
              0.4444444444444444,
              "#bd3786"
             ],
             [
              0.5555555555555556,
              "#d8576b"
             ],
             [
              0.6666666666666666,
              "#ed7953"
             ],
             [
              0.7777777777777778,
              "#fb9f3a"
             ],
             [
              0.8888888888888888,
              "#fdca26"
             ],
             [
              1,
              "#f0f921"
             ]
            ],
            "type": "histogram2dcontour"
           }
          ],
          "mesh3d": [
           {
            "colorbar": {
             "outlinewidth": 0,
             "ticks": ""
            },
            "type": "mesh3d"
           }
          ],
          "parcoords": [
           {
            "line": {
             "colorbar": {
              "outlinewidth": 0,
              "ticks": ""
             }
            },
            "type": "parcoords"
           }
          ],
          "pie": [
           {
            "automargin": true,
            "type": "pie"
           }
          ],
          "scatter": [
           {
            "marker": {
             "colorbar": {
              "outlinewidth": 0,
              "ticks": ""
             }
            },
            "type": "scatter"
           }
          ],
          "scatter3d": [
           {
            "line": {
             "colorbar": {
              "outlinewidth": 0,
              "ticks": ""
             }
            },
            "marker": {
             "colorbar": {
              "outlinewidth": 0,
              "ticks": ""
             }
            },
            "type": "scatter3d"
           }
          ],
          "scattercarpet": [
           {
            "marker": {
             "colorbar": {
              "outlinewidth": 0,
              "ticks": ""
             }
            },
            "type": "scattercarpet"
           }
          ],
          "scattergeo": [
           {
            "marker": {
             "colorbar": {
              "outlinewidth": 0,
              "ticks": ""
             }
            },
            "type": "scattergeo"
           }
          ],
          "scattergl": [
           {
            "marker": {
             "colorbar": {
              "outlinewidth": 0,
              "ticks": ""
             }
            },
            "type": "scattergl"
           }
          ],
          "scattermapbox": [
           {
            "marker": {
             "colorbar": {
              "outlinewidth": 0,
              "ticks": ""
             }
            },
            "type": "scattermapbox"
           }
          ],
          "scatterpolar": [
           {
            "marker": {
             "colorbar": {
              "outlinewidth": 0,
              "ticks": ""
             }
            },
            "type": "scatterpolar"
           }
          ],
          "scatterpolargl": [
           {
            "marker": {
             "colorbar": {
              "outlinewidth": 0,
              "ticks": ""
             }
            },
            "type": "scatterpolargl"
           }
          ],
          "scatterternary": [
           {
            "marker": {
             "colorbar": {
              "outlinewidth": 0,
              "ticks": ""
             }
            },
            "type": "scatterternary"
           }
          ],
          "surface": [
           {
            "colorbar": {
             "outlinewidth": 0,
             "ticks": ""
            },
            "colorscale": [
             [
              0,
              "#0d0887"
             ],
             [
              0.1111111111111111,
              "#46039f"
             ],
             [
              0.2222222222222222,
              "#7201a8"
             ],
             [
              0.3333333333333333,
              "#9c179e"
             ],
             [
              0.4444444444444444,
              "#bd3786"
             ],
             [
              0.5555555555555556,
              "#d8576b"
             ],
             [
              0.6666666666666666,
              "#ed7953"
             ],
             [
              0.7777777777777778,
              "#fb9f3a"
             ],
             [
              0.8888888888888888,
              "#fdca26"
             ],
             [
              1,
              "#f0f921"
             ]
            ],
            "type": "surface"
           }
          ],
          "table": [
           {
            "cells": {
             "fill": {
              "color": "#EBF0F8"
             },
             "line": {
              "color": "white"
             }
            },
            "header": {
             "fill": {
              "color": "#C8D4E3"
             },
             "line": {
              "color": "white"
             }
            },
            "type": "table"
           }
          ]
         },
         "layout": {
          "annotationdefaults": {
           "arrowcolor": "#2a3f5f",
           "arrowhead": 0,
           "arrowwidth": 1
          },
          "autotypenumbers": "strict",
          "coloraxis": {
           "colorbar": {
            "outlinewidth": 0,
            "ticks": ""
           }
          },
          "colorscale": {
           "diverging": [
            [
             0,
             "#8e0152"
            ],
            [
             0.1,
             "#c51b7d"
            ],
            [
             0.2,
             "#de77ae"
            ],
            [
             0.3,
             "#f1b6da"
            ],
            [
             0.4,
             "#fde0ef"
            ],
            [
             0.5,
             "#f7f7f7"
            ],
            [
             0.6,
             "#e6f5d0"
            ],
            [
             0.7,
             "#b8e186"
            ],
            [
             0.8,
             "#7fbc41"
            ],
            [
             0.9,
             "#4d9221"
            ],
            [
             1,
             "#276419"
            ]
           ],
           "sequential": [
            [
             0,
             "#0d0887"
            ],
            [
             0.1111111111111111,
             "#46039f"
            ],
            [
             0.2222222222222222,
             "#7201a8"
            ],
            [
             0.3333333333333333,
             "#9c179e"
            ],
            [
             0.4444444444444444,
             "#bd3786"
            ],
            [
             0.5555555555555556,
             "#d8576b"
            ],
            [
             0.6666666666666666,
             "#ed7953"
            ],
            [
             0.7777777777777778,
             "#fb9f3a"
            ],
            [
             0.8888888888888888,
             "#fdca26"
            ],
            [
             1,
             "#f0f921"
            ]
           ],
           "sequentialminus": [
            [
             0,
             "#0d0887"
            ],
            [
             0.1111111111111111,
             "#46039f"
            ],
            [
             0.2222222222222222,
             "#7201a8"
            ],
            [
             0.3333333333333333,
             "#9c179e"
            ],
            [
             0.4444444444444444,
             "#bd3786"
            ],
            [
             0.5555555555555556,
             "#d8576b"
            ],
            [
             0.6666666666666666,
             "#ed7953"
            ],
            [
             0.7777777777777778,
             "#fb9f3a"
            ],
            [
             0.8888888888888888,
             "#fdca26"
            ],
            [
             1,
             "#f0f921"
            ]
           ]
          },
          "colorway": [
           "#636efa",
           "#EF553B",
           "#00cc96",
           "#ab63fa",
           "#FFA15A",
           "#19d3f3",
           "#FF6692",
           "#B6E880",
           "#FF97FF",
           "#FECB52"
          ],
          "font": {
           "color": "#2a3f5f"
          },
          "geo": {
           "bgcolor": "white",
           "lakecolor": "white",
           "landcolor": "#E5ECF6",
           "showlakes": true,
           "showland": true,
           "subunitcolor": "white"
          },
          "hoverlabel": {
           "align": "left"
          },
          "hovermode": "closest",
          "mapbox": {
           "style": "light"
          },
          "paper_bgcolor": "white",
          "plot_bgcolor": "#E5ECF6",
          "polar": {
           "angularaxis": {
            "gridcolor": "white",
            "linecolor": "white",
            "ticks": ""
           },
           "bgcolor": "#E5ECF6",
           "radialaxis": {
            "gridcolor": "white",
            "linecolor": "white",
            "ticks": ""
           }
          },
          "scene": {
           "xaxis": {
            "backgroundcolor": "#E5ECF6",
            "gridcolor": "white",
            "gridwidth": 2,
            "linecolor": "white",
            "showbackground": true,
            "ticks": "",
            "zerolinecolor": "white"
           },
           "yaxis": {
            "backgroundcolor": "#E5ECF6",
            "gridcolor": "white",
            "gridwidth": 2,
            "linecolor": "white",
            "showbackground": true,
            "ticks": "",
            "zerolinecolor": "white"
           },
           "zaxis": {
            "backgroundcolor": "#E5ECF6",
            "gridcolor": "white",
            "gridwidth": 2,
            "linecolor": "white",
            "showbackground": true,
            "ticks": "",
            "zerolinecolor": "white"
           }
          },
          "shapedefaults": {
           "line": {
            "color": "#2a3f5f"
           }
          },
          "ternary": {
           "aaxis": {
            "gridcolor": "white",
            "linecolor": "white",
            "ticks": ""
           },
           "baxis": {
            "gridcolor": "white",
            "linecolor": "white",
            "ticks": ""
           },
           "bgcolor": "#E5ECF6",
           "caxis": {
            "gridcolor": "white",
            "linecolor": "white",
            "ticks": ""
           }
          },
          "title": {
           "x": 0.05
          },
          "xaxis": {
           "automargin": true,
           "gridcolor": "white",
           "linecolor": "white",
           "ticks": "",
           "title": {
            "standoff": 15
           },
           "zerolinecolor": "white",
           "zerolinewidth": 2
          },
          "yaxis": {
           "automargin": true,
           "gridcolor": "white",
           "linecolor": "white",
           "ticks": "",
           "title": {
            "standoff": 15
           },
           "zerolinecolor": "white",
           "zerolinewidth": 2
          }
         }
        },
        "title": {
         "text": "Total Wattage from Wind"
        },
        "xaxis": {
         "anchor": "y",
         "domain": [
          0,
          1
         ],
         "title": {
          "text": "Date"
         }
        },
        "yaxis": {
         "anchor": "x",
         "domain": [
          0,
          1
         ],
         "title": {
          "text": "value"
         }
        }
       }
      }
     },
     "metadata": {}
    }
   ],
   "source": [
    "fig = px.line(wind_abs,title=\"Total Wattage from Wind\")\n",
    "fig.show()"
   ]
  },
  {
   "cell_type": "code",
   "execution_count": 61,
   "metadata": {},
   "outputs": [
    {
     "output_type": "display_data",
     "data": {
      "application/vnd.plotly.v1+json": {
       "config": {
        "plotlyServerURL": "https://plot.ly"
       },
       "data": [
        {
         "hovertemplate": "variable=US<br>Date=%{x}<br>value=%{y}<extra></extra>",
         "legendgroup": "US",
         "line": {
          "color": "#636efa",
          "dash": "solid"
         },
         "mode": "lines",
         "name": "US",
         "orientation": "v",
         "showlegend": true,
         "type": "scatter",
         "x": [
          "2001-01-01T00:00:00",
          "2002-01-01T00:00:00",
          "2003-01-01T00:00:00",
          "2004-01-01T00:00:00",
          "2005-01-01T00:00:00",
          "2006-01-01T00:00:00",
          "2007-01-01T00:00:00",
          "2008-01-01T00:00:00",
          "2009-01-01T00:00:00",
          "2010-01-01T00:00:00",
          "2011-01-01T00:00:00",
          "2012-01-01T00:00:00",
          "2013-01-01T00:00:00",
          "2014-01-01T00:00:00",
          "2015-01-01T00:00:00",
          "2016-01-01T00:00:00",
          "2017-01-01T00:00:00",
          "2018-01-01T00:00:00",
          "2019-01-01T00:00:00",
          "2020-01-01T00:00:00"
         ],
         "xaxis": "x",
         "y": [
          0.18030437541430713,
          0.26835317164455963,
          0.28810026844959613,
          0.3562156877855951,
          0.4391786040419408,
          0.6541472290564914,
          0.8287717838995002,
          1.343964280654362,
          1.870378281843093,
          2.294566585682339,
          2.9310358057308092,
          3.478999038783263,
          4.12792003705161,
          4.437537017156865,
          4.677224441139641,
          5.568080924960164,
          6.303560743178109,
          6.525834244324873,
          7.167947231501199,
          8.418624567387605
         ],
         "yaxis": "y"
        },
        {
         "hovertemplate": "variable=TX<br>Date=%{x}<br>value=%{y}<extra></extra>",
         "legendgroup": "TX",
         "line": {
          "color": "#EF553B",
          "dash": "solid"
         },
         "mode": "lines",
         "name": "TX",
         "orientation": "v",
         "showlegend": true,
         "type": "scatter",
         "x": [
          "2001-01-01T00:00:00",
          "2002-01-01T00:00:00",
          "2003-01-01T00:00:00",
          "2004-01-01T00:00:00",
          "2005-01-01T00:00:00",
          "2006-01-01T00:00:00",
          "2007-01-01T00:00:00",
          "2008-01-01T00:00:00",
          "2009-01-01T00:00:00",
          "2010-01-01T00:00:00",
          "2011-01-01T00:00:00",
          "2012-01-01T00:00:00",
          "2013-01-01T00:00:00",
          "2014-01-01T00:00:00",
          "2015-01-01T00:00:00",
          "2016-01-01T00:00:00",
          "2017-01-01T00:00:00",
          "2018-01-01T00:00:00",
          "2019-01-01T00:00:00",
          "2020-01-01T00:00:00"
         ],
         "xaxis": "x",
         "y": [
          0.3187261779015182,
          0.6887726686994033,
          0.6777044131774529,
          0.8039192866020112,
          1.0681984142654137,
          1.665202226723611,
          2.22109842753142,
          4.0082785258783495,
          5.042225849820326,
          6.3764210384127775,
          7.014857866375119,
          7.49493602820899,
          8.277633306749129,
          9.141318890629627,
          9.966816394447399,
          12.67065063915966,
          14.810475057236633,
          15.858395135422098,
          17.305503359029313,
          19.556493465470766
         ],
         "yaxis": "y"
        },
        {
         "hovertemplate": "variable=CA<br>Date=%{x}<br>value=%{y}<extra></extra>",
         "legendgroup": "CA",
         "line": {
          "color": "#00cc96",
          "dash": "solid"
         },
         "mode": "lines",
         "name": "CA",
         "orientation": "v",
         "showlegend": true,
         "type": "scatter",
         "x": [
          "2001-01-01T00:00:00",
          "2002-01-01T00:00:00",
          "2003-01-01T00:00:00",
          "2004-01-01T00:00:00",
          "2005-01-01T00:00:00",
          "2006-01-01T00:00:00",
          "2007-01-01T00:00:00",
          "2008-01-01T00:00:00",
          "2009-01-01T00:00:00",
          "2010-01-01T00:00:00",
          "2011-01-01T00:00:00",
          "2012-01-01T00:00:00",
          "2013-01-01T00:00:00",
          "2014-01-01T00:00:00",
          "2015-01-01T00:00:00",
          "2016-01-01T00:00:00",
          "2017-01-01T00:00:00",
          "2018-01-01T00:00:00",
          "2019-01-01T00:00:00",
          "2020-01-01T00:00:00"
         ],
         "xaxis": "x",
         "y": [
          1.7622392587567501,
          2.064298550603903,
          2.020571844980289,
          2.210631179925717,
          2.1279989222067868,
          2.2522281112448383,
          2.6488012462322543,
          2.5891165113783146,
          2.851803662777697,
          2.9778881888473627,
          3.8603834968631685,
          4.888883194024844,
          6.4085592469446215,
          6.535211006335293,
          6.2172438636860035,
          6.858660721971403,
          6.2203079325424975,
          7.174637409714772,
          6.806810764820604,
          7.0296779081813625
         ],
         "yaxis": "y"
        },
        {
         "hovertemplate": "variable=NY<br>Date=%{x}<br>value=%{y}<extra></extra>",
         "legendgroup": "NY",
         "line": {
          "color": "#ab63fa",
          "dash": "solid"
         },
         "mode": "lines",
         "name": "NY",
         "orientation": "v",
         "showlegend": true,
         "type": "scatter",
         "x": [
          "2001-01-01T00:00:00",
          "2002-01-01T00:00:00",
          "2003-01-01T00:00:00",
          "2004-01-01T00:00:00",
          "2005-01-01T00:00:00",
          "2006-01-01T00:00:00",
          "2007-01-01T00:00:00",
          "2008-01-01T00:00:00",
          "2009-01-01T00:00:00",
          "2010-01-01T00:00:00",
          "2011-01-01T00:00:00",
          "2012-01-01T00:00:00",
          "2013-01-01T00:00:00",
          "2014-01-01T00:00:00",
          "2015-01-01T00:00:00",
          "2016-01-01T00:00:00",
          "2017-01-01T00:00:00",
          "2018-01-01T00:00:00",
          "2019-01-01T00:00:00",
          "2020-01-01T00:00:00"
         ],
         "xaxis": "x",
         "y": [
          0.01427166239657518,
          0.05847482838663002,
          0.029933164353581836,
          0.08440538119849533,
          0.07011492267108474,
          0.46066777421985716,
          0.5713487107860147,
          0.8913067210972317,
          1.7020873180371239,
          1.8955334731964275,
          2.05707147438938,
          2.2034439653314397,
          2.6003382541160427,
          2.8940660870865442,
          2.8688201643908258,
          2.9313084304420345,
          3.22956963801211,
          3.017142981619986,
          3.3858431819367105,
          3.752103695475377
         ],
         "yaxis": "y"
        },
        {
         "hovertemplate": "variable=FL<br>Date=%{x}<br>value=%{y}<extra></extra>",
         "legendgroup": "FL",
         "line": {
          "color": "#FFA15A",
          "dash": "solid"
         },
         "mode": "lines",
         "name": "FL",
         "orientation": "v",
         "showlegend": true,
         "type": "scatter",
         "x": [
          "2001-01-01T00:00:00",
          "2002-01-01T00:00:00",
          "2003-01-01T00:00:00",
          "2004-01-01T00:00:00",
          "2005-01-01T00:00:00",
          "2006-01-01T00:00:00",
          "2007-01-01T00:00:00",
          "2008-01-01T00:00:00",
          "2009-01-01T00:00:00",
          "2010-01-01T00:00:00",
          "2011-01-01T00:00:00",
          "2012-01-01T00:00:00",
          "2013-01-01T00:00:00",
          "2014-01-01T00:00:00",
          "2015-01-01T00:00:00",
          "2016-01-01T00:00:00",
          "2017-01-01T00:00:00",
          "2018-01-01T00:00:00",
          "2019-01-01T00:00:00",
          "2020-01-01T00:00:00"
         ],
         "xaxis": "x",
         "y": [
          null,
          null,
          null,
          null,
          null,
          null,
          null,
          null,
          null,
          null,
          null,
          null,
          null,
          null,
          null,
          null,
          null,
          null,
          0.0005789820126448866,
          null
         ],
         "yaxis": "y"
        },
        {
         "hovertemplate": "variable=IA<br>Date=%{x}<br>value=%{y}<extra></extra>",
         "legendgroup": "IA",
         "line": {
          "color": "#19d3f3",
          "dash": "solid"
         },
         "mode": "lines",
         "name": "IA",
         "orientation": "v",
         "showlegend": true,
         "type": "scatter",
         "x": [
          "2001-01-01T00:00:00",
          "2002-01-01T00:00:00",
          "2003-01-01T00:00:00",
          "2004-01-01T00:00:00",
          "2005-01-01T00:00:00",
          "2006-01-01T00:00:00",
          "2007-01-01T00:00:00",
          "2008-01-01T00:00:00",
          "2009-01-01T00:00:00",
          "2010-01-01T00:00:00",
          "2011-01-01T00:00:00",
          "2012-01-01T00:00:00",
          "2013-01-01T00:00:00",
          "2014-01-01T00:00:00",
          "2015-01-01T00:00:00",
          "2016-01-01T00:00:00",
          "2017-01-01T00:00:00",
          "2018-01-01T00:00:00",
          "2019-01-01T00:00:00",
          "2020-01-01T00:00:00"
         ],
         "xaxis": "x",
         "y": [
          1.199906184466367,
          2.1605217823465854,
          2.33157356676501,
          2.4277352515269484,
          3.7302473833417533,
          5.0959642883721905,
          5.53669281776616,
          7.692661920684274,
          14.308736168327915,
          15.945994057990939,
          18.99736306002383,
          24.759403358249315,
          27.471675439199338,
          28.68216894706942,
          31.544251400805855,
          36.90214018727009,
          36.907118986749154,
          33.66024789203864,
          41.98750764563795,
          57.513725155757854
         ],
         "yaxis": "y"
        },
        {
         "hovertemplate": "variable=PA<br>Date=%{x}<br>value=%{y}<extra></extra>",
         "legendgroup": "PA",
         "line": {
          "color": "#FF6692",
          "dash": "solid"
         },
         "mode": "lines",
         "name": "PA",
         "orientation": "v",
         "showlegend": true,
         "type": "scatter",
         "x": [
          "2001-01-01T00:00:00",
          "2002-01-01T00:00:00",
          "2003-01-01T00:00:00",
          "2004-01-01T00:00:00",
          "2005-01-01T00:00:00",
          "2006-01-01T00:00:00",
          "2007-01-01T00:00:00",
          "2008-01-01T00:00:00",
          "2009-01-01T00:00:00",
          "2010-01-01T00:00:00",
          "2011-01-01T00:00:00",
          "2012-01-01T00:00:00",
          "2013-01-01T00:00:00",
          "2014-01-01T00:00:00",
          "2015-01-01T00:00:00",
          "2016-01-01T00:00:00",
          "2017-01-01T00:00:00",
          "2018-01-01T00:00:00",
          "2019-01-01T00:00:00",
          "2020-01-01T00:00:00"
         ],
         "xaxis": "x",
         "y": [
          0.005684807098928682,
          0.028272898544430256,
          0.054044711993093,
          0.1426972837792265,
          0.13033130067519652,
          0.16503147403025428,
          0.207891202828183,
          0.32805125541336894,
          0.48966148678881144,
          0.8069697975997022,
          0.7894187324823125,
          0.9527619330827716,
          1.4780667509899486,
          1.6125741236249471,
          1.5624906558298428,
          1.6163585908120681,
          1.680666911412774,
          1.6560592689203644,
          1.4194608214031985,
          1.6768899217059037
         ],
         "yaxis": "y"
        },
        {
         "hovertemplate": "variable=IL<br>Date=%{x}<br>value=%{y}<extra></extra>",
         "legendgroup": "IL",
         "line": {
          "color": "#B6E880",
          "dash": "solid"
         },
         "mode": "lines",
         "name": "IL",
         "orientation": "v",
         "showlegend": true,
         "type": "scatter",
         "x": [
          "2001-01-01T00:00:00",
          "2002-01-01T00:00:00",
          "2003-01-01T00:00:00",
          "2004-01-01T00:00:00",
          "2005-01-01T00:00:00",
          "2006-01-01T00:00:00",
          "2007-01-01T00:00:00",
          "2008-01-01T00:00:00",
          "2009-01-01T00:00:00",
          "2010-01-01T00:00:00",
          "2011-01-01T00:00:00",
          "2012-01-01T00:00:00",
          "2013-01-01T00:00:00",
          "2014-01-01T00:00:00",
          "2015-01-01T00:00:00",
          "2016-01-01T00:00:00",
          "2017-01-01T00:00:00",
          "2018-01-01T00:00:00",
          "2019-01-01T00:00:00",
          "2020-01-01T00:00:00"
         ],
         "xaxis": "x",
         "y": [
          null,
          null,
          0.009533720458240622,
          0.040671964748783124,
          0.07271063979294971,
          0.13229487311952026,
          0.3317810545827705,
          1.1715721817968552,
          1.4543839928621656,
          2.211866209112724,
          3.1143561252144956,
          3.9110138420224962,
          4.741377216204986,
          4.98797890925868,
          5.54119977203521,
          5.693567985147747,
          6.6820966234366175,
          6.329133673832661,
          7.838452296018623,
          9.859290908174682
         ],
         "yaxis": "y"
        }
       ],
       "layout": {
        "legend": {
         "title": {
          "text": "variable"
         },
         "tracegroupgap": 0
        },
        "template": {
         "data": {
          "bar": [
           {
            "error_x": {
             "color": "#2a3f5f"
            },
            "error_y": {
             "color": "#2a3f5f"
            },
            "marker": {
             "line": {
              "color": "#E5ECF6",
              "width": 0.5
             }
            },
            "type": "bar"
           }
          ],
          "barpolar": [
           {
            "marker": {
             "line": {
              "color": "#E5ECF6",
              "width": 0.5
             }
            },
            "type": "barpolar"
           }
          ],
          "carpet": [
           {
            "aaxis": {
             "endlinecolor": "#2a3f5f",
             "gridcolor": "white",
             "linecolor": "white",
             "minorgridcolor": "white",
             "startlinecolor": "#2a3f5f"
            },
            "baxis": {
             "endlinecolor": "#2a3f5f",
             "gridcolor": "white",
             "linecolor": "white",
             "minorgridcolor": "white",
             "startlinecolor": "#2a3f5f"
            },
            "type": "carpet"
           }
          ],
          "choropleth": [
           {
            "colorbar": {
             "outlinewidth": 0,
             "ticks": ""
            },
            "type": "choropleth"
           }
          ],
          "contour": [
           {
            "colorbar": {
             "outlinewidth": 0,
             "ticks": ""
            },
            "colorscale": [
             [
              0,
              "#0d0887"
             ],
             [
              0.1111111111111111,
              "#46039f"
             ],
             [
              0.2222222222222222,
              "#7201a8"
             ],
             [
              0.3333333333333333,
              "#9c179e"
             ],
             [
              0.4444444444444444,
              "#bd3786"
             ],
             [
              0.5555555555555556,
              "#d8576b"
             ],
             [
              0.6666666666666666,
              "#ed7953"
             ],
             [
              0.7777777777777778,
              "#fb9f3a"
             ],
             [
              0.8888888888888888,
              "#fdca26"
             ],
             [
              1,
              "#f0f921"
             ]
            ],
            "type": "contour"
           }
          ],
          "contourcarpet": [
           {
            "colorbar": {
             "outlinewidth": 0,
             "ticks": ""
            },
            "type": "contourcarpet"
           }
          ],
          "heatmap": [
           {
            "colorbar": {
             "outlinewidth": 0,
             "ticks": ""
            },
            "colorscale": [
             [
              0,
              "#0d0887"
             ],
             [
              0.1111111111111111,
              "#46039f"
             ],
             [
              0.2222222222222222,
              "#7201a8"
             ],
             [
              0.3333333333333333,
              "#9c179e"
             ],
             [
              0.4444444444444444,
              "#bd3786"
             ],
             [
              0.5555555555555556,
              "#d8576b"
             ],
             [
              0.6666666666666666,
              "#ed7953"
             ],
             [
              0.7777777777777778,
              "#fb9f3a"
             ],
             [
              0.8888888888888888,
              "#fdca26"
             ],
             [
              1,
              "#f0f921"
             ]
            ],
            "type": "heatmap"
           }
          ],
          "heatmapgl": [
           {
            "colorbar": {
             "outlinewidth": 0,
             "ticks": ""
            },
            "colorscale": [
             [
              0,
              "#0d0887"
             ],
             [
              0.1111111111111111,
              "#46039f"
             ],
             [
              0.2222222222222222,
              "#7201a8"
             ],
             [
              0.3333333333333333,
              "#9c179e"
             ],
             [
              0.4444444444444444,
              "#bd3786"
             ],
             [
              0.5555555555555556,
              "#d8576b"
             ],
             [
              0.6666666666666666,
              "#ed7953"
             ],
             [
              0.7777777777777778,
              "#fb9f3a"
             ],
             [
              0.8888888888888888,
              "#fdca26"
             ],
             [
              1,
              "#f0f921"
             ]
            ],
            "type": "heatmapgl"
           }
          ],
          "histogram": [
           {
            "marker": {
             "colorbar": {
              "outlinewidth": 0,
              "ticks": ""
             }
            },
            "type": "histogram"
           }
          ],
          "histogram2d": [
           {
            "colorbar": {
             "outlinewidth": 0,
             "ticks": ""
            },
            "colorscale": [
             [
              0,
              "#0d0887"
             ],
             [
              0.1111111111111111,
              "#46039f"
             ],
             [
              0.2222222222222222,
              "#7201a8"
             ],
             [
              0.3333333333333333,
              "#9c179e"
             ],
             [
              0.4444444444444444,
              "#bd3786"
             ],
             [
              0.5555555555555556,
              "#d8576b"
             ],
             [
              0.6666666666666666,
              "#ed7953"
             ],
             [
              0.7777777777777778,
              "#fb9f3a"
             ],
             [
              0.8888888888888888,
              "#fdca26"
             ],
             [
              1,
              "#f0f921"
             ]
            ],
            "type": "histogram2d"
           }
          ],
          "histogram2dcontour": [
           {
            "colorbar": {
             "outlinewidth": 0,
             "ticks": ""
            },
            "colorscale": [
             [
              0,
              "#0d0887"
             ],
             [
              0.1111111111111111,
              "#46039f"
             ],
             [
              0.2222222222222222,
              "#7201a8"
             ],
             [
              0.3333333333333333,
              "#9c179e"
             ],
             [
              0.4444444444444444,
              "#bd3786"
             ],
             [
              0.5555555555555556,
              "#d8576b"
             ],
             [
              0.6666666666666666,
              "#ed7953"
             ],
             [
              0.7777777777777778,
              "#fb9f3a"
             ],
             [
              0.8888888888888888,
              "#fdca26"
             ],
             [
              1,
              "#f0f921"
             ]
            ],
            "type": "histogram2dcontour"
           }
          ],
          "mesh3d": [
           {
            "colorbar": {
             "outlinewidth": 0,
             "ticks": ""
            },
            "type": "mesh3d"
           }
          ],
          "parcoords": [
           {
            "line": {
             "colorbar": {
              "outlinewidth": 0,
              "ticks": ""
             }
            },
            "type": "parcoords"
           }
          ],
          "pie": [
           {
            "automargin": true,
            "type": "pie"
           }
          ],
          "scatter": [
           {
            "marker": {
             "colorbar": {
              "outlinewidth": 0,
              "ticks": ""
             }
            },
            "type": "scatter"
           }
          ],
          "scatter3d": [
           {
            "line": {
             "colorbar": {
              "outlinewidth": 0,
              "ticks": ""
             }
            },
            "marker": {
             "colorbar": {
              "outlinewidth": 0,
              "ticks": ""
             }
            },
            "type": "scatter3d"
           }
          ],
          "scattercarpet": [
           {
            "marker": {
             "colorbar": {
              "outlinewidth": 0,
              "ticks": ""
             }
            },
            "type": "scattercarpet"
           }
          ],
          "scattergeo": [
           {
            "marker": {
             "colorbar": {
              "outlinewidth": 0,
              "ticks": ""
             }
            },
            "type": "scattergeo"
           }
          ],
          "scattergl": [
           {
            "marker": {
             "colorbar": {
              "outlinewidth": 0,
              "ticks": ""
             }
            },
            "type": "scattergl"
           }
          ],
          "scattermapbox": [
           {
            "marker": {
             "colorbar": {
              "outlinewidth": 0,
              "ticks": ""
             }
            },
            "type": "scattermapbox"
           }
          ],
          "scatterpolar": [
           {
            "marker": {
             "colorbar": {
              "outlinewidth": 0,
              "ticks": ""
             }
            },
            "type": "scatterpolar"
           }
          ],
          "scatterpolargl": [
           {
            "marker": {
             "colorbar": {
              "outlinewidth": 0,
              "ticks": ""
             }
            },
            "type": "scatterpolargl"
           }
          ],
          "scatterternary": [
           {
            "marker": {
             "colorbar": {
              "outlinewidth": 0,
              "ticks": ""
             }
            },
            "type": "scatterternary"
           }
          ],
          "surface": [
           {
            "colorbar": {
             "outlinewidth": 0,
             "ticks": ""
            },
            "colorscale": [
             [
              0,
              "#0d0887"
             ],
             [
              0.1111111111111111,
              "#46039f"
             ],
             [
              0.2222222222222222,
              "#7201a8"
             ],
             [
              0.3333333333333333,
              "#9c179e"
             ],
             [
              0.4444444444444444,
              "#bd3786"
             ],
             [
              0.5555555555555556,
              "#d8576b"
             ],
             [
              0.6666666666666666,
              "#ed7953"
             ],
             [
              0.7777777777777778,
              "#fb9f3a"
             ],
             [
              0.8888888888888888,
              "#fdca26"
             ],
             [
              1,
              "#f0f921"
             ]
            ],
            "type": "surface"
           }
          ],
          "table": [
           {
            "cells": {
             "fill": {
              "color": "#EBF0F8"
             },
             "line": {
              "color": "white"
             }
            },
            "header": {
             "fill": {
              "color": "#C8D4E3"
             },
             "line": {
              "color": "white"
             }
            },
            "type": "table"
           }
          ]
         },
         "layout": {
          "annotationdefaults": {
           "arrowcolor": "#2a3f5f",
           "arrowhead": 0,
           "arrowwidth": 1
          },
          "autotypenumbers": "strict",
          "coloraxis": {
           "colorbar": {
            "outlinewidth": 0,
            "ticks": ""
           }
          },
          "colorscale": {
           "diverging": [
            [
             0,
             "#8e0152"
            ],
            [
             0.1,
             "#c51b7d"
            ],
            [
             0.2,
             "#de77ae"
            ],
            [
             0.3,
             "#f1b6da"
            ],
            [
             0.4,
             "#fde0ef"
            ],
            [
             0.5,
             "#f7f7f7"
            ],
            [
             0.6,
             "#e6f5d0"
            ],
            [
             0.7,
             "#b8e186"
            ],
            [
             0.8,
             "#7fbc41"
            ],
            [
             0.9,
             "#4d9221"
            ],
            [
             1,
             "#276419"
            ]
           ],
           "sequential": [
            [
             0,
             "#0d0887"
            ],
            [
             0.1111111111111111,
             "#46039f"
            ],
            [
             0.2222222222222222,
             "#7201a8"
            ],
            [
             0.3333333333333333,
             "#9c179e"
            ],
            [
             0.4444444444444444,
             "#bd3786"
            ],
            [
             0.5555555555555556,
             "#d8576b"
            ],
            [
             0.6666666666666666,
             "#ed7953"
            ],
            [
             0.7777777777777778,
             "#fb9f3a"
            ],
            [
             0.8888888888888888,
             "#fdca26"
            ],
            [
             1,
             "#f0f921"
            ]
           ],
           "sequentialminus": [
            [
             0,
             "#0d0887"
            ],
            [
             0.1111111111111111,
             "#46039f"
            ],
            [
             0.2222222222222222,
             "#7201a8"
            ],
            [
             0.3333333333333333,
             "#9c179e"
            ],
            [
             0.4444444444444444,
             "#bd3786"
            ],
            [
             0.5555555555555556,
             "#d8576b"
            ],
            [
             0.6666666666666666,
             "#ed7953"
            ],
            [
             0.7777777777777778,
             "#fb9f3a"
            ],
            [
             0.8888888888888888,
             "#fdca26"
            ],
            [
             1,
             "#f0f921"
            ]
           ]
          },
          "colorway": [
           "#636efa",
           "#EF553B",
           "#00cc96",
           "#ab63fa",
           "#FFA15A",
           "#19d3f3",
           "#FF6692",
           "#B6E880",
           "#FF97FF",
           "#FECB52"
          ],
          "font": {
           "color": "#2a3f5f"
          },
          "geo": {
           "bgcolor": "white",
           "lakecolor": "white",
           "landcolor": "#E5ECF6",
           "showlakes": true,
           "showland": true,
           "subunitcolor": "white"
          },
          "hoverlabel": {
           "align": "left"
          },
          "hovermode": "closest",
          "mapbox": {
           "style": "light"
          },
          "paper_bgcolor": "white",
          "plot_bgcolor": "#E5ECF6",
          "polar": {
           "angularaxis": {
            "gridcolor": "white",
            "linecolor": "white",
            "ticks": ""
           },
           "bgcolor": "#E5ECF6",
           "radialaxis": {
            "gridcolor": "white",
            "linecolor": "white",
            "ticks": ""
           }
          },
          "scene": {
           "xaxis": {
            "backgroundcolor": "#E5ECF6",
            "gridcolor": "white",
            "gridwidth": 2,
            "linecolor": "white",
            "showbackground": true,
            "ticks": "",
            "zerolinecolor": "white"
           },
           "yaxis": {
            "backgroundcolor": "#E5ECF6",
            "gridcolor": "white",
            "gridwidth": 2,
            "linecolor": "white",
            "showbackground": true,
            "ticks": "",
            "zerolinecolor": "white"
           },
           "zaxis": {
            "backgroundcolor": "#E5ECF6",
            "gridcolor": "white",
            "gridwidth": 2,
            "linecolor": "white",
            "showbackground": true,
            "ticks": "",
            "zerolinecolor": "white"
           }
          },
          "shapedefaults": {
           "line": {
            "color": "#2a3f5f"
           }
          },
          "ternary": {
           "aaxis": {
            "gridcolor": "white",
            "linecolor": "white",
            "ticks": ""
           },
           "baxis": {
            "gridcolor": "white",
            "linecolor": "white",
            "ticks": ""
           },
           "bgcolor": "#E5ECF6",
           "caxis": {
            "gridcolor": "white",
            "linecolor": "white",
            "ticks": ""
           }
          },
          "title": {
           "x": 0.05
          },
          "xaxis": {
           "automargin": true,
           "gridcolor": "white",
           "linecolor": "white",
           "ticks": "",
           "title": {
            "standoff": 15
           },
           "zerolinecolor": "white",
           "zerolinewidth": 2
          },
          "yaxis": {
           "automargin": true,
           "gridcolor": "white",
           "linecolor": "white",
           "ticks": "",
           "title": {
            "standoff": 15
           },
           "zerolinecolor": "white",
           "zerolinewidth": 2
          }
         }
        },
        "title": {
         "text": "Percent of Electricity generated using Wind"
        },
        "xaxis": {
         "anchor": "y",
         "domain": [
          0,
          1
         ],
         "title": {
          "text": "Date"
         }
        },
        "yaxis": {
         "anchor": "x",
         "domain": [
          0,
          1
         ],
         "title": {
          "text": "value"
         }
        }
       }
      }
     },
     "metadata": {}
    }
   ],
   "source": [
    "fig = px.line(wind_perc,title=\"Percent of Electricity generated using Wind\")\n",
    "fig.show()"
   ]
  },
  {
   "cell_type": "code",
   "execution_count": 59,
   "metadata": {},
   "outputs": [
    {
     "output_type": "execute_result",
     "data": {
      "text/plain": [
       "                  US         TX        CA        NY        FL         IA  \\\n",
       "Date                                                                       \n",
       "2001-01-01  0.180304   0.318726  1.762239  0.014272       NaN   1.199906   \n",
       "2002-01-01  0.268353   0.688773  2.064299  0.058475       NaN   2.160522   \n",
       "2003-01-01  0.288100   0.677704  2.020572  0.029933       NaN   2.331574   \n",
       "2004-01-01  0.356216   0.803919  2.210631  0.084405       NaN   2.427735   \n",
       "2005-01-01  0.439179   1.068198  2.127999  0.070115       NaN   3.730247   \n",
       "2006-01-01  0.654147   1.665202  2.252228  0.460668       NaN   5.095964   \n",
       "2007-01-01  0.828772   2.221098  2.648801  0.571349       NaN   5.536693   \n",
       "2008-01-01  1.343964   4.008279  2.589117  0.891307       NaN   7.692662   \n",
       "2009-01-01  1.870378   5.042226  2.851804  1.702087       NaN  14.308736   \n",
       "2010-01-01  2.294567   6.376421  2.977888  1.895533       NaN  15.945994   \n",
       "2011-01-01  2.931036   7.014858  3.860383  2.057071       NaN  18.997363   \n",
       "2012-01-01  3.478999   7.494936  4.888883  2.203444       NaN  24.759403   \n",
       "2013-01-01  4.127920   8.277633  6.408559  2.600338       NaN  27.471675   \n",
       "2014-01-01  4.437537   9.141319  6.535211  2.894066       NaN  28.682169   \n",
       "2015-01-01  4.677224   9.966816  6.217244  2.868820       NaN  31.544251   \n",
       "2016-01-01  5.568081  12.670651  6.858661  2.931308       NaN  36.902140   \n",
       "2017-01-01  6.303561  14.810475  6.220308  3.229570       NaN  36.907119   \n",
       "2018-01-01  6.525834  15.858395  7.174637  3.017143       NaN  33.660248   \n",
       "2019-01-01  7.167947  17.305503  6.806811  3.385843  0.000579  41.987508   \n",
       "2020-01-01  8.418625  19.556493  7.029678  3.752104       NaN  57.513725   \n",
       "\n",
       "                  PA        IL  \n",
       "Date                            \n",
       "2001-01-01  0.005685       NaN  \n",
       "2002-01-01  0.028273       NaN  \n",
       "2003-01-01  0.054045  0.009534  \n",
       "2004-01-01  0.142697  0.040672  \n",
       "2005-01-01  0.130331  0.072711  \n",
       "2006-01-01  0.165031  0.132295  \n",
       "2007-01-01  0.207891  0.331781  \n",
       "2008-01-01  0.328051  1.171572  \n",
       "2009-01-01  0.489661  1.454384  \n",
       "2010-01-01  0.806970  2.211866  \n",
       "2011-01-01  0.789419  3.114356  \n",
       "2012-01-01  0.952762  3.911014  \n",
       "2013-01-01  1.478067  4.741377  \n",
       "2014-01-01  1.612574  4.987979  \n",
       "2015-01-01  1.562491  5.541200  \n",
       "2016-01-01  1.616359  5.693568  \n",
       "2017-01-01  1.680667  6.682097  \n",
       "2018-01-01  1.656059  6.329134  \n",
       "2019-01-01  1.419461  7.838452  \n",
       "2020-01-01  1.676890  9.859291  "
      ],
      "text/html": "<div>\n<style scoped>\n    .dataframe tbody tr th:only-of-type {\n        vertical-align: middle;\n    }\n\n    .dataframe tbody tr th {\n        vertical-align: top;\n    }\n\n    .dataframe thead th {\n        text-align: right;\n    }\n</style>\n<table border=\"1\" class=\"dataframe\">\n  <thead>\n    <tr style=\"text-align: right;\">\n      <th></th>\n      <th>US</th>\n      <th>TX</th>\n      <th>CA</th>\n      <th>NY</th>\n      <th>FL</th>\n      <th>IA</th>\n      <th>PA</th>\n      <th>IL</th>\n    </tr>\n    <tr>\n      <th>Date</th>\n      <th></th>\n      <th></th>\n      <th></th>\n      <th></th>\n      <th></th>\n      <th></th>\n      <th></th>\n      <th></th>\n    </tr>\n  </thead>\n  <tbody>\n    <tr>\n      <th>2001-01-01</th>\n      <td>0.180304</td>\n      <td>0.318726</td>\n      <td>1.762239</td>\n      <td>0.014272</td>\n      <td>NaN</td>\n      <td>1.199906</td>\n      <td>0.005685</td>\n      <td>NaN</td>\n    </tr>\n    <tr>\n      <th>2002-01-01</th>\n      <td>0.268353</td>\n      <td>0.688773</td>\n      <td>2.064299</td>\n      <td>0.058475</td>\n      <td>NaN</td>\n      <td>2.160522</td>\n      <td>0.028273</td>\n      <td>NaN</td>\n    </tr>\n    <tr>\n      <th>2003-01-01</th>\n      <td>0.288100</td>\n      <td>0.677704</td>\n      <td>2.020572</td>\n      <td>0.029933</td>\n      <td>NaN</td>\n      <td>2.331574</td>\n      <td>0.054045</td>\n      <td>0.009534</td>\n    </tr>\n    <tr>\n      <th>2004-01-01</th>\n      <td>0.356216</td>\n      <td>0.803919</td>\n      <td>2.210631</td>\n      <td>0.084405</td>\n      <td>NaN</td>\n      <td>2.427735</td>\n      <td>0.142697</td>\n      <td>0.040672</td>\n    </tr>\n    <tr>\n      <th>2005-01-01</th>\n      <td>0.439179</td>\n      <td>1.068198</td>\n      <td>2.127999</td>\n      <td>0.070115</td>\n      <td>NaN</td>\n      <td>3.730247</td>\n      <td>0.130331</td>\n      <td>0.072711</td>\n    </tr>\n    <tr>\n      <th>2006-01-01</th>\n      <td>0.654147</td>\n      <td>1.665202</td>\n      <td>2.252228</td>\n      <td>0.460668</td>\n      <td>NaN</td>\n      <td>5.095964</td>\n      <td>0.165031</td>\n      <td>0.132295</td>\n    </tr>\n    <tr>\n      <th>2007-01-01</th>\n      <td>0.828772</td>\n      <td>2.221098</td>\n      <td>2.648801</td>\n      <td>0.571349</td>\n      <td>NaN</td>\n      <td>5.536693</td>\n      <td>0.207891</td>\n      <td>0.331781</td>\n    </tr>\n    <tr>\n      <th>2008-01-01</th>\n      <td>1.343964</td>\n      <td>4.008279</td>\n      <td>2.589117</td>\n      <td>0.891307</td>\n      <td>NaN</td>\n      <td>7.692662</td>\n      <td>0.328051</td>\n      <td>1.171572</td>\n    </tr>\n    <tr>\n      <th>2009-01-01</th>\n      <td>1.870378</td>\n      <td>5.042226</td>\n      <td>2.851804</td>\n      <td>1.702087</td>\n      <td>NaN</td>\n      <td>14.308736</td>\n      <td>0.489661</td>\n      <td>1.454384</td>\n    </tr>\n    <tr>\n      <th>2010-01-01</th>\n      <td>2.294567</td>\n      <td>6.376421</td>\n      <td>2.977888</td>\n      <td>1.895533</td>\n      <td>NaN</td>\n      <td>15.945994</td>\n      <td>0.806970</td>\n      <td>2.211866</td>\n    </tr>\n    <tr>\n      <th>2011-01-01</th>\n      <td>2.931036</td>\n      <td>7.014858</td>\n      <td>3.860383</td>\n      <td>2.057071</td>\n      <td>NaN</td>\n      <td>18.997363</td>\n      <td>0.789419</td>\n      <td>3.114356</td>\n    </tr>\n    <tr>\n      <th>2012-01-01</th>\n      <td>3.478999</td>\n      <td>7.494936</td>\n      <td>4.888883</td>\n      <td>2.203444</td>\n      <td>NaN</td>\n      <td>24.759403</td>\n      <td>0.952762</td>\n      <td>3.911014</td>\n    </tr>\n    <tr>\n      <th>2013-01-01</th>\n      <td>4.127920</td>\n      <td>8.277633</td>\n      <td>6.408559</td>\n      <td>2.600338</td>\n      <td>NaN</td>\n      <td>27.471675</td>\n      <td>1.478067</td>\n      <td>4.741377</td>\n    </tr>\n    <tr>\n      <th>2014-01-01</th>\n      <td>4.437537</td>\n      <td>9.141319</td>\n      <td>6.535211</td>\n      <td>2.894066</td>\n      <td>NaN</td>\n      <td>28.682169</td>\n      <td>1.612574</td>\n      <td>4.987979</td>\n    </tr>\n    <tr>\n      <th>2015-01-01</th>\n      <td>4.677224</td>\n      <td>9.966816</td>\n      <td>6.217244</td>\n      <td>2.868820</td>\n      <td>NaN</td>\n      <td>31.544251</td>\n      <td>1.562491</td>\n      <td>5.541200</td>\n    </tr>\n    <tr>\n      <th>2016-01-01</th>\n      <td>5.568081</td>\n      <td>12.670651</td>\n      <td>6.858661</td>\n      <td>2.931308</td>\n      <td>NaN</td>\n      <td>36.902140</td>\n      <td>1.616359</td>\n      <td>5.693568</td>\n    </tr>\n    <tr>\n      <th>2017-01-01</th>\n      <td>6.303561</td>\n      <td>14.810475</td>\n      <td>6.220308</td>\n      <td>3.229570</td>\n      <td>NaN</td>\n      <td>36.907119</td>\n      <td>1.680667</td>\n      <td>6.682097</td>\n    </tr>\n    <tr>\n      <th>2018-01-01</th>\n      <td>6.525834</td>\n      <td>15.858395</td>\n      <td>7.174637</td>\n      <td>3.017143</td>\n      <td>NaN</td>\n      <td>33.660248</td>\n      <td>1.656059</td>\n      <td>6.329134</td>\n    </tr>\n    <tr>\n      <th>2019-01-01</th>\n      <td>7.167947</td>\n      <td>17.305503</td>\n      <td>6.806811</td>\n      <td>3.385843</td>\n      <td>0.000579</td>\n      <td>41.987508</td>\n      <td>1.419461</td>\n      <td>7.838452</td>\n    </tr>\n    <tr>\n      <th>2020-01-01</th>\n      <td>8.418625</td>\n      <td>19.556493</td>\n      <td>7.029678</td>\n      <td>3.752104</td>\n      <td>NaN</td>\n      <td>57.513725</td>\n      <td>1.676890</td>\n      <td>9.859291</td>\n    </tr>\n  </tbody>\n</table>\n</div>"
     },
     "metadata": {},
     "execution_count": 59
    }
   ],
   "source": [
    "wind_perc"
   ]
  },
  {
   "cell_type": "code",
   "execution_count": null,
   "metadata": {},
   "outputs": [],
   "source": []
  }
 ]
}