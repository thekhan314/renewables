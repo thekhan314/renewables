{
 "metadata": {
  "language_info": {
   "codemirror_mode": {
    "name": "ipython",
    "version": 3
   },
   "file_extension": ".py",
   "mimetype": "text/x-python",
   "name": "python",
   "nbconvert_exporter": "python",
   "pygments_lexer": "ipython3",
   "version": "3.8.5"
  },
  "orig_nbformat": 2,
  "kernelspec": {
   "name": "python385jvsc74a57bd04a89d834f181da135a83e9734ffdcaaf33420f492c3282f1c3fbdbf98351b290",
   "display_name": "Python 3.8.5 64-bit ('base': conda)"
  },
  "metadata": {
   "interpreter": {
    "hash": "4a89d834f181da135a83e9734ffdcaaf33420f492c3282f1c3fbdbf98351b290"
   }
  }
 },
 "nbformat": 4,
 "nbformat_minor": 2,
 "cells": [
  {
   "source": [
    "# SDG 7\n"
   ],
   "cell_type": "markdown",
   "metadata": {}
  },
  {
   "source": [
    "1. Ensure access to affordable reliable modern energy\n",
    "2. Increaase substantially the share of renewable energy \n",
    "3. Double rate of improvement in final energy consumption\n",
    "4. "
   ],
   "cell_type": "markdown",
   "metadata": {}
  },
  {
   "source": [
    "https://www.forbes.com/sites/joshuarhodes/2020/09/25/even-renewables-are-bigger-in-texas/?sh=43b2253c6a9a\n",
    "https://www.eia.gov/todayinenergy/detail.php?id=40252\n",
    "https://www.eia.gov/state/rankings/#/series/51\n",
    "\n",
    "decline of coal?"
   ],
   "cell_type": "markdown",
   "metadata": {}
  },
  {
   "cell_type": "code",
   "execution_count": 7,
   "metadata": {},
   "outputs": [
    {
     "output_type": "stream",
     "name": "stdout",
     "text": [
      "Requirement already satisfied: plotly in /home/umar/anaconda3/lib/python3.8/site-packages (4.14.3)\nRequirement already satisfied: retrying>=1.3.3 in /home/umar/anaconda3/lib/python3.8/site-packages (from plotly) (1.3.3)\nRequirement already satisfied: six in /home/umar/anaconda3/lib/python3.8/site-packages (from plotly) (1.15.0)\n"
     ]
    }
   ],
   "source": [
    "from data_functions import EIA_Series\n",
    "import seaborn as sns\n",
    "!pip install plotly\n",
    "import plotly as plt\n",
    "import plotly_express as px\n"
   ]
  },
  {
   "source": [
    "#  Texas - All renewables\n"
   ],
   "cell_type": "markdown",
   "metadata": {}
  },
  {
   "cell_type": "code",
   "execution_count": 35,
   "metadata": {},
   "outputs": [],
   "source": [
    "all_series = {\n",
    "    'us':{\n",
    "        'all':'ELEC.GEN.ALL-US-99.A ',\n",
    "        'wind':'ELEC.GEN.WND-US-99.A',\n",
    "        'solar':'ELEC.GEN.TSN-US-99.A',\n",
    "        'natgas':'ELEC.GEN.NG-US-99.A',\n",
    "        'nuclear':'ELEC.GEN.NUC-US-99.A ',\n",
    "        'coal':'ELEC.GEN.COW-US-99.A'\n",
    "    },\n",
    "    'tx':{\n",
    "        'all':'ELEC.GEN.ALL-TX-99.A ',\n",
    "        'wind':'ELEC.GEN.WND-TX-99.A',\n",
    "        'solar':'ELEC.GEN.TSN-TX-99.A',\n",
    "        'natgas':'ELEC.GEN.NG-TX-99.A',\n",
    "        'nuclear':'ELEC.GEN.NUC-TX-99.A',\n",
    "        'coal':'ELEC.GEN.COW-TX-99.A'\n",
    "    },\n",
    "    'ca':{\n",
    "        'all':'ELEC.GEN.ALL-CA-99.A',\n",
    "        'wind':'ELEC.GEN.WND-CA-99.A',\n",
    "        'solar':'ELEC.GEN.TSN-CA-99.A',\n",
    "        'natgas':'ELEC.GEN.NG-CA-99.A',\n",
    "        'nuclear':'ELEC.GEN.NUC-CA-99.A',\n",
    "        'coal':'ELEC.GEN.COW-CA-99.A'\n",
    "\n",
    "    },\n",
    "    'ny':{\n",
    "        'all':'ELEC.GEN.ALL-NY-99.A',\n",
    "        'wind':'ELEC.GEN.WND-NY-99.A',\n",
    "        'solar':'ELEC.GEN.TSN-NY-99.A',\n",
    "        'natgas':'ELEC.GEN.NG-NY-99.A ',\n",
    "        'nuclear':'ELEC.GEN.NUC-NY-99.A',\n",
    "        'coal':'ELEC.GEN.COW-NY-99.A'\n",
    "    },\n",
    "    'fl':{\n",
    "        'all':'ELEC.GEN.ALL-FL-99.A',\n",
    "        'wind':'ELEC.GEN.WND-FL-99.A',\n",
    "        'solar':'ELEC.GEN.TSN-FL-99.A',\n",
    "        'natgas':'ELEC.GEN.NG-FL-99.A',\n",
    "        'nuclear':'ELEC.GEN.NUC-FL-99.A',\n",
    "        'coal':'ELEC.GEN.COW-FL-99.A'\n",
    "\n",
    "    },\n",
    "    'iw':{\n",
    "        'all':'ELEC.GEN.ALL-IA-99.A',\n",
    "        'wind':'ELEC.GEN.WND-IA-99.A',\n",
    "        'solar':'ELEC.GEN.TSN-IA-99.A',\n",
    "        'natgas':'ELEC.GEN.NG-IA-99.A',\n",
    "        'nuclear':'ELEC.GEN.NUC-IA-99.A',\n",
    "        'coal':'ELEC.GEN.COW-IA-99.A'\n",
    "\n",
    "    }\n",
    "\n",
    "}"
   ]
  },
  {
   "cell_type": "code",
   "execution_count": null,
   "metadata": {},
   "outputs": [],
   "source": [
    "master = {}\n",
    "states = ['US','TX','CA','NY','FL','IA','PA']\n",
    "sources = ['ALL','WND','TSN','NG','NUC','COW','HYC']"
   ]
  },
  {
   "cell_type": "code",
   "execution_count": 36,
   "metadata": {},
   "outputs": [],
   "source": [
    "import pandas as pd\n",
    "regions = pd.DataFrame()\n",
    "wind_abs = pd.DataFrame()\n",
    "wind_perc = pd.DataFrame()\n",
    "solar_abs = pd.DataFrame()\n",
    "solar_perc = pd.DataFrame()\n",
    "natgas_perc = pd.DataFrame()\n",
    "\n",
    "sources = ['all','wind','solar','natgas','nuclear','coal']\n",
    "\n",
    "for key,item in all_series.items():\n",
    "\n",
    "    eia_classes = {}\n",
    "\n",
    "    for source in sources:\n",
    "        eia_classes[source] = EIA_Series(item[source],name = key,date_format='%Y')\n",
    "\n",
    "        try:\n",
    "            regions.loc[key,source] = eia_classes[source].frame.loc['2020-01-01',key]\n",
    "        except:\n",
    "            regions.loc[key,source] = 0\n",
    "\n",
    "    wind_abs[key] = eia_classes['wind'].frame[key]\n",
    "    wind_perc[key] = (eia_classes['wind'].frame[key]/eia_classes['all'].frame[key])*100\n",
    "    solar_abs[key] = eia_classes['solar'].frame[key]\n",
    "    solar_perc[key] = (eia_classes['solar'].frame[key]/eia_classes['all'].frame[key])*100\n",
    "\n",
    "regions_perc = regions.copy()\n",
    "\n",
    "def get_perc(row):\n",
    "    sources = ['wind','solar','natgas','nuclear','coal']\n",
    "\n",
    "    known_sources = 0\n",
    "    for source in sources:\n",
    "        row[source] = round((row[source]/row['all'])*100,2)\n",
    "        known_sources += row[source]\n",
    "\n",
    "    row['known_sources'] = known_sources\n",
    "    row['other'] = 100 - known_sources\n",
    "\n",
    "    return row\n",
    "\n",
    "regions_perc = regions_perc.apply(lambda row:get_perc(row),axis=1)\n"
   ]
  },
  {
   "cell_type": "code",
   "execution_count": 37,
   "metadata": {},
   "outputs": [],
   "source": [
    "regions_perc = regions.copy()\n",
    "\n",
    "def get_perc(row):\n",
    "    sources = ['wind','solar','natgas','nuclear','coal']\n",
    "\n",
    "    known_sources = 0\n",
    "    for source in sources:\n",
    "        row[source] = round((row[source]/row['all'])*100,2)\n",
    "        known_sources += row[source]\n",
    "\n",
    "    row['known_sources'] = known_sources\n",
    "    row['other'] = 100 - known_sources\n",
    "\n",
    "    return row\n",
    "\n",
    "regions_perc = regions_perc.apply(lambda row:get_perc(row),axis=1)\n",
    "\n"
   ]
  },
  {
   "cell_type": "code",
   "execution_count": 38,
   "metadata": {},
   "outputs": [
    {
     "output_type": "execute_result",
     "data": {
      "text/plain": [
       "             all   wind  solar  natgas  nuclear   coal  known_sources  other\n",
       "us  4.009085e+06   8.42   3.31   40.33    19.70  19.30          91.06   8.94\n",
       "tx  4.754914e+05  19.56   2.00   52.14     8.71  16.58          98.99   1.01\n",
       "ca  1.941103e+05   7.03  24.73   47.32     8.38   0.15          87.61  12.39\n",
       "ny  1.319818e+05   3.75   2.59   40.15    29.15   0.11          75.75  24.25\n",
       "fl  2.496577e+05   0.00   3.08   75.31    11.78   6.68          96.85   3.15\n",
       "iw  5.937613e+04  57.51   0.40   11.72     4.89  23.84          98.36   1.64"
      ],
      "text/html": "<div>\n<style scoped>\n    .dataframe tbody tr th:only-of-type {\n        vertical-align: middle;\n    }\n\n    .dataframe tbody tr th {\n        vertical-align: top;\n    }\n\n    .dataframe thead th {\n        text-align: right;\n    }\n</style>\n<table border=\"1\" class=\"dataframe\">\n  <thead>\n    <tr style=\"text-align: right;\">\n      <th></th>\n      <th>all</th>\n      <th>wind</th>\n      <th>solar</th>\n      <th>natgas</th>\n      <th>nuclear</th>\n      <th>coal</th>\n      <th>known_sources</th>\n      <th>other</th>\n    </tr>\n  </thead>\n  <tbody>\n    <tr>\n      <th>us</th>\n      <td>4.009085e+06</td>\n      <td>8.42</td>\n      <td>3.31</td>\n      <td>40.33</td>\n      <td>19.70</td>\n      <td>19.30</td>\n      <td>91.06</td>\n      <td>8.94</td>\n    </tr>\n    <tr>\n      <th>tx</th>\n      <td>4.754914e+05</td>\n      <td>19.56</td>\n      <td>2.00</td>\n      <td>52.14</td>\n      <td>8.71</td>\n      <td>16.58</td>\n      <td>98.99</td>\n      <td>1.01</td>\n    </tr>\n    <tr>\n      <th>ca</th>\n      <td>1.941103e+05</td>\n      <td>7.03</td>\n      <td>24.73</td>\n      <td>47.32</td>\n      <td>8.38</td>\n      <td>0.15</td>\n      <td>87.61</td>\n      <td>12.39</td>\n    </tr>\n    <tr>\n      <th>ny</th>\n      <td>1.319818e+05</td>\n      <td>3.75</td>\n      <td>2.59</td>\n      <td>40.15</td>\n      <td>29.15</td>\n      <td>0.11</td>\n      <td>75.75</td>\n      <td>24.25</td>\n    </tr>\n    <tr>\n      <th>fl</th>\n      <td>2.496577e+05</td>\n      <td>0.00</td>\n      <td>3.08</td>\n      <td>75.31</td>\n      <td>11.78</td>\n      <td>6.68</td>\n      <td>96.85</td>\n      <td>3.15</td>\n    </tr>\n    <tr>\n      <th>iw</th>\n      <td>5.937613e+04</td>\n      <td>57.51</td>\n      <td>0.40</td>\n      <td>11.72</td>\n      <td>4.89</td>\n      <td>23.84</td>\n      <td>98.36</td>\n      <td>1.64</td>\n    </tr>\n  </tbody>\n</table>\n</div>"
     },
     "metadata": {},
     "execution_count": 38
    }
   ],
   "source": [
    "regions_perc\n"
   ]
  },
  {
   "cell_type": "code",
   "execution_count": null,
   "metadata": {},
   "outputs": [],
   "source": []
  },
  {
   "cell_type": "code",
   "execution_count": null,
   "metadata": {},
   "outputs": [],
   "source": [
    "px.line(solar_abs)\n"
   ]
  },
  {
   "cell_type": "code",
   "execution_count": null,
   "metadata": {},
   "outputs": [],
   "source": [
    "solar_perc"
   ]
  },
  {
   "cell_type": "code",
   "execution_count": null,
   "metadata": {},
   "outputs": [],
   "source": []
  }
 ]
}