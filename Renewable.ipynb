{
 "metadata": {
  "language_info": {
   "codemirror_mode": {
    "name": "ipython",
    "version": 3
   },
   "file_extension": ".py",
   "mimetype": "text/x-python",
   "name": "python",
   "nbconvert_exporter": "python",
   "pygments_lexer": "ipython3",
   "version": "3.8.5"
  },
  "orig_nbformat": 2,
  "kernelspec": {
   "name": "python385jvsc74a57bd04a89d834f181da135a83e9734ffdcaaf33420f492c3282f1c3fbdbf98351b290",
   "display_name": "Python 3.8.5 64-bit ('base': conda)"
  },
  "metadata": {
   "interpreter": {
    "hash": "4a89d834f181da135a83e9734ffdcaaf33420f492c3282f1c3fbdbf98351b290"
   }
  }
 },
 "nbformat": 4,
 "nbformat_minor": 2,
 "cells": [
  {
   "source": [
    "# SDG 7\n"
   ],
   "cell_type": "markdown",
   "metadata": {}
  },
  {
   "source": [
    "1. Ensure access to affordable reliable modern energy\n",
    "2. Increaase substantially the share of renewable energy \n",
    "3. Double rate of improvement in final energy consumption\n",
    "4. "
   ],
   "cell_type": "markdown",
   "metadata": {}
  },
  {
   "source": [
    "https://www.forbes.com/sites/joshuarhodes/2020/09/25/even-renewables-are-bigger-in-texas/?sh=43b2253c6a9a\n",
    "https://www.eia.gov/todayinenergy/detail.php?id=40252"
   ],
   "cell_type": "markdown",
   "metadata": {}
  },
  {
   "cell_type": "code",
   "execution_count": 1,
   "metadata": {},
   "outputs": [],
   "source": [
    "from data_functions import EIA_Series\n",
    "import seaborn as sns\n"
   ]
  },
  {
   "source": [
    "#  Texas - All renewables\n"
   ],
   "cell_type": "markdown",
   "metadata": {}
  },
  {
   "cell_type": "code",
   "execution_count": 2,
   "metadata": {},
   "outputs": [],
   "source": [
    "all_series = {\n",
    "    'us':{\n",
    "        'all':'ELEC.GEN.ALL-US-99.M ',\n",
    "        'wind':'ELEC.GEN.WND-US-99.M',\n",
    "        'solar':'ELEC.GEN.TSN-US-99.M'\n",
    "    },\n",
    "    'tx':{\n",
    "        'all':'ELEC.GEN.ALL-TX-99.M ',\n",
    "        'wind':'ELEC.GEN.WND-TX-99.M',\n",
    "        'solar':'ELEC.GEN.TSN-TX-99.M'\n",
    "    },\n",
    "    'ca':{\n",
    "        'all':'ELEC.GEN.ALL-CA-99.M',\n",
    "        'wind':'ELEC.GEN.WND-CA-99.M',\n",
    "        'solar':'ELEC.GEN.TSN-CA-99.M'\n",
    "\n",
    "    },\n",
    "    'ny':{\n",
    "        'all':'ELEC.GEN.ALL-NY-99.M',\n",
    "        'wind':'ELEC.GEN.WND-NY-99.M',\n",
    "        'solar':'ELEC.GEN.TSN-NY-99.M'\n",
    "    },\n",
    "    'fl':{\n",
    "        'all':'ELEC.GEN.ALL-FL-99.M',\n",
    "        'wind':'ELEC.GEN.WND-FL-99.M',\n",
    "        'solar':'ELEC.GEN.TSN-FL-99.M'\n",
    "\n",
    "    },\n",
    "    'iw':{\n",
    "        'all':'ELEC.GEN.ALL-IA-99.M ',\n",
    "        'wind':'ELEC.GEN.WND-IA-99.M ',\n",
    "        'solar':'ELEC.GEN.TSN-IA-99.M'\n",
    "    },\n",
    "\n",
    "}"
   ]
  },
  {
   "cell_type": "code",
   "execution_count": 3,
   "metadata": {},
   "outputs": [],
   "source": [
    "import pandas as pd\n",
    "wind_abs = pd.DataFrame()\n",
    "wind_perc = pd.DataFrame()\n",
    "solar_abs = pd.DataFrame()\n",
    "solar_perc = pd.DataFrame()\n",
    "\n",
    "for key,item in all_series.items():\n",
    "\n",
    "    all = EIA_Series(\n",
    "    item['all'],\n",
    "    name = key,\n",
    "    date_format='%Y%m',\n",
    "    )\n",
    "\n",
    "    wind = EIA_Series(\n",
    "    item['wind'],\n",
    "    name = key,\n",
    "    date_format='%Y%m',\n",
    "    )\n",
    "\n",
    "    solar = EIA_Series(\n",
    "    item['solar'],\n",
    "    name = key,\n",
    "    date_format='%Y%m',\n",
    "    )\n",
    "\n",
    "    wind_abs[key] = wind.frame[key]\n",
    "    wind_perc[key] = (wind.frame[key]/all.frame[key])*100\n",
    "    solar_abs[key] = solar.frame[key]\n",
    "    solar_perc[key] = (solar.frame[key]/all.frame[key])*100\n",
    "\n"
   ]
  },
  {
   "cell_type": "code",
   "execution_count": 5,
   "metadata": {},
   "outputs": [
    {
     "output_type": "execute_result",
     "data": {
      "text/plain": [
       "                   us         tx        ca        ny  fl         iw\n",
       "Date                                                               \n",
       "2001-01-01   0.117070   0.270734  0.802840  0.012011 NaN   1.160059\n",
       "2001-02-01   0.152415   0.552736  1.026565  0.012819 NaN   1.020606\n",
       "2001-03-01   0.176957   0.317730  1.892554  0.013678 NaN   1.048829\n",
       "2001-04-01   0.246223   0.420162  2.478837  0.016043 NaN   1.849466\n",
       "2001-05-01   0.211330   0.327108  2.237802  0.014741 NaN   1.672086\n",
       "...               ...        ...       ...       ...  ..        ...\n",
       "2020-09-01   6.899865  13.845387  4.516325  3.192794 NaN  61.286363\n",
       "2020-10-01   9.200232  20.214267  6.434736  4.175385 NaN  69.874017\n",
       "2020-11-01  11.134365  23.637707  8.091442  5.297971 NaN  80.955109\n",
       "2020-12-01   9.409939  22.569465  7.635065  4.152714 NaN  58.996369\n",
       "2021-01-01   8.673347  20.716355  7.995197  2.988560 NaN  56.223228\n",
       "\n",
       "[241 rows x 6 columns]"
      ],
      "text/html": "<div>\n<style scoped>\n    .dataframe tbody tr th:only-of-type {\n        vertical-align: middle;\n    }\n\n    .dataframe tbody tr th {\n        vertical-align: top;\n    }\n\n    .dataframe thead th {\n        text-align: right;\n    }\n</style>\n<table border=\"1\" class=\"dataframe\">\n  <thead>\n    <tr style=\"text-align: right;\">\n      <th></th>\n      <th>us</th>\n      <th>tx</th>\n      <th>ca</th>\n      <th>ny</th>\n      <th>fl</th>\n      <th>iw</th>\n    </tr>\n    <tr>\n      <th>Date</th>\n      <th></th>\n      <th></th>\n      <th></th>\n      <th></th>\n      <th></th>\n      <th></th>\n    </tr>\n  </thead>\n  <tbody>\n    <tr>\n      <th>2001-01-01</th>\n      <td>0.117070</td>\n      <td>0.270734</td>\n      <td>0.802840</td>\n      <td>0.012011</td>\n      <td>NaN</td>\n      <td>1.160059</td>\n    </tr>\n    <tr>\n      <th>2001-02-01</th>\n      <td>0.152415</td>\n      <td>0.552736</td>\n      <td>1.026565</td>\n      <td>0.012819</td>\n      <td>NaN</td>\n      <td>1.020606</td>\n    </tr>\n    <tr>\n      <th>2001-03-01</th>\n      <td>0.176957</td>\n      <td>0.317730</td>\n      <td>1.892554</td>\n      <td>0.013678</td>\n      <td>NaN</td>\n      <td>1.048829</td>\n    </tr>\n    <tr>\n      <th>2001-04-01</th>\n      <td>0.246223</td>\n      <td>0.420162</td>\n      <td>2.478837</td>\n      <td>0.016043</td>\n      <td>NaN</td>\n      <td>1.849466</td>\n    </tr>\n    <tr>\n      <th>2001-05-01</th>\n      <td>0.211330</td>\n      <td>0.327108</td>\n      <td>2.237802</td>\n      <td>0.014741</td>\n      <td>NaN</td>\n      <td>1.672086</td>\n    </tr>\n    <tr>\n      <th>...</th>\n      <td>...</td>\n      <td>...</td>\n      <td>...</td>\n      <td>...</td>\n      <td>...</td>\n      <td>...</td>\n    </tr>\n    <tr>\n      <th>2020-09-01</th>\n      <td>6.899865</td>\n      <td>13.845387</td>\n      <td>4.516325</td>\n      <td>3.192794</td>\n      <td>NaN</td>\n      <td>61.286363</td>\n    </tr>\n    <tr>\n      <th>2020-10-01</th>\n      <td>9.200232</td>\n      <td>20.214267</td>\n      <td>6.434736</td>\n      <td>4.175385</td>\n      <td>NaN</td>\n      <td>69.874017</td>\n    </tr>\n    <tr>\n      <th>2020-11-01</th>\n      <td>11.134365</td>\n      <td>23.637707</td>\n      <td>8.091442</td>\n      <td>5.297971</td>\n      <td>NaN</td>\n      <td>80.955109</td>\n    </tr>\n    <tr>\n      <th>2020-12-01</th>\n      <td>9.409939</td>\n      <td>22.569465</td>\n      <td>7.635065</td>\n      <td>4.152714</td>\n      <td>NaN</td>\n      <td>58.996369</td>\n    </tr>\n    <tr>\n      <th>2021-01-01</th>\n      <td>8.673347</td>\n      <td>20.716355</td>\n      <td>7.995197</td>\n      <td>2.988560</td>\n      <td>NaN</td>\n      <td>56.223228</td>\n    </tr>\n  </tbody>\n</table>\n<p>241 rows × 6 columns</p>\n</div>"
     },
     "metadata": {},
     "execution_count": 5
    }
   ],
   "source": [
    "wind_perc"
   ]
  },
  {
   "cell_type": "code",
   "execution_count": 7,
   "metadata": {},
   "outputs": [
    {
     "output_type": "error",
     "ename": "ModuleNotFoundError",
     "evalue": "No module named 'plotly'",
     "traceback": [
      "\u001b[0;31m---------------------------------------------------------------------------\u001b[0m",
      "\u001b[0;31mModuleNotFoundError\u001b[0m                       Traceback (most recent call last)",
      "\u001b[0;32m<ipython-input-7-6361d2547ebc>\u001b[0m in \u001b[0;36m<module>\u001b[0;34m\u001b[0m\n\u001b[0;32m----> 1\u001b[0;31m \u001b[0;32mimport\u001b[0m \u001b[0mplotly\u001b[0m\u001b[0;34m\u001b[0m\u001b[0;34m\u001b[0m\u001b[0m\n\u001b[0m",
      "\u001b[0;31mModuleNotFoundError\u001b[0m: No module named 'plotly'"
     ]
    }
   ],
   "source": [
    "import plotly"
   ]
  },
  {
   "cell_type": "code",
   "execution_count": 1,
   "metadata": {},
   "outputs": [
    {
     "output_type": "error",
     "ename": "ModuleNotFoundError",
     "evalue": "No module named 'plotly_express'",
     "traceback": [
      "\u001b[0;31m---------------------------------------------------------------------------\u001b[0m",
      "\u001b[0;31mModuleNotFoundError\u001b[0m                       Traceback (most recent call last)",
      "\u001b[0;32m<ipython-input-1-25473f099c70>\u001b[0m in \u001b[0;36m<module>\u001b[0;34m\u001b[0m\n\u001b[0;32m----> 1\u001b[0;31m \u001b[0;32mimport\u001b[0m \u001b[0mplotly_express\u001b[0m \u001b[0;32mas\u001b[0m \u001b[0mpx\u001b[0m\u001b[0;34m\u001b[0m\u001b[0;34m\u001b[0m\u001b[0m\n\u001b[0m\u001b[1;32m      2\u001b[0m \u001b[0;34m\u001b[0m\u001b[0m\n\u001b[1;32m      3\u001b[0m \u001b[0mfig\u001b[0m \u001b[0;34m=\u001b[0m \u001b[0mpx\u001b[0m\u001b[0;34m.\u001b[0m\u001b[0mscatter\u001b[0m\u001b[0;34m(\u001b[0m\u001b[0mwind_abs\u001b[0m\u001b[0;34m)\u001b[0m\u001b[0;34m\u001b[0m\u001b[0;34m\u001b[0m\u001b[0m\n",
      "\u001b[0;31mModuleNotFoundError\u001b[0m: No module named 'plotly_express'"
     ]
    }
   ],
   "source": [
    "import plotly_express as px\n",
    "\n",
    "fig = px.scatter(wind_abs)"
   ]
  },
  {
   "cell_type": "code",
   "execution_count": null,
   "metadata": {},
   "outputs": [],
   "source": [
    "print(series)"
   ]
  }
 ]
}